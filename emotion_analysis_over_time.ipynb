{
 "cells": [
  {
   "cell_type": "code",
   "execution_count": 2,
   "metadata": {},
   "outputs": [],
   "source": [
    "import pandas as pd"
   ]
  },
  {
   "cell_type": "code",
   "execution_count": 3,
   "metadata": {},
   "outputs": [],
   "source": [
    "original_dataset = pd.read_csv('./raw_data/Music_Dataset_Lyrics_and_Metadata_from_1950_to_2019/tcc_ceds_music.csv')"
   ]
  },
  {
   "cell_type": "code",
   "execution_count": 4,
   "metadata": {},
   "outputs": [
    {
     "data": {
      "text/html": [
       "<div>\n",
       "<style scoped>\n",
       "    .dataframe tbody tr th:only-of-type {\n",
       "        vertical-align: middle;\n",
       "    }\n",
       "\n",
       "    .dataframe tbody tr th {\n",
       "        vertical-align: top;\n",
       "    }\n",
       "\n",
       "    .dataframe thead th {\n",
       "        text-align: right;\n",
       "    }\n",
       "</style>\n",
       "<table border=\"1\" class=\"dataframe\">\n",
       "  <thead>\n",
       "    <tr style=\"text-align: right;\">\n",
       "      <th></th>\n",
       "      <th>Unnamed: 0</th>\n",
       "      <th>artist_name</th>\n",
       "      <th>track_name</th>\n",
       "      <th>release_date</th>\n",
       "      <th>genre</th>\n",
       "      <th>lyrics</th>\n",
       "      <th>len</th>\n",
       "      <th>dating</th>\n",
       "      <th>violence</th>\n",
       "      <th>world/life</th>\n",
       "      <th>...</th>\n",
       "      <th>sadness</th>\n",
       "      <th>feelings</th>\n",
       "      <th>danceability</th>\n",
       "      <th>loudness</th>\n",
       "      <th>acousticness</th>\n",
       "      <th>instrumentalness</th>\n",
       "      <th>valence</th>\n",
       "      <th>energy</th>\n",
       "      <th>topic</th>\n",
       "      <th>age</th>\n",
       "    </tr>\n",
       "  </thead>\n",
       "  <tbody>\n",
       "    <tr>\n",
       "      <th>0</th>\n",
       "      <td>0</td>\n",
       "      <td>mukesh</td>\n",
       "      <td>mohabbat bhi jhoothi</td>\n",
       "      <td>1950</td>\n",
       "      <td>pop</td>\n",
       "      <td>hold time feel break feel untrue convince spea...</td>\n",
       "      <td>95</td>\n",
       "      <td>0.000598</td>\n",
       "      <td>0.063746</td>\n",
       "      <td>0.000598</td>\n",
       "      <td>...</td>\n",
       "      <td>0.380299</td>\n",
       "      <td>0.117175</td>\n",
       "      <td>0.357739</td>\n",
       "      <td>0.454119</td>\n",
       "      <td>0.997992</td>\n",
       "      <td>0.901822</td>\n",
       "      <td>0.339448</td>\n",
       "      <td>0.137110</td>\n",
       "      <td>sadness</td>\n",
       "      <td>1.0</td>\n",
       "    </tr>\n",
       "    <tr>\n",
       "      <th>1</th>\n",
       "      <td>4</td>\n",
       "      <td>frankie laine</td>\n",
       "      <td>i believe</td>\n",
       "      <td>1950</td>\n",
       "      <td>pop</td>\n",
       "      <td>believe drop rain fall grow believe darkest ni...</td>\n",
       "      <td>51</td>\n",
       "      <td>0.035537</td>\n",
       "      <td>0.096777</td>\n",
       "      <td>0.443435</td>\n",
       "      <td>...</td>\n",
       "      <td>0.001284</td>\n",
       "      <td>0.001284</td>\n",
       "      <td>0.331745</td>\n",
       "      <td>0.647540</td>\n",
       "      <td>0.954819</td>\n",
       "      <td>0.000002</td>\n",
       "      <td>0.325021</td>\n",
       "      <td>0.263240</td>\n",
       "      <td>world/life</td>\n",
       "      <td>1.0</td>\n",
       "    </tr>\n",
       "    <tr>\n",
       "      <th>2</th>\n",
       "      <td>6</td>\n",
       "      <td>johnnie ray</td>\n",
       "      <td>cry</td>\n",
       "      <td>1950</td>\n",
       "      <td>pop</td>\n",
       "      <td>sweetheart send letter goodbye secret feel bet...</td>\n",
       "      <td>24</td>\n",
       "      <td>0.002770</td>\n",
       "      <td>0.002770</td>\n",
       "      <td>0.002770</td>\n",
       "      <td>...</td>\n",
       "      <td>0.002770</td>\n",
       "      <td>0.225422</td>\n",
       "      <td>0.456298</td>\n",
       "      <td>0.585288</td>\n",
       "      <td>0.840361</td>\n",
       "      <td>0.000000</td>\n",
       "      <td>0.351814</td>\n",
       "      <td>0.139112</td>\n",
       "      <td>music</td>\n",
       "      <td>1.0</td>\n",
       "    </tr>\n",
       "    <tr>\n",
       "      <th>3</th>\n",
       "      <td>10</td>\n",
       "      <td>pérez prado</td>\n",
       "      <td>patricia</td>\n",
       "      <td>1950</td>\n",
       "      <td>pop</td>\n",
       "      <td>kiss lips want stroll charm mambo chacha merin...</td>\n",
       "      <td>54</td>\n",
       "      <td>0.048249</td>\n",
       "      <td>0.001548</td>\n",
       "      <td>0.001548</td>\n",
       "      <td>...</td>\n",
       "      <td>0.225889</td>\n",
       "      <td>0.001548</td>\n",
       "      <td>0.686992</td>\n",
       "      <td>0.744404</td>\n",
       "      <td>0.083935</td>\n",
       "      <td>0.199393</td>\n",
       "      <td>0.775350</td>\n",
       "      <td>0.743736</td>\n",
       "      <td>romantic</td>\n",
       "      <td>1.0</td>\n",
       "    </tr>\n",
       "    <tr>\n",
       "      <th>4</th>\n",
       "      <td>12</td>\n",
       "      <td>giorgos papadopoulos</td>\n",
       "      <td>apopse eida oneiro</td>\n",
       "      <td>1950</td>\n",
       "      <td>pop</td>\n",
       "      <td>till darling till matter know till dream live ...</td>\n",
       "      <td>48</td>\n",
       "      <td>0.001350</td>\n",
       "      <td>0.001350</td>\n",
       "      <td>0.417772</td>\n",
       "      <td>...</td>\n",
       "      <td>0.068800</td>\n",
       "      <td>0.001350</td>\n",
       "      <td>0.291671</td>\n",
       "      <td>0.646489</td>\n",
       "      <td>0.975904</td>\n",
       "      <td>0.000246</td>\n",
       "      <td>0.597073</td>\n",
       "      <td>0.394375</td>\n",
       "      <td>romantic</td>\n",
       "      <td>1.0</td>\n",
       "    </tr>\n",
       "  </tbody>\n",
       "</table>\n",
       "<p>5 rows × 31 columns</p>\n",
       "</div>"
      ],
      "text/plain": [
       "   Unnamed: 0           artist_name            track_name  release_date genre  \\\n",
       "0           0                mukesh  mohabbat bhi jhoothi          1950   pop   \n",
       "1           4         frankie laine             i believe          1950   pop   \n",
       "2           6           johnnie ray                   cry          1950   pop   \n",
       "3          10           pérez prado              patricia          1950   pop   \n",
       "4          12  giorgos papadopoulos    apopse eida oneiro          1950   pop   \n",
       "\n",
       "                                              lyrics  len    dating  violence  \\\n",
       "0  hold time feel break feel untrue convince spea...   95  0.000598  0.063746   \n",
       "1  believe drop rain fall grow believe darkest ni...   51  0.035537  0.096777   \n",
       "2  sweetheart send letter goodbye secret feel bet...   24  0.002770  0.002770   \n",
       "3  kiss lips want stroll charm mambo chacha merin...   54  0.048249  0.001548   \n",
       "4  till darling till matter know till dream live ...   48  0.001350  0.001350   \n",
       "\n",
       "   world/life  ...   sadness  feelings  danceability  loudness  acousticness  \\\n",
       "0    0.000598  ...  0.380299  0.117175      0.357739  0.454119      0.997992   \n",
       "1    0.443435  ...  0.001284  0.001284      0.331745  0.647540      0.954819   \n",
       "2    0.002770  ...  0.002770  0.225422      0.456298  0.585288      0.840361   \n",
       "3    0.001548  ...  0.225889  0.001548      0.686992  0.744404      0.083935   \n",
       "4    0.417772  ...  0.068800  0.001350      0.291671  0.646489      0.975904   \n",
       "\n",
       "   instrumentalness   valence    energy       topic  age  \n",
       "0          0.901822  0.339448  0.137110     sadness  1.0  \n",
       "1          0.000002  0.325021  0.263240  world/life  1.0  \n",
       "2          0.000000  0.351814  0.139112       music  1.0  \n",
       "3          0.199393  0.775350  0.743736    romantic  1.0  \n",
       "4          0.000246  0.597073  0.394375    romantic  1.0  \n",
       "\n",
       "[5 rows x 31 columns]"
      ]
     },
     "execution_count": 4,
     "metadata": {},
     "output_type": "execute_result"
    }
   ],
   "source": [
    "original_dataset.head()"
   ]
  },
  {
   "cell_type": "code",
   "execution_count": 5,
   "metadata": {},
   "outputs": [],
   "source": [
    "emotion_classified_dataset = pd.read_csv('lyrics_with_emotion_preds.csv')"
   ]
  },
  {
   "cell_type": "code",
   "execution_count": 6,
   "metadata": {},
   "outputs": [
    {
     "data": {
      "text/html": [
       "<div>\n",
       "<style scoped>\n",
       "    .dataframe tbody tr th:only-of-type {\n",
       "        vertical-align: middle;\n",
       "    }\n",
       "\n",
       "    .dataframe tbody tr th {\n",
       "        vertical-align: top;\n",
       "    }\n",
       "\n",
       "    .dataframe thead th {\n",
       "        text-align: right;\n",
       "    }\n",
       "</style>\n",
       "<table border=\"1\" class=\"dataframe\">\n",
       "  <thead>\n",
       "    <tr style=\"text-align: right;\">\n",
       "      <th></th>\n",
       "      <th>Unnamed: 0</th>\n",
       "      <th>lyrics_text</th>\n",
       "      <th>predicted_emotion_label</th>\n",
       "      <th>predicted_encoded_label</th>\n",
       "    </tr>\n",
       "  </thead>\n",
       "  <tbody>\n",
       "    <tr>\n",
       "      <th>0</th>\n",
       "      <td>0</td>\n",
       "      <td>hold time feel break feel untrue convince spea...</td>\n",
       "      <td>sadness</td>\n",
       "      <td>4</td>\n",
       "    </tr>\n",
       "    <tr>\n",
       "      <th>1</th>\n",
       "      <td>1</td>\n",
       "      <td>believe drop rain fall grow believe darkest ni...</td>\n",
       "      <td>joy</td>\n",
       "      <td>2</td>\n",
       "    </tr>\n",
       "    <tr>\n",
       "      <th>2</th>\n",
       "      <td>2</td>\n",
       "      <td>sweetheart send letter goodbye secret feel bet...</td>\n",
       "      <td>sadness</td>\n",
       "      <td>4</td>\n",
       "    </tr>\n",
       "    <tr>\n",
       "      <th>3</th>\n",
       "      <td>3</td>\n",
       "      <td>kiss lips want stroll charm mambo chacha merin...</td>\n",
       "      <td>joy</td>\n",
       "      <td>2</td>\n",
       "    </tr>\n",
       "    <tr>\n",
       "      <th>4</th>\n",
       "      <td>4</td>\n",
       "      <td>till darling till matter know till dream live ...</td>\n",
       "      <td>sadness</td>\n",
       "      <td>4</td>\n",
       "    </tr>\n",
       "  </tbody>\n",
       "</table>\n",
       "</div>"
      ],
      "text/plain": [
       "   Unnamed: 0                                        lyrics_text  \\\n",
       "0           0  hold time feel break feel untrue convince spea...   \n",
       "1           1  believe drop rain fall grow believe darkest ni...   \n",
       "2           2  sweetheart send letter goodbye secret feel bet...   \n",
       "3           3  kiss lips want stroll charm mambo chacha merin...   \n",
       "4           4  till darling till matter know till dream live ...   \n",
       "\n",
       "  predicted_emotion_label  predicted_encoded_label  \n",
       "0                 sadness                        4  \n",
       "1                     joy                        2  \n",
       "2                 sadness                        4  \n",
       "3                     joy                        2  \n",
       "4                 sadness                        4  "
      ]
     },
     "execution_count": 6,
     "metadata": {},
     "output_type": "execute_result"
    }
   ],
   "source": [
    "emotion_classified_dataset.head()"
   ]
  },
  {
   "cell_type": "code",
   "execution_count": 18,
   "metadata": {},
   "outputs": [],
   "source": [
    "# So how do I merge these two datasets? \n",
    "# Easy way: simply add the column. \n",
    "# To do that, we first need to make sure that the indices for both dataframes match. (i.e. lyrics in row i of one match lyrics in row i of the other)\n",
    "\n",
    "# More general, create a new empty column for the original data frame.\n",
    "# Then find the row in the second dataframe where lyrics in an index of the first dataframe match \n",
    "# Then populate the corresponding index in the new column with those lyrics. \n",
    "\n",
    "def check_index_match(dataframe_1, dataframe_2, dataframe_1_col, dataframe_2_col):\n",
    "\n",
    "    \"\"\"\n",
    "    Checks if the items in each index of dataframe_1[dataframe_1_col] match the items in \n",
    "    each index of dataframe_2[dataframe_2_col]\n",
    "    \"\"\"\n",
    "    \n",
    "    if len(dataframe_1) != len(dataframe_2):\n",
    "        return False\n",
    "    \n",
    "    for dataframe_2_index in range(len(dataframe_2)):\n",
    "        dataframe_1_index_obj = dataframe_1.index[dataframe_1[dataframe_1_col]==dataframe_2[dataframe_2_col][dataframe_2_index]]\n",
    "        if len(dataframe_1_index_obj) != 1:\n",
    "            print(f\"What?! @ {dataframe_2_index}\")\n",
    "            return False\n",
    "        dataframe_1_index = dataframe_1_index_obj[0]\n",
    "        if dataframe_1_index != dataframe_2_index:\n",
    "            return False\n",
    "        \n",
    "    return True"
   ]
  },
  {
   "cell_type": "code",
   "execution_count": 19,
   "metadata": {},
   "outputs": [
    {
     "data": {
      "text/plain": [
       "True"
      ]
     },
     "execution_count": 19,
     "metadata": {},
     "output_type": "execute_result"
    }
   ],
   "source": [
    "check_index_match(original_dataset, emotion_classified_dataset, 'lyrics', 'lyrics_text')"
   ]
  },
  {
   "cell_type": "code",
   "execution_count": 25,
   "metadata": {},
   "outputs": [],
   "source": [
    "combined_dataset = original_dataset.assign(predicted_emotion_label=emotion_classified_dataset['predicted_emotion_label'])"
   ]
  },
  {
   "cell_type": "code",
   "execution_count": 26,
   "metadata": {},
   "outputs": [],
   "source": [
    "combined_dataset.to_csv('./processed_data/tcc_ceds_music_with_emotion_classification.csv')"
   ]
  },
  {
   "cell_type": "markdown",
   "metadata": {},
   "source": [
    "# Emotion Trends over Time"
   ]
  },
  {
   "cell_type": "code",
   "execution_count": 34,
   "metadata": {},
   "outputs": [
    {
     "data": {
      "text/plain": [
       "release_date\n",
       "2017    660\n",
       "2018    653\n",
       "2015    617\n",
       "2009    597\n",
       "2012    588\n",
       "       ... \n",
       "1955    106\n",
       "1952     60\n",
       "1951     58\n",
       "1950     51\n",
       "1953     48\n",
       "Name: count, Length: 70, dtype: int64"
      ]
     },
     "execution_count": 34,
     "metadata": {},
     "output_type": "execute_result"
    }
   ],
   "source": [
    "# Check what years exist in the df\n",
    "combined_dataset['release_date'].value_counts()"
   ]
  },
  {
   "cell_type": "code",
   "execution_count": 35,
   "metadata": {},
   "outputs": [
    {
     "data": {
      "text/plain": [
       "{1950,\n",
       " 1951,\n",
       " 1952,\n",
       " 1953,\n",
       " 1954,\n",
       " 1955,\n",
       " 1956,\n",
       " 1957,\n",
       " 1958,\n",
       " 1959,\n",
       " 1960,\n",
       " 1961,\n",
       " 1962,\n",
       " 1963,\n",
       " 1964,\n",
       " 1965,\n",
       " 1966,\n",
       " 1967,\n",
       " 1968,\n",
       " 1969,\n",
       " 1970,\n",
       " 1971,\n",
       " 1972,\n",
       " 1973,\n",
       " 1974,\n",
       " 1975,\n",
       " 1976,\n",
       " 1977,\n",
       " 1978,\n",
       " 1979,\n",
       " 1980,\n",
       " 1981,\n",
       " 1982,\n",
       " 1983,\n",
       " 1984,\n",
       " 1985,\n",
       " 1986,\n",
       " 1987,\n",
       " 1988,\n",
       " 1989,\n",
       " 1990,\n",
       " 1991,\n",
       " 1992,\n",
       " 1993,\n",
       " 1994,\n",
       " 1995,\n",
       " 1996,\n",
       " 1997,\n",
       " 1998,\n",
       " 1999,\n",
       " 2000,\n",
       " 2001,\n",
       " 2002,\n",
       " 2003,\n",
       " 2004,\n",
       " 2005,\n",
       " 2006,\n",
       " 2007,\n",
       " 2008,\n",
       " 2009,\n",
       " 2010,\n",
       " 2011,\n",
       " 2012,\n",
       " 2013,\n",
       " 2014,\n",
       " 2015,\n",
       " 2016,\n",
       " 2017,\n",
       " 2018,\n",
       " 2019}"
      ]
     },
     "execution_count": 35,
     "metadata": {},
     "output_type": "execute_result"
    }
   ],
   "source": [
    "set(combined_dataset['release_date'])"
   ]
  },
  {
   "cell_type": "code",
   "execution_count": 39,
   "metadata": {},
   "outputs": [],
   "source": [
    "release_dates = sorted(list(set(combined_dataset['release_date'])))"
   ]
  },
  {
   "cell_type": "code",
   "execution_count": 38,
   "metadata": {},
   "outputs": [
    {
     "data": {
      "text/plain": [
       "{'joy': 31, 'sadness': 13, 'anger': 3, 'fear': 2, 'love': 1, 'surprise': 1}"
      ]
     },
     "execution_count": 38,
     "metadata": {},
     "output_type": "execute_result"
    }
   ],
   "source": [
    "combined_dataset.where(combined_dataset['release_date'] == 1950).dropna()['predicted_emotion_label'].value_counts().to_dict()"
   ]
  },
  {
   "cell_type": "code",
   "execution_count": 59,
   "metadata": {},
   "outputs": [
    {
     "data": {
      "text/plain": [
       "{1950: {'joy': 31,\n",
       "  'sadness': 13,\n",
       "  'anger': 3,\n",
       "  'fear': 2,\n",
       "  'love': 1,\n",
       "  'surprise': 1},\n",
       " 1951: {'joy': 32, 'sadness': 17, 'anger': 5, 'love': 4},\n",
       " 1952: {'joy': 30,\n",
       "  'sadness': 18,\n",
       "  'love': 5,\n",
       "  'anger': 4,\n",
       "  'fear': 2,\n",
       "  'surprise': 1},\n",
       " 1953: {'joy': 19, 'sadness': 15, 'love': 7, 'anger': 6, 'surprise': 1},\n",
       " 1954: {'joy': 62,\n",
       "  'sadness': 23,\n",
       "  'love': 14,\n",
       "  'anger': 7,\n",
       "  'fear': 2,\n",
       "  'surprise': 1},\n",
       " 1955: {'joy': 58,\n",
       "  'sadness': 29,\n",
       "  'anger': 8,\n",
       "  'love': 6,\n",
       "  'fear': 4,\n",
       "  'surprise': 1},\n",
       " 1956: {'joy': 113,\n",
       "  'sadness': 51,\n",
       "  'love': 15,\n",
       "  'anger': 14,\n",
       "  'fear': 5,\n",
       "  'surprise': 2},\n",
       " 1957: {'joy': 111,\n",
       "  'sadness': 85,\n",
       "  'love': 19,\n",
       "  'anger': 14,\n",
       "  'surprise': 4,\n",
       "  'fear': 4},\n",
       " 1958: {'joy': 144,\n",
       "  'sadness': 72,\n",
       "  'anger': 33,\n",
       "  'love': 30,\n",
       "  'fear': 5,\n",
       "  'surprise': 3},\n",
       " 1959: {'joy': 159,\n",
       "  'sadness': 85,\n",
       "  'love': 31,\n",
       "  'anger': 28,\n",
       "  'fear': 7,\n",
       "  'surprise': 2},\n",
       " 1960: {'joy': 149, 'sadness': 76, 'anger': 25, 'love': 19, 'fear': 5},\n",
       " 1961: {'joy': 130,\n",
       "  'sadness': 81,\n",
       "  'anger': 28,\n",
       "  'love': 24,\n",
       "  'surprise': 5,\n",
       "  'fear': 3},\n",
       " 1962: {'joy': 154,\n",
       "  'sadness': 106,\n",
       "  'anger': 21,\n",
       "  'love': 17,\n",
       "  'fear': 7,\n",
       "  'surprise': 4},\n",
       " 1963: {'joy': 173,\n",
       "  'sadness': 128,\n",
       "  'love': 30,\n",
       "  'anger': 23,\n",
       "  'fear': 11,\n",
       "  'surprise': 4},\n",
       " 1964: {'joy': 193,\n",
       "  'sadness': 108,\n",
       "  'anger': 44,\n",
       "  'love': 25,\n",
       "  'fear': 11,\n",
       "  'surprise': 2},\n",
       " 1965: {'joy': 163,\n",
       "  'sadness': 131,\n",
       "  'anger': 35,\n",
       "  'love': 14,\n",
       "  'fear': 8,\n",
       "  'surprise': 5},\n",
       " 1966: {'joy': 176,\n",
       "  'sadness': 117,\n",
       "  'anger': 28,\n",
       "  'love': 16,\n",
       "  'fear': 4,\n",
       "  'surprise': 2},\n",
       " 1967: {'joy': 194,\n",
       "  'sadness': 122,\n",
       "  'anger': 52,\n",
       "  'love': 18,\n",
       "  'fear': 7,\n",
       "  'surprise': 1},\n",
       " 1968: {'joy': 187,\n",
       "  'sadness': 129,\n",
       "  'anger': 39,\n",
       "  'love': 16,\n",
       "  'fear': 16,\n",
       "  'surprise': 1},\n",
       " 1969: {'joy': 160,\n",
       "  'sadness': 92,\n",
       "  'anger': 44,\n",
       "  'love': 13,\n",
       "  'fear': 11,\n",
       "  'surprise': 2},\n",
       " 1970: {'joy': 199,\n",
       "  'sadness': 90,\n",
       "  'anger': 34,\n",
       "  'love': 13,\n",
       "  'fear': 13,\n",
       "  'surprise': 3},\n",
       " 1971: {'joy': 197,\n",
       "  'sadness': 96,\n",
       "  'anger': 47,\n",
       "  'fear': 15,\n",
       "  'love': 5,\n",
       "  'surprise': 3},\n",
       " 1972: {'joy': 180,\n",
       "  'sadness': 90,\n",
       "  'anger': 56,\n",
       "  'love': 11,\n",
       "  'fear': 10,\n",
       "  'surprise': 2},\n",
       " 1973: {'joy': 213,\n",
       "  'sadness': 102,\n",
       "  'anger': 50,\n",
       "  'love': 13,\n",
       "  'fear': 13,\n",
       "  'surprise': 1},\n",
       " 1974: {'joy': 195,\n",
       "  'sadness': 81,\n",
       "  'anger': 50,\n",
       "  'love': 17,\n",
       "  'fear': 15,\n",
       "  'surprise': 4},\n",
       " 1975: {'joy': 206,\n",
       "  'sadness': 128,\n",
       "  'anger': 43,\n",
       "  'fear': 15,\n",
       "  'love': 12,\n",
       "  'surprise': 3},\n",
       " 1976: {'joy': 192,\n",
       "  'sadness': 93,\n",
       "  'anger': 48,\n",
       "  'love': 11,\n",
       "  'fear': 6,\n",
       "  'surprise': 6},\n",
       " 1977: {'joy': 229,\n",
       "  'sadness': 109,\n",
       "  'anger': 45,\n",
       "  'love': 30,\n",
       "  'fear': 12,\n",
       "  'surprise': 3},\n",
       " 1978: {'joy': 223,\n",
       "  'sadness': 146,\n",
       "  'anger': 54,\n",
       "  'fear': 17,\n",
       "  'love': 14,\n",
       "  'surprise': 5},\n",
       " 1979: {'joy': 239,\n",
       "  'sadness': 144,\n",
       "  'anger': 72,\n",
       "  'fear': 16,\n",
       "  'love': 9,\n",
       "  'surprise': 3},\n",
       " 1980: {'joy': 245,\n",
       "  'sadness': 136,\n",
       "  'anger': 89,\n",
       "  'love': 18,\n",
       "  'fear': 17,\n",
       "  'surprise': 4},\n",
       " 1981: {'joy': 256,\n",
       "  'sadness': 148,\n",
       "  'anger': 82,\n",
       "  'fear': 19,\n",
       "  'love': 9,\n",
       "  'surprise': 6},\n",
       " 1982: {'joy': 217,\n",
       "  'sadness': 147,\n",
       "  'anger': 77,\n",
       "  'fear': 27,\n",
       "  'love': 9,\n",
       "  'surprise': 4},\n",
       " 1983: {'joy': 250,\n",
       "  'sadness': 140,\n",
       "  'anger': 87,\n",
       "  'fear': 24,\n",
       "  'love': 17,\n",
       "  'surprise': 8},\n",
       " 1984: {'joy': 210,\n",
       "  'sadness': 134,\n",
       "  'anger': 82,\n",
       "  'love': 22,\n",
       "  'fear': 22,\n",
       "  'surprise': 5},\n",
       " 1985: {'joy': 191,\n",
       "  'sadness': 122,\n",
       "  'anger': 71,\n",
       "  'fear': 13,\n",
       "  'love': 9,\n",
       "  'surprise': 1},\n",
       " 1986: {'joy': 238,\n",
       "  'sadness': 128,\n",
       "  'anger': 59,\n",
       "  'love': 24,\n",
       "  'fear': 10,\n",
       "  'surprise': 5},\n",
       " 1987: {'joy': 227,\n",
       "  'sadness': 132,\n",
       "  'anger': 49,\n",
       "  'fear': 14,\n",
       "  'love': 9,\n",
       "  'surprise': 4},\n",
       " 1988: {'joy': 198,\n",
       "  'sadness': 135,\n",
       "  'anger': 60,\n",
       "  'love': 16,\n",
       "  'fear': 8,\n",
       "  'surprise': 5},\n",
       " 1989: {'joy': 215,\n",
       "  'sadness': 126,\n",
       "  'anger': 59,\n",
       "  'love': 20,\n",
       "  'fear': 12,\n",
       "  'surprise': 4},\n",
       " 1990: {'joy': 196,\n",
       "  'sadness': 126,\n",
       "  'anger': 59,\n",
       "  'fear': 17,\n",
       "  'love': 8,\n",
       "  'surprise': 6},\n",
       " 1991: {'joy': 254,\n",
       "  'sadness': 131,\n",
       "  'anger': 71,\n",
       "  'love': 27,\n",
       "  'fear': 18,\n",
       "  'surprise': 2},\n",
       " 1992: {'joy': 247,\n",
       "  'sadness': 146,\n",
       "  'anger': 73,\n",
       "  'love': 23,\n",
       "  'fear': 13,\n",
       "  'surprise': 6},\n",
       " 1993: {'joy': 237,\n",
       "  'sadness': 147,\n",
       "  'anger': 71,\n",
       "  'fear': 13,\n",
       "  'love': 13,\n",
       "  'surprise': 4},\n",
       " 1994: {'joy': 236,\n",
       "  'sadness': 138,\n",
       "  'anger': 63,\n",
       "  'fear': 14,\n",
       "  'love': 13,\n",
       "  'surprise': 1},\n",
       " 1995: {'joy': 190,\n",
       "  'sadness': 107,\n",
       "  'anger': 58,\n",
       "  'love': 17,\n",
       "  'fear': 11,\n",
       "  'surprise': 2},\n",
       " 1996: {'joy': 205,\n",
       "  'sadness': 115,\n",
       "  'anger': 49,\n",
       "  'fear': 20,\n",
       "  'love': 19,\n",
       "  'surprise': 4},\n",
       " 1997: {'joy': 200,\n",
       "  'sadness': 120,\n",
       "  'anger': 52,\n",
       "  'fear': 16,\n",
       "  'love': 11,\n",
       "  'surprise': 4},\n",
       " 1998: {'joy': 201,\n",
       "  'sadness': 114,\n",
       "  'anger': 64,\n",
       "  'fear': 17,\n",
       "  'love': 12,\n",
       "  'surprise': 4},\n",
       " 1999: {'joy': 236,\n",
       "  'sadness': 129,\n",
       "  'anger': 70,\n",
       "  'fear': 16,\n",
       "  'love': 15,\n",
       "  'surprise': 6},\n",
       " 2000: {'joy': 204,\n",
       "  'sadness': 94,\n",
       "  'anger': 53,\n",
       "  'fear': 18,\n",
       "  'love': 10,\n",
       "  'surprise': 4},\n",
       " 2001: {'joy': 224,\n",
       "  'sadness': 138,\n",
       "  'anger': 69,\n",
       "  'fear': 19,\n",
       "  'surprise': 8,\n",
       "  'love': 8},\n",
       " 2002: {'joy': 205,\n",
       "  'sadness': 153,\n",
       "  'anger': 68,\n",
       "  'fear': 23,\n",
       "  'love': 15,\n",
       "  'surprise': 3},\n",
       " 2003: {'joy': 215,\n",
       "  'sadness': 145,\n",
       "  'anger': 64,\n",
       "  'fear': 20,\n",
       "  'love': 14,\n",
       "  'surprise': 12},\n",
       " 2004: {'joy': 246,\n",
       "  'sadness': 127,\n",
       "  'anger': 71,\n",
       "  'love': 14,\n",
       "  'fear': 13,\n",
       "  'surprise': 8},\n",
       " 2005: {'joy': 207,\n",
       "  'sadness': 133,\n",
       "  'anger': 73,\n",
       "  'love': 11,\n",
       "  'fear': 9,\n",
       "  'surprise': 7},\n",
       " 2006: {'joy': 270,\n",
       "  'sadness': 155,\n",
       "  'anger': 81,\n",
       "  'love': 10,\n",
       "  'fear': 8,\n",
       "  'surprise': 3},\n",
       " 2007: {'joy': 234,\n",
       "  'sadness': 133,\n",
       "  'anger': 62,\n",
       "  'fear': 21,\n",
       "  'love': 9,\n",
       "  'surprise': 3},\n",
       " 2008: {'joy': 225,\n",
       "  'sadness': 163,\n",
       "  'anger': 74,\n",
       "  'fear': 16,\n",
       "  'love': 10,\n",
       "  'surprise': 2},\n",
       " 2009: {'joy': 292,\n",
       "  'sadness': 166,\n",
       "  'anger': 101,\n",
       "  'fear': 20,\n",
       "  'love': 12,\n",
       "  'surprise': 6},\n",
       " 2010: {'joy': 212,\n",
       "  'sadness': 112,\n",
       "  'anger': 67,\n",
       "  'fear': 15,\n",
       "  'love': 8,\n",
       "  'surprise': 4},\n",
       " 2011: {'joy': 257,\n",
       "  'sadness': 149,\n",
       "  'anger': 88,\n",
       "  'fear': 25,\n",
       "  'love': 7,\n",
       "  'surprise': 5},\n",
       " 2012: {'joy': 293,\n",
       "  'sadness': 174,\n",
       "  'anger': 81,\n",
       "  'fear': 29,\n",
       "  'love': 6,\n",
       "  'surprise': 5},\n",
       " 2013: {'joy': 309,\n",
       "  'sadness': 147,\n",
       "  'anger': 70,\n",
       "  'fear': 19,\n",
       "  'love': 10,\n",
       "  'surprise': 5},\n",
       " 2014: {'joy': 274, 'sadness': 142, 'anger': 87, 'fear': 20, 'love': 14},\n",
       " 2015: {'joy': 285,\n",
       "  'sadness': 185,\n",
       "  'anger': 102,\n",
       "  'fear': 20,\n",
       "  'love': 18,\n",
       "  'surprise': 7},\n",
       " 2016: {'joy': 262,\n",
       "  'sadness': 155,\n",
       "  'anger': 86,\n",
       "  'fear': 17,\n",
       "  'love': 9,\n",
       "  'surprise': 4},\n",
       " 2017: {'joy': 340,\n",
       "  'sadness': 182,\n",
       "  'anger': 94,\n",
       "  'fear': 27,\n",
       "  'love': 9,\n",
       "  'surprise': 8},\n",
       " 2018: {'joy': 328,\n",
       "  'sadness': 180,\n",
       "  'anger': 115,\n",
       "  'fear': 19,\n",
       "  'love': 8,\n",
       "  'surprise': 3},\n",
       " 2019: {'joy': 283,\n",
       "  'sadness': 134,\n",
       "  'anger': 99,\n",
       "  'fear': 9,\n",
       "  'love': 6,\n",
       "  'surprise': 3}}"
      ]
     },
     "execution_count": 59,
     "metadata": {},
     "output_type": "execute_result"
    }
   ],
   "source": [
    "# Aggregate data over time\n",
    "emotion_data_per_year = {}\n",
    "for date in release_dates:\n",
    "    emotion_counts = combined_dataset.where(combined_dataset['release_date'] == date).dropna()['predicted_emotion_label'].value_counts().to_dict()\n",
    "    emotion_data_per_year[date] = emotion_counts\n",
    "emotion_data_per_year"
   ]
  },
  {
   "cell_type": "code",
   "execution_count": null,
   "metadata": {},
   "outputs": [],
   "source": [
    "#TODO: rewrite this code so we're staying in dataframe. I don't like converting to dict"
   ]
  },
  {
   "cell_type": "code",
   "execution_count": 60,
   "metadata": {},
   "outputs": [],
   "source": [
    "emotion_labels= set(emotion_classified_dataset['predicted_emotion_label'].values.tolist())"
   ]
  },
  {
   "cell_type": "code",
   "execution_count": 61,
   "metadata": {},
   "outputs": [
    {
     "data": {
      "text/plain": [
       "{'anger', 'fear', 'joy', 'love', 'sadness', 'surprise'}"
      ]
     },
     "execution_count": 61,
     "metadata": {},
     "output_type": "execute_result"
    }
   ],
   "source": [
    "emotion_labels"
   ]
  },
  {
   "cell_type": "code",
   "execution_count": 67,
   "metadata": {},
   "outputs": [],
   "source": [
    "emotion_over_time_dfs = {}\n",
    "assert release_dates #NOTE: not sure if this is good practice\n",
    "for emotion in emotion_labels:\n",
    "    \n",
    "    emotion_counts_column = []\n",
    "    for date in release_dates:\n",
    "        \n",
    "        if emotion not in emotion_data_per_year[date].keys():\n",
    "            emotion_counts_column.append(0)\n",
    "        else:\n",
    "            emotion_count = emotion_data_per_year[date][emotion]\n",
    "            emotion_counts_column.append(emotion_count)\n",
    "\n",
    "    emotion_over_time_dict = {'release_date':release_dates,\n",
    "                                'count': emotion_counts_column\n",
    "                                }\n",
    "    emotion_df = pd.DataFrame(emotion_over_time_dict)\n",
    "    emotion_over_time_dfs[emotion] = emotion_df"
   ]
  },
  {
   "cell_type": "code",
   "execution_count": 68,
   "metadata": {},
   "outputs": [
    {
     "data": {
      "text/html": [
       "<div>\n",
       "<style scoped>\n",
       "    .dataframe tbody tr th:only-of-type {\n",
       "        vertical-align: middle;\n",
       "    }\n",
       "\n",
       "    .dataframe tbody tr th {\n",
       "        vertical-align: top;\n",
       "    }\n",
       "\n",
       "    .dataframe thead th {\n",
       "        text-align: right;\n",
       "    }\n",
       "</style>\n",
       "<table border=\"1\" class=\"dataframe\">\n",
       "  <thead>\n",
       "    <tr style=\"text-align: right;\">\n",
       "      <th></th>\n",
       "      <th>release_date</th>\n",
       "      <th>count</th>\n",
       "    </tr>\n",
       "  </thead>\n",
       "  <tbody>\n",
       "    <tr>\n",
       "      <th>0</th>\n",
       "      <td>1950</td>\n",
       "      <td>3</td>\n",
       "    </tr>\n",
       "    <tr>\n",
       "      <th>1</th>\n",
       "      <td>1951</td>\n",
       "      <td>5</td>\n",
       "    </tr>\n",
       "    <tr>\n",
       "      <th>2</th>\n",
       "      <td>1952</td>\n",
       "      <td>4</td>\n",
       "    </tr>\n",
       "    <tr>\n",
       "      <th>3</th>\n",
       "      <td>1953</td>\n",
       "      <td>6</td>\n",
       "    </tr>\n",
       "    <tr>\n",
       "      <th>4</th>\n",
       "      <td>1954</td>\n",
       "      <td>7</td>\n",
       "    </tr>\n",
       "  </tbody>\n",
       "</table>\n",
       "</div>"
      ],
      "text/plain": [
       "   release_date  count\n",
       "0          1950      3\n",
       "1          1951      5\n",
       "2          1952      4\n",
       "3          1953      6\n",
       "4          1954      7"
      ]
     },
     "execution_count": 68,
     "metadata": {},
     "output_type": "execute_result"
    }
   ],
   "source": [
    "emotion_over_time_dfs['anger'].head()"
   ]
  },
  {
   "cell_type": "code",
   "execution_count": null,
   "metadata": {},
   "outputs": [],
   "source": [
    "# import plotly.express as px\n",
    "\n",
    "# df = px.data.gapminder().query(\"continent=='Oceania'\")\n",
    "# fig = px.line(df, x=\"year\", y=\"lifeExp\", color='country')\n",
    "# fig.show()"
   ]
  },
  {
   "cell_type": "code",
   "execution_count": 69,
   "metadata": {},
   "outputs": [
    {
     "data": {
      "text/html": [
       "<div>\n",
       "<style scoped>\n",
       "    .dataframe tbody tr th:only-of-type {\n",
       "        vertical-align: middle;\n",
       "    }\n",
       "\n",
       "    .dataframe tbody tr th {\n",
       "        vertical-align: top;\n",
       "    }\n",
       "\n",
       "    .dataframe thead th {\n",
       "        text-align: right;\n",
       "    }\n",
       "</style>\n",
       "<table border=\"1\" class=\"dataframe\">\n",
       "  <thead>\n",
       "    <tr style=\"text-align: right;\">\n",
       "      <th></th>\n",
       "      <th>release_date</th>\n",
       "      <th>count</th>\n",
       "    </tr>\n",
       "  </thead>\n",
       "  <tbody>\n",
       "    <tr>\n",
       "      <th>0</th>\n",
       "      <td>1950</td>\n",
       "      <td>3</td>\n",
       "    </tr>\n",
       "    <tr>\n",
       "      <th>1</th>\n",
       "      <td>1951</td>\n",
       "      <td>5</td>\n",
       "    </tr>\n",
       "    <tr>\n",
       "      <th>2</th>\n",
       "      <td>1952</td>\n",
       "      <td>4</td>\n",
       "    </tr>\n",
       "    <tr>\n",
       "      <th>3</th>\n",
       "      <td>1953</td>\n",
       "      <td>6</td>\n",
       "    </tr>\n",
       "    <tr>\n",
       "      <th>4</th>\n",
       "      <td>1954</td>\n",
       "      <td>7</td>\n",
       "    </tr>\n",
       "    <tr>\n",
       "      <th>...</th>\n",
       "      <td>...</td>\n",
       "      <td>...</td>\n",
       "    </tr>\n",
       "    <tr>\n",
       "      <th>65</th>\n",
       "      <td>2015</td>\n",
       "      <td>102</td>\n",
       "    </tr>\n",
       "    <tr>\n",
       "      <th>66</th>\n",
       "      <td>2016</td>\n",
       "      <td>86</td>\n",
       "    </tr>\n",
       "    <tr>\n",
       "      <th>67</th>\n",
       "      <td>2017</td>\n",
       "      <td>94</td>\n",
       "    </tr>\n",
       "    <tr>\n",
       "      <th>68</th>\n",
       "      <td>2018</td>\n",
       "      <td>115</td>\n",
       "    </tr>\n",
       "    <tr>\n",
       "      <th>69</th>\n",
       "      <td>2019</td>\n",
       "      <td>99</td>\n",
       "    </tr>\n",
       "  </tbody>\n",
       "</table>\n",
       "<p>70 rows × 2 columns</p>\n",
       "</div>"
      ],
      "text/plain": [
       "    release_date  count\n",
       "0           1950      3\n",
       "1           1951      5\n",
       "2           1952      4\n",
       "3           1953      6\n",
       "4           1954      7\n",
       "..           ...    ...\n",
       "65          2015    102\n",
       "66          2016     86\n",
       "67          2017     94\n",
       "68          2018    115\n",
       "69          2019     99\n",
       "\n",
       "[70 rows x 2 columns]"
      ]
     },
     "execution_count": 69,
     "metadata": {},
     "output_type": "execute_result"
    }
   ],
   "source": [
    "emotion_over_time_dfs['anger']"
   ]
  },
  {
   "cell_type": "code",
   "execution_count": 70,
   "metadata": {},
   "outputs": [],
   "source": [
    "from copy import deepcopy"
   ]
  },
  {
   "cell_type": "code",
   "execution_count": 81,
   "metadata": {},
   "outputs": [],
   "source": [
    "emotion_over_time_dfs_to_combine = deepcopy(emotion_over_time_dfs)"
   ]
  },
  {
   "cell_type": "code",
   "execution_count": 82,
   "metadata": {},
   "outputs": [
    {
     "data": {
      "text/html": [
       "<div>\n",
       "<style scoped>\n",
       "    .dataframe tbody tr th:only-of-type {\n",
       "        vertical-align: middle;\n",
       "    }\n",
       "\n",
       "    .dataframe tbody tr th {\n",
       "        vertical-align: top;\n",
       "    }\n",
       "\n",
       "    .dataframe thead th {\n",
       "        text-align: right;\n",
       "    }\n",
       "</style>\n",
       "<table border=\"1\" class=\"dataframe\">\n",
       "  <thead>\n",
       "    <tr style=\"text-align: right;\">\n",
       "      <th></th>\n",
       "      <th>release_date</th>\n",
       "      <th>count</th>\n",
       "    </tr>\n",
       "  </thead>\n",
       "  <tbody>\n",
       "    <tr>\n",
       "      <th>0</th>\n",
       "      <td>1950</td>\n",
       "      <td>3</td>\n",
       "    </tr>\n",
       "    <tr>\n",
       "      <th>1</th>\n",
       "      <td>1951</td>\n",
       "      <td>5</td>\n",
       "    </tr>\n",
       "    <tr>\n",
       "      <th>2</th>\n",
       "      <td>1952</td>\n",
       "      <td>4</td>\n",
       "    </tr>\n",
       "    <tr>\n",
       "      <th>3</th>\n",
       "      <td>1953</td>\n",
       "      <td>6</td>\n",
       "    </tr>\n",
       "    <tr>\n",
       "      <th>4</th>\n",
       "      <td>1954</td>\n",
       "      <td>7</td>\n",
       "    </tr>\n",
       "  </tbody>\n",
       "</table>\n",
       "</div>"
      ],
      "text/plain": [
       "   release_date  count\n",
       "0          1950      3\n",
       "1          1951      5\n",
       "2          1952      4\n",
       "3          1953      6\n",
       "4          1954      7"
      ]
     },
     "execution_count": 82,
     "metadata": {},
     "output_type": "execute_result"
    }
   ],
   "source": [
    "emotion_over_time_dfs_to_combine['anger'].head()"
   ]
  },
  {
   "cell_type": "code",
   "execution_count": 77,
   "metadata": {},
   "outputs": [
    {
     "data": {
      "text/plain": [
       "70"
      ]
     },
     "execution_count": 77,
     "metadata": {},
     "output_type": "execute_result"
    }
   ],
   "source": [
    "len(['anger' for i in range(len(emotion_over_time_dfs['anger']))])"
   ]
  },
  {
   "cell_type": "code",
   "execution_count": 78,
   "metadata": {},
   "outputs": [],
   "source": [
    "\n",
    " \n",
    "# Add the new column using loc\n",
    "emotion_over_time_dfs_to_combine['anger'].loc[:, \"emotion\"] = ['anger' for i in range(len(emotion_over_time_dfs['anger']))]"
   ]
  },
  {
   "cell_type": "code",
   "execution_count": 79,
   "metadata": {},
   "outputs": [
    {
     "data": {
      "text/html": [
       "<div>\n",
       "<style scoped>\n",
       "    .dataframe tbody tr th:only-of-type {\n",
       "        vertical-align: middle;\n",
       "    }\n",
       "\n",
       "    .dataframe tbody tr th {\n",
       "        vertical-align: top;\n",
       "    }\n",
       "\n",
       "    .dataframe thead th {\n",
       "        text-align: right;\n",
       "    }\n",
       "</style>\n",
       "<table border=\"1\" class=\"dataframe\">\n",
       "  <thead>\n",
       "    <tr style=\"text-align: right;\">\n",
       "      <th></th>\n",
       "      <th>release_date</th>\n",
       "      <th>count</th>\n",
       "      <th>emotion</th>\n",
       "    </tr>\n",
       "  </thead>\n",
       "  <tbody>\n",
       "    <tr>\n",
       "      <th>0</th>\n",
       "      <td>1950</td>\n",
       "      <td>3</td>\n",
       "      <td>anger</td>\n",
       "    </tr>\n",
       "    <tr>\n",
       "      <th>1</th>\n",
       "      <td>1951</td>\n",
       "      <td>5</td>\n",
       "      <td>anger</td>\n",
       "    </tr>\n",
       "    <tr>\n",
       "      <th>2</th>\n",
       "      <td>1952</td>\n",
       "      <td>4</td>\n",
       "      <td>anger</td>\n",
       "    </tr>\n",
       "    <tr>\n",
       "      <th>3</th>\n",
       "      <td>1953</td>\n",
       "      <td>6</td>\n",
       "      <td>anger</td>\n",
       "    </tr>\n",
       "    <tr>\n",
       "      <th>4</th>\n",
       "      <td>1954</td>\n",
       "      <td>7</td>\n",
       "      <td>anger</td>\n",
       "    </tr>\n",
       "  </tbody>\n",
       "</table>\n",
       "</div>"
      ],
      "text/plain": [
       "   release_date  count emotion\n",
       "0          1950      3   anger\n",
       "1          1951      5   anger\n",
       "2          1952      4   anger\n",
       "3          1953      6   anger\n",
       "4          1954      7   anger"
      ]
     },
     "execution_count": 79,
     "metadata": {},
     "output_type": "execute_result"
    }
   ],
   "source": [
    "emotion_over_time_dfs_to_combine['anger'].head()"
   ]
  },
  {
   "cell_type": "code",
   "execution_count": 83,
   "metadata": {},
   "outputs": [],
   "source": [
    "for emotion in emotion_labels:\n",
    "    emotion_over_time_dfs_to_combine[emotion].loc[:, \"emotion\"] = [emotion for i in range(len(emotion_over_time_dfs_to_combine[emotion]))]"
   ]
  },
  {
   "cell_type": "code",
   "execution_count": 86,
   "metadata": {},
   "outputs": [
    {
     "data": {
      "text/html": [
       "<div>\n",
       "<style scoped>\n",
       "    .dataframe tbody tr th:only-of-type {\n",
       "        vertical-align: middle;\n",
       "    }\n",
       "\n",
       "    .dataframe tbody tr th {\n",
       "        vertical-align: top;\n",
       "    }\n",
       "\n",
       "    .dataframe thead th {\n",
       "        text-align: right;\n",
       "    }\n",
       "</style>\n",
       "<table border=\"1\" class=\"dataframe\">\n",
       "  <thead>\n",
       "    <tr style=\"text-align: right;\">\n",
       "      <th></th>\n",
       "      <th>release_date</th>\n",
       "      <th>count</th>\n",
       "      <th>emotion</th>\n",
       "    </tr>\n",
       "  </thead>\n",
       "  <tbody>\n",
       "    <tr>\n",
       "      <th>0</th>\n",
       "      <td>1950</td>\n",
       "      <td>13</td>\n",
       "      <td>sadness</td>\n",
       "    </tr>\n",
       "    <tr>\n",
       "      <th>1</th>\n",
       "      <td>1951</td>\n",
       "      <td>17</td>\n",
       "      <td>sadness</td>\n",
       "    </tr>\n",
       "    <tr>\n",
       "      <th>2</th>\n",
       "      <td>1952</td>\n",
       "      <td>18</td>\n",
       "      <td>sadness</td>\n",
       "    </tr>\n",
       "    <tr>\n",
       "      <th>3</th>\n",
       "      <td>1953</td>\n",
       "      <td>15</td>\n",
       "      <td>sadness</td>\n",
       "    </tr>\n",
       "    <tr>\n",
       "      <th>4</th>\n",
       "      <td>1954</td>\n",
       "      <td>23</td>\n",
       "      <td>sadness</td>\n",
       "    </tr>\n",
       "  </tbody>\n",
       "</table>\n",
       "</div>"
      ],
      "text/plain": [
       "   release_date  count  emotion\n",
       "0          1950     13  sadness\n",
       "1          1951     17  sadness\n",
       "2          1952     18  sadness\n",
       "3          1953     15  sadness\n",
       "4          1954     23  sadness"
      ]
     },
     "execution_count": 86,
     "metadata": {},
     "output_type": "execute_result"
    }
   ],
   "source": [
    "emotion_over_time_dfs_to_combine['sadness'].head()"
   ]
  },
  {
   "cell_type": "code",
   "execution_count": 87,
   "metadata": {},
   "outputs": [],
   "source": [
    "data_frames = list(emotion_over_time_dfs_to_combine.values())"
   ]
  },
  {
   "cell_type": "code",
   "execution_count": 89,
   "metadata": {},
   "outputs": [
    {
     "data": {
      "text/html": [
       "<div>\n",
       "<style scoped>\n",
       "    .dataframe tbody tr th:only-of-type {\n",
       "        vertical-align: middle;\n",
       "    }\n",
       "\n",
       "    .dataframe tbody tr th {\n",
       "        vertical-align: top;\n",
       "    }\n",
       "\n",
       "    .dataframe thead th {\n",
       "        text-align: right;\n",
       "    }\n",
       "</style>\n",
       "<table border=\"1\" class=\"dataframe\">\n",
       "  <thead>\n",
       "    <tr style=\"text-align: right;\">\n",
       "      <th></th>\n",
       "      <th>release_date</th>\n",
       "      <th>count</th>\n",
       "      <th>emotion</th>\n",
       "    </tr>\n",
       "  </thead>\n",
       "  <tbody>\n",
       "    <tr>\n",
       "      <th>0</th>\n",
       "      <td>1950</td>\n",
       "      <td>1</td>\n",
       "      <td>love</td>\n",
       "    </tr>\n",
       "    <tr>\n",
       "      <th>1</th>\n",
       "      <td>1951</td>\n",
       "      <td>4</td>\n",
       "      <td>love</td>\n",
       "    </tr>\n",
       "    <tr>\n",
       "      <th>2</th>\n",
       "      <td>1952</td>\n",
       "      <td>5</td>\n",
       "      <td>love</td>\n",
       "    </tr>\n",
       "    <tr>\n",
       "      <th>3</th>\n",
       "      <td>1953</td>\n",
       "      <td>7</td>\n",
       "      <td>love</td>\n",
       "    </tr>\n",
       "    <tr>\n",
       "      <th>4</th>\n",
       "      <td>1954</td>\n",
       "      <td>14</td>\n",
       "      <td>love</td>\n",
       "    </tr>\n",
       "  </tbody>\n",
       "</table>\n",
       "</div>"
      ],
      "text/plain": [
       "   release_date  count emotion\n",
       "0          1950      1    love\n",
       "1          1951      4    love\n",
       "2          1952      5    love\n",
       "3          1953      7    love\n",
       "4          1954     14    love"
      ]
     },
     "execution_count": 89,
     "metadata": {},
     "output_type": "execute_result"
    }
   ],
   "source": [
    "import pandas as pd\n",
    "\n",
    "# Assuming df1, df2, df3 are your dataframes\n",
    "# Concatenate them along the rows axis\n",
    "combined_df = pd.concat(data_frames, axis=0)\n",
    "\n",
    "# Reset index to ensure a continuous index after concatenation\n",
    "combined_df.reset_index(drop=True, inplace=True)\n",
    "\n",
    "# Display the combined dataframe\n",
    "combined_df.head()\n"
   ]
  },
  {
   "cell_type": "code",
   "execution_count": null,
   "metadata": {},
   "outputs": [],
   "source": [
    "emotion_over_time_dfs_to_combine"
   ]
  },
  {
   "cell_type": "code",
   "execution_count": 90,
   "metadata": {},
   "outputs": [
    {
     "data": {
      "application/vnd.plotly.v1+json": {
       "config": {
        "plotlyServerURL": "https://plot.ly"
       },
       "data": [
        {
         "hovertemplate": "emotion=love<br>release_date=%{x}<br>count=%{y}<extra></extra>",
         "legendgroup": "love",
         "line": {
          "color": "#636efa",
          "dash": "solid"
         },
         "marker": {
          "symbol": "circle"
         },
         "mode": "lines",
         "name": "love",
         "orientation": "v",
         "showlegend": true,
         "type": "scatter",
         "x": [
          1950,
          1951,
          1952,
          1953,
          1954,
          1955,
          1956,
          1957,
          1958,
          1959,
          1960,
          1961,
          1962,
          1963,
          1964,
          1965,
          1966,
          1967,
          1968,
          1969,
          1970,
          1971,
          1972,
          1973,
          1974,
          1975,
          1976,
          1977,
          1978,
          1979,
          1980,
          1981,
          1982,
          1983,
          1984,
          1985,
          1986,
          1987,
          1988,
          1989,
          1990,
          1991,
          1992,
          1993,
          1994,
          1995,
          1996,
          1997,
          1998,
          1999,
          2000,
          2001,
          2002,
          2003,
          2004,
          2005,
          2006,
          2007,
          2008,
          2009,
          2010,
          2011,
          2012,
          2013,
          2014,
          2015,
          2016,
          2017,
          2018,
          2019
         ],
         "xaxis": "x",
         "y": [
          1,
          4,
          5,
          7,
          14,
          6,
          15,
          19,
          30,
          31,
          19,
          24,
          17,
          30,
          25,
          14,
          16,
          18,
          16,
          13,
          13,
          5,
          11,
          13,
          17,
          12,
          11,
          30,
          14,
          9,
          18,
          9,
          9,
          17,
          22,
          9,
          24,
          9,
          16,
          20,
          8,
          27,
          23,
          13,
          13,
          17,
          19,
          11,
          12,
          15,
          10,
          8,
          15,
          14,
          14,
          11,
          10,
          9,
          10,
          12,
          8,
          7,
          6,
          10,
          14,
          18,
          9,
          9,
          8,
          6
         ],
         "yaxis": "y"
        },
        {
         "hovertemplate": "emotion=surprise<br>release_date=%{x}<br>count=%{y}<extra></extra>",
         "legendgroup": "surprise",
         "line": {
          "color": "#EF553B",
          "dash": "solid"
         },
         "marker": {
          "symbol": "circle"
         },
         "mode": "lines",
         "name": "surprise",
         "orientation": "v",
         "showlegend": true,
         "type": "scatter",
         "x": [
          1950,
          1951,
          1952,
          1953,
          1954,
          1955,
          1956,
          1957,
          1958,
          1959,
          1960,
          1961,
          1962,
          1963,
          1964,
          1965,
          1966,
          1967,
          1968,
          1969,
          1970,
          1971,
          1972,
          1973,
          1974,
          1975,
          1976,
          1977,
          1978,
          1979,
          1980,
          1981,
          1982,
          1983,
          1984,
          1985,
          1986,
          1987,
          1988,
          1989,
          1990,
          1991,
          1992,
          1993,
          1994,
          1995,
          1996,
          1997,
          1998,
          1999,
          2000,
          2001,
          2002,
          2003,
          2004,
          2005,
          2006,
          2007,
          2008,
          2009,
          2010,
          2011,
          2012,
          2013,
          2014,
          2015,
          2016,
          2017,
          2018,
          2019
         ],
         "xaxis": "x",
         "y": [
          1,
          0,
          1,
          1,
          1,
          1,
          2,
          4,
          3,
          2,
          0,
          5,
          4,
          4,
          2,
          5,
          2,
          1,
          1,
          2,
          3,
          3,
          2,
          1,
          4,
          3,
          6,
          3,
          5,
          3,
          4,
          6,
          4,
          8,
          5,
          1,
          5,
          4,
          5,
          4,
          6,
          2,
          6,
          4,
          1,
          2,
          4,
          4,
          4,
          6,
          4,
          8,
          3,
          12,
          8,
          7,
          3,
          3,
          2,
          6,
          4,
          5,
          5,
          5,
          0,
          7,
          4,
          8,
          3,
          3
         ],
         "yaxis": "y"
        },
        {
         "hovertemplate": "emotion=fear<br>release_date=%{x}<br>count=%{y}<extra></extra>",
         "legendgroup": "fear",
         "line": {
          "color": "#00cc96",
          "dash": "solid"
         },
         "marker": {
          "symbol": "circle"
         },
         "mode": "lines",
         "name": "fear",
         "orientation": "v",
         "showlegend": true,
         "type": "scatter",
         "x": [
          1950,
          1951,
          1952,
          1953,
          1954,
          1955,
          1956,
          1957,
          1958,
          1959,
          1960,
          1961,
          1962,
          1963,
          1964,
          1965,
          1966,
          1967,
          1968,
          1969,
          1970,
          1971,
          1972,
          1973,
          1974,
          1975,
          1976,
          1977,
          1978,
          1979,
          1980,
          1981,
          1982,
          1983,
          1984,
          1985,
          1986,
          1987,
          1988,
          1989,
          1990,
          1991,
          1992,
          1993,
          1994,
          1995,
          1996,
          1997,
          1998,
          1999,
          2000,
          2001,
          2002,
          2003,
          2004,
          2005,
          2006,
          2007,
          2008,
          2009,
          2010,
          2011,
          2012,
          2013,
          2014,
          2015,
          2016,
          2017,
          2018,
          2019
         ],
         "xaxis": "x",
         "y": [
          2,
          0,
          2,
          0,
          2,
          4,
          5,
          4,
          5,
          7,
          5,
          3,
          7,
          11,
          11,
          8,
          4,
          7,
          16,
          11,
          13,
          15,
          10,
          13,
          15,
          15,
          6,
          12,
          17,
          16,
          17,
          19,
          27,
          24,
          22,
          13,
          10,
          14,
          8,
          12,
          17,
          18,
          13,
          13,
          14,
          11,
          20,
          16,
          17,
          16,
          18,
          19,
          23,
          20,
          13,
          9,
          8,
          21,
          16,
          20,
          15,
          25,
          29,
          19,
          20,
          20,
          17,
          27,
          19,
          9
         ],
         "yaxis": "y"
        },
        {
         "hovertemplate": "emotion=sadness<br>release_date=%{x}<br>count=%{y}<extra></extra>",
         "legendgroup": "sadness",
         "line": {
          "color": "#ab63fa",
          "dash": "solid"
         },
         "marker": {
          "symbol": "circle"
         },
         "mode": "lines",
         "name": "sadness",
         "orientation": "v",
         "showlegend": true,
         "type": "scatter",
         "x": [
          1950,
          1951,
          1952,
          1953,
          1954,
          1955,
          1956,
          1957,
          1958,
          1959,
          1960,
          1961,
          1962,
          1963,
          1964,
          1965,
          1966,
          1967,
          1968,
          1969,
          1970,
          1971,
          1972,
          1973,
          1974,
          1975,
          1976,
          1977,
          1978,
          1979,
          1980,
          1981,
          1982,
          1983,
          1984,
          1985,
          1986,
          1987,
          1988,
          1989,
          1990,
          1991,
          1992,
          1993,
          1994,
          1995,
          1996,
          1997,
          1998,
          1999,
          2000,
          2001,
          2002,
          2003,
          2004,
          2005,
          2006,
          2007,
          2008,
          2009,
          2010,
          2011,
          2012,
          2013,
          2014,
          2015,
          2016,
          2017,
          2018,
          2019
         ],
         "xaxis": "x",
         "y": [
          13,
          17,
          18,
          15,
          23,
          29,
          51,
          85,
          72,
          85,
          76,
          81,
          106,
          128,
          108,
          131,
          117,
          122,
          129,
          92,
          90,
          96,
          90,
          102,
          81,
          128,
          93,
          109,
          146,
          144,
          136,
          148,
          147,
          140,
          134,
          122,
          128,
          132,
          135,
          126,
          126,
          131,
          146,
          147,
          138,
          107,
          115,
          120,
          114,
          129,
          94,
          138,
          153,
          145,
          127,
          133,
          155,
          133,
          163,
          166,
          112,
          149,
          174,
          147,
          142,
          185,
          155,
          182,
          180,
          134
         ],
         "yaxis": "y"
        },
        {
         "hovertemplate": "emotion=anger<br>release_date=%{x}<br>count=%{y}<extra></extra>",
         "legendgroup": "anger",
         "line": {
          "color": "#FFA15A",
          "dash": "solid"
         },
         "marker": {
          "symbol": "circle"
         },
         "mode": "lines",
         "name": "anger",
         "orientation": "v",
         "showlegend": true,
         "type": "scatter",
         "x": [
          1950,
          1951,
          1952,
          1953,
          1954,
          1955,
          1956,
          1957,
          1958,
          1959,
          1960,
          1961,
          1962,
          1963,
          1964,
          1965,
          1966,
          1967,
          1968,
          1969,
          1970,
          1971,
          1972,
          1973,
          1974,
          1975,
          1976,
          1977,
          1978,
          1979,
          1980,
          1981,
          1982,
          1983,
          1984,
          1985,
          1986,
          1987,
          1988,
          1989,
          1990,
          1991,
          1992,
          1993,
          1994,
          1995,
          1996,
          1997,
          1998,
          1999,
          2000,
          2001,
          2002,
          2003,
          2004,
          2005,
          2006,
          2007,
          2008,
          2009,
          2010,
          2011,
          2012,
          2013,
          2014,
          2015,
          2016,
          2017,
          2018,
          2019
         ],
         "xaxis": "x",
         "y": [
          3,
          5,
          4,
          6,
          7,
          8,
          14,
          14,
          33,
          28,
          25,
          28,
          21,
          23,
          44,
          35,
          28,
          52,
          39,
          44,
          34,
          47,
          56,
          50,
          50,
          43,
          48,
          45,
          54,
          72,
          89,
          82,
          77,
          87,
          82,
          71,
          59,
          49,
          60,
          59,
          59,
          71,
          73,
          71,
          63,
          58,
          49,
          52,
          64,
          70,
          53,
          69,
          68,
          64,
          71,
          73,
          81,
          62,
          74,
          101,
          67,
          88,
          81,
          70,
          87,
          102,
          86,
          94,
          115,
          99
         ],
         "yaxis": "y"
        },
        {
         "hovertemplate": "emotion=joy<br>release_date=%{x}<br>count=%{y}<extra></extra>",
         "legendgroup": "joy",
         "line": {
          "color": "#19d3f3",
          "dash": "solid"
         },
         "marker": {
          "symbol": "circle"
         },
         "mode": "lines",
         "name": "joy",
         "orientation": "v",
         "showlegend": true,
         "type": "scatter",
         "x": [
          1950,
          1951,
          1952,
          1953,
          1954,
          1955,
          1956,
          1957,
          1958,
          1959,
          1960,
          1961,
          1962,
          1963,
          1964,
          1965,
          1966,
          1967,
          1968,
          1969,
          1970,
          1971,
          1972,
          1973,
          1974,
          1975,
          1976,
          1977,
          1978,
          1979,
          1980,
          1981,
          1982,
          1983,
          1984,
          1985,
          1986,
          1987,
          1988,
          1989,
          1990,
          1991,
          1992,
          1993,
          1994,
          1995,
          1996,
          1997,
          1998,
          1999,
          2000,
          2001,
          2002,
          2003,
          2004,
          2005,
          2006,
          2007,
          2008,
          2009,
          2010,
          2011,
          2012,
          2013,
          2014,
          2015,
          2016,
          2017,
          2018,
          2019
         ],
         "xaxis": "x",
         "y": [
          31,
          32,
          30,
          19,
          62,
          58,
          113,
          111,
          144,
          159,
          149,
          130,
          154,
          173,
          193,
          163,
          176,
          194,
          187,
          160,
          199,
          197,
          180,
          213,
          195,
          206,
          192,
          229,
          223,
          239,
          245,
          256,
          217,
          250,
          210,
          191,
          238,
          227,
          198,
          215,
          196,
          254,
          247,
          237,
          236,
          190,
          205,
          200,
          201,
          236,
          204,
          224,
          205,
          215,
          246,
          207,
          270,
          234,
          225,
          292,
          212,
          257,
          293,
          309,
          274,
          285,
          262,
          340,
          328,
          283
         ],
         "yaxis": "y"
        }
       ],
       "layout": {
        "legend": {
         "title": {
          "text": "emotion"
         },
         "tracegroupgap": 0
        },
        "template": {
         "data": {
          "bar": [
           {
            "error_x": {
             "color": "#2a3f5f"
            },
            "error_y": {
             "color": "#2a3f5f"
            },
            "marker": {
             "line": {
              "color": "#E5ECF6",
              "width": 0.5
             },
             "pattern": {
              "fillmode": "overlay",
              "size": 10,
              "solidity": 0.2
             }
            },
            "type": "bar"
           }
          ],
          "barpolar": [
           {
            "marker": {
             "line": {
              "color": "#E5ECF6",
              "width": 0.5
             },
             "pattern": {
              "fillmode": "overlay",
              "size": 10,
              "solidity": 0.2
             }
            },
            "type": "barpolar"
           }
          ],
          "carpet": [
           {
            "aaxis": {
             "endlinecolor": "#2a3f5f",
             "gridcolor": "white",
             "linecolor": "white",
             "minorgridcolor": "white",
             "startlinecolor": "#2a3f5f"
            },
            "baxis": {
             "endlinecolor": "#2a3f5f",
             "gridcolor": "white",
             "linecolor": "white",
             "minorgridcolor": "white",
             "startlinecolor": "#2a3f5f"
            },
            "type": "carpet"
           }
          ],
          "choropleth": [
           {
            "colorbar": {
             "outlinewidth": 0,
             "ticks": ""
            },
            "type": "choropleth"
           }
          ],
          "contour": [
           {
            "colorbar": {
             "outlinewidth": 0,
             "ticks": ""
            },
            "colorscale": [
             [
              0,
              "#0d0887"
             ],
             [
              0.1111111111111111,
              "#46039f"
             ],
             [
              0.2222222222222222,
              "#7201a8"
             ],
             [
              0.3333333333333333,
              "#9c179e"
             ],
             [
              0.4444444444444444,
              "#bd3786"
             ],
             [
              0.5555555555555556,
              "#d8576b"
             ],
             [
              0.6666666666666666,
              "#ed7953"
             ],
             [
              0.7777777777777778,
              "#fb9f3a"
             ],
             [
              0.8888888888888888,
              "#fdca26"
             ],
             [
              1,
              "#f0f921"
             ]
            ],
            "type": "contour"
           }
          ],
          "contourcarpet": [
           {
            "colorbar": {
             "outlinewidth": 0,
             "ticks": ""
            },
            "type": "contourcarpet"
           }
          ],
          "heatmap": [
           {
            "colorbar": {
             "outlinewidth": 0,
             "ticks": ""
            },
            "colorscale": [
             [
              0,
              "#0d0887"
             ],
             [
              0.1111111111111111,
              "#46039f"
             ],
             [
              0.2222222222222222,
              "#7201a8"
             ],
             [
              0.3333333333333333,
              "#9c179e"
             ],
             [
              0.4444444444444444,
              "#bd3786"
             ],
             [
              0.5555555555555556,
              "#d8576b"
             ],
             [
              0.6666666666666666,
              "#ed7953"
             ],
             [
              0.7777777777777778,
              "#fb9f3a"
             ],
             [
              0.8888888888888888,
              "#fdca26"
             ],
             [
              1,
              "#f0f921"
             ]
            ],
            "type": "heatmap"
           }
          ],
          "heatmapgl": [
           {
            "colorbar": {
             "outlinewidth": 0,
             "ticks": ""
            },
            "colorscale": [
             [
              0,
              "#0d0887"
             ],
             [
              0.1111111111111111,
              "#46039f"
             ],
             [
              0.2222222222222222,
              "#7201a8"
             ],
             [
              0.3333333333333333,
              "#9c179e"
             ],
             [
              0.4444444444444444,
              "#bd3786"
             ],
             [
              0.5555555555555556,
              "#d8576b"
             ],
             [
              0.6666666666666666,
              "#ed7953"
             ],
             [
              0.7777777777777778,
              "#fb9f3a"
             ],
             [
              0.8888888888888888,
              "#fdca26"
             ],
             [
              1,
              "#f0f921"
             ]
            ],
            "type": "heatmapgl"
           }
          ],
          "histogram": [
           {
            "marker": {
             "pattern": {
              "fillmode": "overlay",
              "size": 10,
              "solidity": 0.2
             }
            },
            "type": "histogram"
           }
          ],
          "histogram2d": [
           {
            "colorbar": {
             "outlinewidth": 0,
             "ticks": ""
            },
            "colorscale": [
             [
              0,
              "#0d0887"
             ],
             [
              0.1111111111111111,
              "#46039f"
             ],
             [
              0.2222222222222222,
              "#7201a8"
             ],
             [
              0.3333333333333333,
              "#9c179e"
             ],
             [
              0.4444444444444444,
              "#bd3786"
             ],
             [
              0.5555555555555556,
              "#d8576b"
             ],
             [
              0.6666666666666666,
              "#ed7953"
             ],
             [
              0.7777777777777778,
              "#fb9f3a"
             ],
             [
              0.8888888888888888,
              "#fdca26"
             ],
             [
              1,
              "#f0f921"
             ]
            ],
            "type": "histogram2d"
           }
          ],
          "histogram2dcontour": [
           {
            "colorbar": {
             "outlinewidth": 0,
             "ticks": ""
            },
            "colorscale": [
             [
              0,
              "#0d0887"
             ],
             [
              0.1111111111111111,
              "#46039f"
             ],
             [
              0.2222222222222222,
              "#7201a8"
             ],
             [
              0.3333333333333333,
              "#9c179e"
             ],
             [
              0.4444444444444444,
              "#bd3786"
             ],
             [
              0.5555555555555556,
              "#d8576b"
             ],
             [
              0.6666666666666666,
              "#ed7953"
             ],
             [
              0.7777777777777778,
              "#fb9f3a"
             ],
             [
              0.8888888888888888,
              "#fdca26"
             ],
             [
              1,
              "#f0f921"
             ]
            ],
            "type": "histogram2dcontour"
           }
          ],
          "mesh3d": [
           {
            "colorbar": {
             "outlinewidth": 0,
             "ticks": ""
            },
            "type": "mesh3d"
           }
          ],
          "parcoords": [
           {
            "line": {
             "colorbar": {
              "outlinewidth": 0,
              "ticks": ""
             }
            },
            "type": "parcoords"
           }
          ],
          "pie": [
           {
            "automargin": true,
            "type": "pie"
           }
          ],
          "scatter": [
           {
            "fillpattern": {
             "fillmode": "overlay",
             "size": 10,
             "solidity": 0.2
            },
            "type": "scatter"
           }
          ],
          "scatter3d": [
           {
            "line": {
             "colorbar": {
              "outlinewidth": 0,
              "ticks": ""
             }
            },
            "marker": {
             "colorbar": {
              "outlinewidth": 0,
              "ticks": ""
             }
            },
            "type": "scatter3d"
           }
          ],
          "scattercarpet": [
           {
            "marker": {
             "colorbar": {
              "outlinewidth": 0,
              "ticks": ""
             }
            },
            "type": "scattercarpet"
           }
          ],
          "scattergeo": [
           {
            "marker": {
             "colorbar": {
              "outlinewidth": 0,
              "ticks": ""
             }
            },
            "type": "scattergeo"
           }
          ],
          "scattergl": [
           {
            "marker": {
             "colorbar": {
              "outlinewidth": 0,
              "ticks": ""
             }
            },
            "type": "scattergl"
           }
          ],
          "scattermapbox": [
           {
            "marker": {
             "colorbar": {
              "outlinewidth": 0,
              "ticks": ""
             }
            },
            "type": "scattermapbox"
           }
          ],
          "scatterpolar": [
           {
            "marker": {
             "colorbar": {
              "outlinewidth": 0,
              "ticks": ""
             }
            },
            "type": "scatterpolar"
           }
          ],
          "scatterpolargl": [
           {
            "marker": {
             "colorbar": {
              "outlinewidth": 0,
              "ticks": ""
             }
            },
            "type": "scatterpolargl"
           }
          ],
          "scatterternary": [
           {
            "marker": {
             "colorbar": {
              "outlinewidth": 0,
              "ticks": ""
             }
            },
            "type": "scatterternary"
           }
          ],
          "surface": [
           {
            "colorbar": {
             "outlinewidth": 0,
             "ticks": ""
            },
            "colorscale": [
             [
              0,
              "#0d0887"
             ],
             [
              0.1111111111111111,
              "#46039f"
             ],
             [
              0.2222222222222222,
              "#7201a8"
             ],
             [
              0.3333333333333333,
              "#9c179e"
             ],
             [
              0.4444444444444444,
              "#bd3786"
             ],
             [
              0.5555555555555556,
              "#d8576b"
             ],
             [
              0.6666666666666666,
              "#ed7953"
             ],
             [
              0.7777777777777778,
              "#fb9f3a"
             ],
             [
              0.8888888888888888,
              "#fdca26"
             ],
             [
              1,
              "#f0f921"
             ]
            ],
            "type": "surface"
           }
          ],
          "table": [
           {
            "cells": {
             "fill": {
              "color": "#EBF0F8"
             },
             "line": {
              "color": "white"
             }
            },
            "header": {
             "fill": {
              "color": "#C8D4E3"
             },
             "line": {
              "color": "white"
             }
            },
            "type": "table"
           }
          ]
         },
         "layout": {
          "annotationdefaults": {
           "arrowcolor": "#2a3f5f",
           "arrowhead": 0,
           "arrowwidth": 1
          },
          "autotypenumbers": "strict",
          "coloraxis": {
           "colorbar": {
            "outlinewidth": 0,
            "ticks": ""
           }
          },
          "colorscale": {
           "diverging": [
            [
             0,
             "#8e0152"
            ],
            [
             0.1,
             "#c51b7d"
            ],
            [
             0.2,
             "#de77ae"
            ],
            [
             0.3,
             "#f1b6da"
            ],
            [
             0.4,
             "#fde0ef"
            ],
            [
             0.5,
             "#f7f7f7"
            ],
            [
             0.6,
             "#e6f5d0"
            ],
            [
             0.7,
             "#b8e186"
            ],
            [
             0.8,
             "#7fbc41"
            ],
            [
             0.9,
             "#4d9221"
            ],
            [
             1,
             "#276419"
            ]
           ],
           "sequential": [
            [
             0,
             "#0d0887"
            ],
            [
             0.1111111111111111,
             "#46039f"
            ],
            [
             0.2222222222222222,
             "#7201a8"
            ],
            [
             0.3333333333333333,
             "#9c179e"
            ],
            [
             0.4444444444444444,
             "#bd3786"
            ],
            [
             0.5555555555555556,
             "#d8576b"
            ],
            [
             0.6666666666666666,
             "#ed7953"
            ],
            [
             0.7777777777777778,
             "#fb9f3a"
            ],
            [
             0.8888888888888888,
             "#fdca26"
            ],
            [
             1,
             "#f0f921"
            ]
           ],
           "sequentialminus": [
            [
             0,
             "#0d0887"
            ],
            [
             0.1111111111111111,
             "#46039f"
            ],
            [
             0.2222222222222222,
             "#7201a8"
            ],
            [
             0.3333333333333333,
             "#9c179e"
            ],
            [
             0.4444444444444444,
             "#bd3786"
            ],
            [
             0.5555555555555556,
             "#d8576b"
            ],
            [
             0.6666666666666666,
             "#ed7953"
            ],
            [
             0.7777777777777778,
             "#fb9f3a"
            ],
            [
             0.8888888888888888,
             "#fdca26"
            ],
            [
             1,
             "#f0f921"
            ]
           ]
          },
          "colorway": [
           "#636efa",
           "#EF553B",
           "#00cc96",
           "#ab63fa",
           "#FFA15A",
           "#19d3f3",
           "#FF6692",
           "#B6E880",
           "#FF97FF",
           "#FECB52"
          ],
          "font": {
           "color": "#2a3f5f"
          },
          "geo": {
           "bgcolor": "white",
           "lakecolor": "white",
           "landcolor": "#E5ECF6",
           "showlakes": true,
           "showland": true,
           "subunitcolor": "white"
          },
          "hoverlabel": {
           "align": "left"
          },
          "hovermode": "closest",
          "mapbox": {
           "style": "light"
          },
          "paper_bgcolor": "white",
          "plot_bgcolor": "#E5ECF6",
          "polar": {
           "angularaxis": {
            "gridcolor": "white",
            "linecolor": "white",
            "ticks": ""
           },
           "bgcolor": "#E5ECF6",
           "radialaxis": {
            "gridcolor": "white",
            "linecolor": "white",
            "ticks": ""
           }
          },
          "scene": {
           "xaxis": {
            "backgroundcolor": "#E5ECF6",
            "gridcolor": "white",
            "gridwidth": 2,
            "linecolor": "white",
            "showbackground": true,
            "ticks": "",
            "zerolinecolor": "white"
           },
           "yaxis": {
            "backgroundcolor": "#E5ECF6",
            "gridcolor": "white",
            "gridwidth": 2,
            "linecolor": "white",
            "showbackground": true,
            "ticks": "",
            "zerolinecolor": "white"
           },
           "zaxis": {
            "backgroundcolor": "#E5ECF6",
            "gridcolor": "white",
            "gridwidth": 2,
            "linecolor": "white",
            "showbackground": true,
            "ticks": "",
            "zerolinecolor": "white"
           }
          },
          "shapedefaults": {
           "line": {
            "color": "#2a3f5f"
           }
          },
          "ternary": {
           "aaxis": {
            "gridcolor": "white",
            "linecolor": "white",
            "ticks": ""
           },
           "baxis": {
            "gridcolor": "white",
            "linecolor": "white",
            "ticks": ""
           },
           "bgcolor": "#E5ECF6",
           "caxis": {
            "gridcolor": "white",
            "linecolor": "white",
            "ticks": ""
           }
          },
          "title": {
           "x": 0.05
          },
          "xaxis": {
           "automargin": true,
           "gridcolor": "white",
           "linecolor": "white",
           "ticks": "",
           "title": {
            "standoff": 15
           },
           "zerolinecolor": "white",
           "zerolinewidth": 2
          },
          "yaxis": {
           "automargin": true,
           "gridcolor": "white",
           "linecolor": "white",
           "ticks": "",
           "title": {
            "standoff": 15
           },
           "zerolinecolor": "white",
           "zerolinewidth": 2
          }
         }
        },
        "title": {
         "text": "Anger Over Time"
        },
        "xaxis": {
         "anchor": "y",
         "domain": [
          0,
          1
         ],
         "title": {
          "text": "release_date"
         }
        },
        "yaxis": {
         "anchor": "x",
         "domain": [
          0,
          1
         ],
         "title": {
          "text": "count"
         }
        }
       }
      }
     },
     "metadata": {},
     "output_type": "display_data"
    }
   ],
   "source": [
    "import plotly.express as px\n",
    "\n",
    "fig = px.line(combined_df, x=\"release_date\", y=\"count\", color='emotion', title='Anger Over Time')\n",
    "fig.show()"
   ]
  }
 ],
 "metadata": {
  "kernelspec": {
   "display_name": "venv311",
   "language": "python",
   "name": "python3"
  },
  "language_info": {
   "codemirror_mode": {
    "name": "ipython",
    "version": 3
   },
   "file_extension": ".py",
   "mimetype": "text/x-python",
   "name": "python",
   "nbconvert_exporter": "python",
   "pygments_lexer": "ipython3",
   "version": "3.11.9"
  }
 },
 "nbformat": 4,
 "nbformat_minor": 2
}
