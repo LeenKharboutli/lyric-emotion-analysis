{
 "cells": [
  {
   "cell_type": "code",
   "execution_count": null,
   "metadata": {},
   "outputs": [],
   "source": [
    "# https://lyricsgenius.readthedocs.io/en/master/usage.html"
   ]
  },
  {
   "cell_type": "code",
   "execution_count": 2,
   "metadata": {},
   "outputs": [],
   "source": [
    "from lyricsgenius import Genius\n",
    "import yaml"
   ]
  },
  {
   "cell_type": "code",
   "execution_count": 14,
   "metadata": {},
   "outputs": [],
   "source": [
    "with open('user_token.yaml') as token_file:\n",
    "    token_info = yaml.safe_load(token_file)"
   ]
  },
  {
   "cell_type": "code",
   "execution_count": 15,
   "metadata": {},
   "outputs": [],
   "source": [
    "token = token_info['token']"
   ]
  },
  {
   "cell_type": "code",
   "execution_count": 16,
   "metadata": {},
   "outputs": [
    {
     "name": "stdout",
     "output_type": "stream",
     "text": [
      "Searching for songs by Andy Shauf...\n",
      "\n",
      "Song 1: \"Alexander All Alone\"\n",
      "Song 2: \"All Of My Love\"\n",
      "Song 3: \"All the Same\"\n",
      "\n",
      "Reached user-specified song limit (3).\n",
      "Done. Found 3 songs.\n",
      "[Song(id, artist, ...), Song(id, artist, ...), Song(id, artist, ...)]\n"
     ]
    }
   ],
   "source": [
    "genius = Genius(token)\n",
    "artist = genius.search_artist(\"Andy Shauf\", max_songs=3, sort=\"title\")\n",
    "print(artist.songs)"
   ]
  },
  {
   "cell_type": "code",
   "execution_count": 17,
   "metadata": {},
   "outputs": [
    {
     "name": "stdout",
     "output_type": "stream",
     "text": [
      "Searching for songs by Frankie Vaughan...\n",
      "\n",
      "Song 1: \"Give Me The Moonlight\"\n",
      "Song 2: \"Green Door\"\n",
      "Song 3: \"Happy Days and Lonely Nights\"\n",
      "\n",
      "Reached user-specified song limit (3).\n",
      "Done. Found 3 songs.\n",
      "Searching for \"Judy\" by Frankie Vaughan...\n",
      "Done.\n"
     ]
    },
    {
     "data": {
      "text/plain": [
       "'1 ContributorJudy LyricsIf her voice can bring\\nEvery hope of Spring\\nThat\\'s Judy\\nMy Judy\\nIf her eyes say \"yes\"\\nBut you\\'re wrong in your guess\\nThat\\'s Judy\\nMy Judy\\nIf you hear her call\\nIn a soft, southern drawl\\n\"Hi! Stranger!\"\\nThat\\'s danger\\nIf you\\'re smart; watch yourr heart\\nShe\\'ll upset \\'most any fellows apple cart!\\nIn a hundred ways\\nYou\\'ll be shouting her praise\\nShe\\'ll let \\'ya\\nShe\\'ll get \\'ya\\nWhen she sees you fall\\nShe will will tell you \"That\\'s all,...\"\\n\"You wrtech \\'ya!\"\\nYou betcha\\nThen you\\'l know all the heartaches\\nOf a fool just like me\\nIf she seem a saint\\nAnd you\\'ll find that she ain\\'t\\nThat\\'s Judy\\nSure as you\\'re bornYou might also likeEmbed'"
      ]
     },
     "execution_count": 17,
     "metadata": {},
     "output_type": "execute_result"
    }
   ],
   "source": [
    "# Judy\tFrankie Vaughan\n",
    "artist_two = genius.search_artist(\"Frankie Vaughan\", max_songs=3, sort=\"title\")\n",
    "song = genius.search_song(\"Judy\", artist_two.name)\n",
    "song.lyrics"
   ]
  }
 ],
 "metadata": {
  "kernelspec": {
   "display_name": "Python 3",
   "language": "python",
   "name": "python3"
  },
  "language_info": {
   "codemirror_mode": {
    "name": "ipython",
    "version": 3
   },
   "file_extension": ".py",
   "mimetype": "text/x-python",
   "name": "python",
   "nbconvert_exporter": "python",
   "pygments_lexer": "ipython3",
   "version": "3.12.3"
  }
 },
 "nbformat": 4,
 "nbformat_minor": 2
}
