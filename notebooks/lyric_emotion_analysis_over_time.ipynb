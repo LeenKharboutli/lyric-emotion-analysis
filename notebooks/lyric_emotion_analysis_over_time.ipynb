{
 "cells": [
  {
   "cell_type": "markdown",
   "metadata": {},
   "source": [
    "# Performing analysis on lyric data combined with DistilBERT's emotion classification"
   ]
  },
  {
   "cell_type": "markdown",
   "metadata": {},
   "source": [
    "## Project Overview \n",
    "\n",
    "The dataset used in this project is the \"Music Dataset: Lyrics and Metadata from 1950 to 2019\" by Moura et al. (2020), which consists of music lyrics and metadata on those lyrics spanning nearly seven decades.\n",
    "\n",
    "For this analysis, we used a pretrained DistilBERT model loaded from the Hugging Face Model Hub. We fine-tuned this DistilBERT model on the \"Emotions Dataset for NLP\" dataset by Govi (2019), which contains labeled data collected from Twitter, labeled by one of six emotions: \"anger\", \"joy\", \"surprise\", \"fear\", \"love\", and \"sadness\". We then used this fined-tuned model to predict an emotion label for the lyrics of each song in the \"Music Dataset: Lyrics and Metadata from 1950 to 2019\" dataset.\n",
    "\n",
    "In this notebook, we take the predictions made by DistilBERT, associate each with its corresponding entry in the original \"Music Dataset: Lyrics and Metadata from 1950 to 2019\" dataset, and perform a time series analysis on this data. The aim was to see what trends there might have been in the overall emotional content of lyrics released over this time period. \n",
    "\n",
    "What we find in this analysis is that songs released in a particular year were increasingly more likely to express \"anger\" and \"fear\" and less likely to express \"love\", as time went on. \n",
    "\n",
    "## Future Work\n",
    "\n",
    "Collecting a dataset with a broader and more complex array of emotion classes would be fundamental in arriving at a deeper analysis of the emotional content of lyrics. Additionally, classifying parts of lyrics and capturing the various emotions that can be expressed in a single song would be greatly useful for getting a richer understanding of the complex emotions a single song can express. Because music doesn't only consist of lyrics, collecting a dataset with emotions labeled on other aspects of a song, such as rythm and melody, and using that for analysis alongside NLP emotion classification on lyrics, will enable a broader understanding of the emotions a particular song communicates.    \n",
    "\n",
    "It would be of interest to look into trends in emotions expressed in music by geographical location, and viewing trends over time lined with other factors that may affect the emotional expression of artists, such as economic conditions over time or other historical developments. \n",
    "\n",
    "\n",
    "## Citations\n",
    "\n",
    "Govi, Praveen. \"Emotions Dataset for NLP.\" Kaggle. Accessed July 11, 2024. https://www.kaggle.com/datasets/praveengovi/emotions-dataset-for-nlp/data.\n",
    "\n",
    "Moura, Luan; Fontelles, Emanuel; Sampaio, Vinicius; França, Mardônio (2020), “Music Dataset: Lyrics and Metadata from 1950 to 2019”, Mendeley Data, V2, doi: 10.17632/3t9vbwxgr5.2\n",
    "\n",
    "\n"
   ]
  },
  {
   "cell_type": "code",
   "execution_count": 1,
   "metadata": {},
   "outputs": [],
   "source": [
    "from typing import Any, Dict\n",
    "from copy import deepcopy\n",
    "import pandas as pd\n",
    "import numpy as np\n",
    "from sklearn.linear_model import LinearRegression\n",
    "from sklearn.feature_selection import f_regression\n",
    "import plotly.express as px\n",
    "from plotly.subplots import make_subplots\n",
    "import plotly.graph_objects as go"
   ]
  },
  {
   "cell_type": "markdown",
   "metadata": {},
   "source": [
    "# Notebook Config"
   ]
  },
  {
   "cell_type": "code",
   "execution_count": 2,
   "metadata": {},
   "outputs": [],
   "source": [
    "# Set this to True if you wish to save notebook outputs, False otherwise.\n",
    "overwrite_saved = False\n",
    "original_dataset_path = './raw_data/Music_Dataset_Lyrics_and_Metadata_from_1950_to_2019/tcc_ceds_music.csv'\n",
    "emotion_classified_dataset_path = 'lyrics_with_emotion_preds.csv'\n",
    "combined_dataset_csv_path = './processed_data/tcc_ceds_music_with_emotion_classification.csv'\n",
    "percent_change_over_time_csv_path = './processed_data/percent_change_over_time.csv'"
   ]
  },
  {
   "cell_type": "markdown",
   "metadata": {},
   "source": [
    "# Functions"
   ]
  },
  {
   "cell_type": "code",
   "execution_count": 3,
   "metadata": {},
   "outputs": [],
   "source": [
    "def fast_index_match(df1: pd.DataFrame, df2: pd.DataFrame, col: str) -> bool:\n",
    "    \"\"\"\n",
    "    Quickly check if two DataFrames have matching values in specified columns, in the same order.\n",
    "\n",
    "    Parameters:\n",
    "    -----------\n",
    "    df1 : pd.DataFrame\n",
    "        The first DataFrame to compare.\n",
    "    df2 : pd.DataFrame\n",
    "        The second DataFrame to compare.\n",
    "    col : str\n",
    "        The column name to use for comparison.\n",
    "\n",
    "    Returns:\n",
    "    --------\n",
    "    bool\n",
    "        True if there's a perfect match between the values in the specified columns,\n",
    "        in the same order, with no duplicates. False otherwise.\n",
    "    \"\"\"\n",
    "    # Check if lengths match\n",
    "    if len(df1) != len(df2):\n",
    "        return False\n",
    "    \n",
    "    # Check for duplicates\n",
    "    if df1[col].duplicated().any() or df2[col].duplicated().any():\n",
    "        return False\n",
    "    \n",
    "    # Reset index and select only the columns we're interested in\n",
    "    df1_series = df1.reset_index(drop=True)[col]\n",
    "    df2_series = df2.reset_index(drop=True)[col]\n",
    "    \n",
    "    # Use pandas equals method for fast comparison\n",
    "    return df1_series.equals(df2_series)\n",
    "\n",
    "\n",
    "def normalize_counts(row: Dict[str, Any], release_date_total_counts: Dict[Any, float]) -> float:\n",
    "    \"\"\"\n",
    "    Normalizes the count of a row by the total counts of its release date.\n",
    "\n",
    "    Args:\n",
    "        row (Dict[str, Any]): A dictionary representing a row with at least 'count' and 'release_date' keys.\n",
    "        release_date_total_counts (Dict[Any, float]): A dictionary mapping release dates to their total counts.\n",
    "\n",
    "    Returns:\n",
    "        float: The normalized count as a percentage.\n",
    "    \"\"\"\n",
    "    return row['count'] / release_date_total_counts[row['release_date']] * 100\n",
    "\n",
    "\n",
    "def fit_trendline_to_emotion_df(emotion_df: pd.DataFrame) -> np.ndarray:\n",
    "    \"\"\"\n",
    "    Fit a linear trendline to the emotion data.\n",
    "\n",
    "    This function takes a DataFrame containing emotion data with 'release_date' and 'percentage_share' columns,\n",
    "    fits a linear regression model, and returns the predicted trendline.\n",
    "\n",
    "    Parameters:\n",
    "    -----------\n",
    "    emotion_df : pd.DataFrame\n",
    "        A DataFrame containing at least two columns:\n",
    "        - 'release_date': The dates of the data points\n",
    "        - 'percentage_share': The percentage share of the emotion for each date\n",
    "\n",
    "    Returns:\n",
    "    --------\n",
    "    np.ndarray\n",
    "        An array of predicted values forming the trendline, with the same length as the input DataFrame.\n",
    "    boolean\n",
    "        True or False value indicating True if the trend is statistically significant, False otherwise.\n",
    "        \n",
    "    Raises:\n",
    "    -------\n",
    "    ValueError\n",
    "        If the input DataFrame doesn't contain the required columns.\n",
    "\n",
    "    Example:\n",
    "    --------\n",
    "    >>> df = pd.DataFrame({'release_date': pd.date_range(start='2023-01-01', periods=5),\n",
    "    ...                    'percentage_share': [.1, .1, .2, .2, .4]})\n",
    "    >>> trendline, sig = fit_trendline_to_emotion_df(df)\n",
    "    \"\"\"\n",
    "    if 'release_date' not in emotion_df.columns or 'percentage_share' not in emotion_df.columns:\n",
    "        raise ValueError(\"Input DataFrame must contain 'release_date' and 'percentage_share' columns\")\n",
    "\n",
    "    X = np.array(emotion_df['release_date']).reshape(-1, 1)\n",
    "    y = emotion_df['percentage_share'].values\n",
    "    model = LinearRegression()\n",
    "    model.fit(X, y)\n",
    "\n",
    "    trendline = model.predict(X)\n",
    "\n",
    "    f_statistic, p_value = f_regression(X, y)\n",
    "    significant = False\n",
    "    if p_value[0] < 0.05:\n",
    "        significant = True\n",
    "\n",
    "    ## Uncomment if desired.\n",
    "    # print(f\"F-statistic: {f_statistic[0]}\")\n",
    "    # print(f\"P-value: {p_value[0]}\")\n",
    "    # print(f\"R-squared: {model.score(X, y)}\")\n",
    "    \n",
    "    return trendline, significant\n"
   ]
  },
  {
   "cell_type": "markdown",
   "metadata": {},
   "source": [
    "# Load Datasets"
   ]
  },
  {
   "cell_type": "code",
   "execution_count": 4,
   "metadata": {},
   "outputs": [],
   "source": [
    "original_dataset = pd.read_csv(original_dataset_path)"
   ]
  },
  {
   "cell_type": "code",
   "execution_count": 5,
   "metadata": {},
   "outputs": [
    {
     "data": {
      "text/html": [
       "<div>\n",
       "<style scoped>\n",
       "    .dataframe tbody tr th:only-of-type {\n",
       "        vertical-align: middle;\n",
       "    }\n",
       "\n",
       "    .dataframe tbody tr th {\n",
       "        vertical-align: top;\n",
       "    }\n",
       "\n",
       "    .dataframe thead th {\n",
       "        text-align: right;\n",
       "    }\n",
       "</style>\n",
       "<table border=\"1\" class=\"dataframe\">\n",
       "  <thead>\n",
       "    <tr style=\"text-align: right;\">\n",
       "      <th></th>\n",
       "      <th>Unnamed: 0</th>\n",
       "      <th>artist_name</th>\n",
       "      <th>track_name</th>\n",
       "      <th>release_date</th>\n",
       "      <th>genre</th>\n",
       "      <th>lyrics</th>\n",
       "      <th>len</th>\n",
       "      <th>dating</th>\n",
       "      <th>violence</th>\n",
       "      <th>world/life</th>\n",
       "      <th>...</th>\n",
       "      <th>sadness</th>\n",
       "      <th>feelings</th>\n",
       "      <th>danceability</th>\n",
       "      <th>loudness</th>\n",
       "      <th>acousticness</th>\n",
       "      <th>instrumentalness</th>\n",
       "      <th>valence</th>\n",
       "      <th>energy</th>\n",
       "      <th>topic</th>\n",
       "      <th>age</th>\n",
       "    </tr>\n",
       "  </thead>\n",
       "  <tbody>\n",
       "    <tr>\n",
       "      <th>0</th>\n",
       "      <td>0</td>\n",
       "      <td>mukesh</td>\n",
       "      <td>mohabbat bhi jhoothi</td>\n",
       "      <td>1950</td>\n",
       "      <td>pop</td>\n",
       "      <td>hold time feel break feel untrue convince spea...</td>\n",
       "      <td>95</td>\n",
       "      <td>0.000598</td>\n",
       "      <td>0.063746</td>\n",
       "      <td>0.000598</td>\n",
       "      <td>...</td>\n",
       "      <td>0.380299</td>\n",
       "      <td>0.117175</td>\n",
       "      <td>0.357739</td>\n",
       "      <td>0.454119</td>\n",
       "      <td>0.997992</td>\n",
       "      <td>0.901822</td>\n",
       "      <td>0.339448</td>\n",
       "      <td>0.137110</td>\n",
       "      <td>sadness</td>\n",
       "      <td>1.0</td>\n",
       "    </tr>\n",
       "    <tr>\n",
       "      <th>1</th>\n",
       "      <td>4</td>\n",
       "      <td>frankie laine</td>\n",
       "      <td>i believe</td>\n",
       "      <td>1950</td>\n",
       "      <td>pop</td>\n",
       "      <td>believe drop rain fall grow believe darkest ni...</td>\n",
       "      <td>51</td>\n",
       "      <td>0.035537</td>\n",
       "      <td>0.096777</td>\n",
       "      <td>0.443435</td>\n",
       "      <td>...</td>\n",
       "      <td>0.001284</td>\n",
       "      <td>0.001284</td>\n",
       "      <td>0.331745</td>\n",
       "      <td>0.647540</td>\n",
       "      <td>0.954819</td>\n",
       "      <td>0.000002</td>\n",
       "      <td>0.325021</td>\n",
       "      <td>0.263240</td>\n",
       "      <td>world/life</td>\n",
       "      <td>1.0</td>\n",
       "    </tr>\n",
       "    <tr>\n",
       "      <th>2</th>\n",
       "      <td>6</td>\n",
       "      <td>johnnie ray</td>\n",
       "      <td>cry</td>\n",
       "      <td>1950</td>\n",
       "      <td>pop</td>\n",
       "      <td>sweetheart send letter goodbye secret feel bet...</td>\n",
       "      <td>24</td>\n",
       "      <td>0.002770</td>\n",
       "      <td>0.002770</td>\n",
       "      <td>0.002770</td>\n",
       "      <td>...</td>\n",
       "      <td>0.002770</td>\n",
       "      <td>0.225422</td>\n",
       "      <td>0.456298</td>\n",
       "      <td>0.585288</td>\n",
       "      <td>0.840361</td>\n",
       "      <td>0.000000</td>\n",
       "      <td>0.351814</td>\n",
       "      <td>0.139112</td>\n",
       "      <td>music</td>\n",
       "      <td>1.0</td>\n",
       "    </tr>\n",
       "    <tr>\n",
       "      <th>3</th>\n",
       "      <td>10</td>\n",
       "      <td>pérez prado</td>\n",
       "      <td>patricia</td>\n",
       "      <td>1950</td>\n",
       "      <td>pop</td>\n",
       "      <td>kiss lips want stroll charm mambo chacha merin...</td>\n",
       "      <td>54</td>\n",
       "      <td>0.048249</td>\n",
       "      <td>0.001548</td>\n",
       "      <td>0.001548</td>\n",
       "      <td>...</td>\n",
       "      <td>0.225889</td>\n",
       "      <td>0.001548</td>\n",
       "      <td>0.686992</td>\n",
       "      <td>0.744404</td>\n",
       "      <td>0.083935</td>\n",
       "      <td>0.199393</td>\n",
       "      <td>0.775350</td>\n",
       "      <td>0.743736</td>\n",
       "      <td>romantic</td>\n",
       "      <td>1.0</td>\n",
       "    </tr>\n",
       "    <tr>\n",
       "      <th>4</th>\n",
       "      <td>12</td>\n",
       "      <td>giorgos papadopoulos</td>\n",
       "      <td>apopse eida oneiro</td>\n",
       "      <td>1950</td>\n",
       "      <td>pop</td>\n",
       "      <td>till darling till matter know till dream live ...</td>\n",
       "      <td>48</td>\n",
       "      <td>0.001350</td>\n",
       "      <td>0.001350</td>\n",
       "      <td>0.417772</td>\n",
       "      <td>...</td>\n",
       "      <td>0.068800</td>\n",
       "      <td>0.001350</td>\n",
       "      <td>0.291671</td>\n",
       "      <td>0.646489</td>\n",
       "      <td>0.975904</td>\n",
       "      <td>0.000246</td>\n",
       "      <td>0.597073</td>\n",
       "      <td>0.394375</td>\n",
       "      <td>romantic</td>\n",
       "      <td>1.0</td>\n",
       "    </tr>\n",
       "  </tbody>\n",
       "</table>\n",
       "<p>5 rows × 31 columns</p>\n",
       "</div>"
      ],
      "text/plain": [
       "   Unnamed: 0           artist_name            track_name  release_date genre  \\\n",
       "0           0                mukesh  mohabbat bhi jhoothi          1950   pop   \n",
       "1           4         frankie laine             i believe          1950   pop   \n",
       "2           6           johnnie ray                   cry          1950   pop   \n",
       "3          10           pérez prado              patricia          1950   pop   \n",
       "4          12  giorgos papadopoulos    apopse eida oneiro          1950   pop   \n",
       "\n",
       "                                              lyrics  len    dating  violence  \\\n",
       "0  hold time feel break feel untrue convince spea...   95  0.000598  0.063746   \n",
       "1  believe drop rain fall grow believe darkest ni...   51  0.035537  0.096777   \n",
       "2  sweetheart send letter goodbye secret feel bet...   24  0.002770  0.002770   \n",
       "3  kiss lips want stroll charm mambo chacha merin...   54  0.048249  0.001548   \n",
       "4  till darling till matter know till dream live ...   48  0.001350  0.001350   \n",
       "\n",
       "   world/life  ...   sadness  feelings  danceability  loudness  acousticness  \\\n",
       "0    0.000598  ...  0.380299  0.117175      0.357739  0.454119      0.997992   \n",
       "1    0.443435  ...  0.001284  0.001284      0.331745  0.647540      0.954819   \n",
       "2    0.002770  ...  0.002770  0.225422      0.456298  0.585288      0.840361   \n",
       "3    0.001548  ...  0.225889  0.001548      0.686992  0.744404      0.083935   \n",
       "4    0.417772  ...  0.068800  0.001350      0.291671  0.646489      0.975904   \n",
       "\n",
       "   instrumentalness   valence    energy       topic  age  \n",
       "0          0.901822  0.339448  0.137110     sadness  1.0  \n",
       "1          0.000002  0.325021  0.263240  world/life  1.0  \n",
       "2          0.000000  0.351814  0.139112       music  1.0  \n",
       "3          0.199393  0.775350  0.743736    romantic  1.0  \n",
       "4          0.000246  0.597073  0.394375    romantic  1.0  \n",
       "\n",
       "[5 rows x 31 columns]"
      ]
     },
     "execution_count": 5,
     "metadata": {},
     "output_type": "execute_result"
    }
   ],
   "source": [
    "original_dataset.head()"
   ]
  },
  {
   "cell_type": "code",
   "execution_count": 6,
   "metadata": {},
   "outputs": [],
   "source": [
    "emotion_classified_dataset = pd.read_csv(emotion_classified_dataset_path)"
   ]
  },
  {
   "cell_type": "code",
   "execution_count": 7,
   "metadata": {},
   "outputs": [
    {
     "data": {
      "text/html": [
       "<div>\n",
       "<style scoped>\n",
       "    .dataframe tbody tr th:only-of-type {\n",
       "        vertical-align: middle;\n",
       "    }\n",
       "\n",
       "    .dataframe tbody tr th {\n",
       "        vertical-align: top;\n",
       "    }\n",
       "\n",
       "    .dataframe thead th {\n",
       "        text-align: right;\n",
       "    }\n",
       "</style>\n",
       "<table border=\"1\" class=\"dataframe\">\n",
       "  <thead>\n",
       "    <tr style=\"text-align: right;\">\n",
       "      <th></th>\n",
       "      <th>Unnamed: 0</th>\n",
       "      <th>lyrics_text</th>\n",
       "      <th>predicted_emotion_label</th>\n",
       "      <th>predicted_encoded_label</th>\n",
       "    </tr>\n",
       "  </thead>\n",
       "  <tbody>\n",
       "    <tr>\n",
       "      <th>0</th>\n",
       "      <td>0</td>\n",
       "      <td>hold time feel break feel untrue convince spea...</td>\n",
       "      <td>sadness</td>\n",
       "      <td>4</td>\n",
       "    </tr>\n",
       "    <tr>\n",
       "      <th>1</th>\n",
       "      <td>1</td>\n",
       "      <td>believe drop rain fall grow believe darkest ni...</td>\n",
       "      <td>joy</td>\n",
       "      <td>2</td>\n",
       "    </tr>\n",
       "    <tr>\n",
       "      <th>2</th>\n",
       "      <td>2</td>\n",
       "      <td>sweetheart send letter goodbye secret feel bet...</td>\n",
       "      <td>sadness</td>\n",
       "      <td>4</td>\n",
       "    </tr>\n",
       "    <tr>\n",
       "      <th>3</th>\n",
       "      <td>3</td>\n",
       "      <td>kiss lips want stroll charm mambo chacha merin...</td>\n",
       "      <td>joy</td>\n",
       "      <td>2</td>\n",
       "    </tr>\n",
       "    <tr>\n",
       "      <th>4</th>\n",
       "      <td>4</td>\n",
       "      <td>till darling till matter know till dream live ...</td>\n",
       "      <td>sadness</td>\n",
       "      <td>4</td>\n",
       "    </tr>\n",
       "  </tbody>\n",
       "</table>\n",
       "</div>"
      ],
      "text/plain": [
       "   Unnamed: 0                                        lyrics_text  \\\n",
       "0           0  hold time feel break feel untrue convince spea...   \n",
       "1           1  believe drop rain fall grow believe darkest ni...   \n",
       "2           2  sweetheart send letter goodbye secret feel bet...   \n",
       "3           3  kiss lips want stroll charm mambo chacha merin...   \n",
       "4           4  till darling till matter know till dream live ...   \n",
       "\n",
       "  predicted_emotion_label  predicted_encoded_label  \n",
       "0                 sadness                        4  \n",
       "1                     joy                        2  \n",
       "2                 sadness                        4  \n",
       "3                     joy                        2  \n",
       "4                 sadness                        4  "
      ]
     },
     "execution_count": 7,
     "metadata": {},
     "output_type": "execute_result"
    }
   ],
   "source": [
    "emotion_classified_dataset.head()"
   ]
  },
  {
   "cell_type": "code",
   "execution_count": 8,
   "metadata": {},
   "outputs": [],
   "source": [
    "emotion_classified_dataset = emotion_classified_dataset.rename(columns={'lyrics_text': 'lyrics'})"
   ]
  },
  {
   "cell_type": "markdown",
   "metadata": {},
   "source": [
    "# Merge Datasets"
   ]
  },
  {
   "cell_type": "code",
   "execution_count": 9,
   "metadata": {},
   "outputs": [
    {
     "data": {
      "text/plain": [
       "True"
      ]
     },
     "execution_count": 9,
     "metadata": {},
     "output_type": "execute_result"
    }
   ],
   "source": [
    "fast_index_match(original_dataset, emotion_classified_dataset, 'lyrics')"
   ]
  },
  {
   "cell_type": "code",
   "execution_count": 10,
   "metadata": {},
   "outputs": [],
   "source": [
    "combined_dataset = original_dataset.assign(predicted_emotion_label=emotion_classified_dataset['predicted_emotion_label'])"
   ]
  },
  {
   "cell_type": "code",
   "execution_count": 11,
   "metadata": {},
   "outputs": [
    {
     "data": {
      "text/html": [
       "<div>\n",
       "<style scoped>\n",
       "    .dataframe tbody tr th:only-of-type {\n",
       "        vertical-align: middle;\n",
       "    }\n",
       "\n",
       "    .dataframe tbody tr th {\n",
       "        vertical-align: top;\n",
       "    }\n",
       "\n",
       "    .dataframe thead th {\n",
       "        text-align: right;\n",
       "    }\n",
       "</style>\n",
       "<table border=\"1\" class=\"dataframe\">\n",
       "  <thead>\n",
       "    <tr style=\"text-align: right;\">\n",
       "      <th></th>\n",
       "      <th>Unnamed: 0</th>\n",
       "      <th>artist_name</th>\n",
       "      <th>track_name</th>\n",
       "      <th>release_date</th>\n",
       "      <th>genre</th>\n",
       "      <th>lyrics</th>\n",
       "      <th>len</th>\n",
       "      <th>dating</th>\n",
       "      <th>violence</th>\n",
       "      <th>world/life</th>\n",
       "      <th>...</th>\n",
       "      <th>feelings</th>\n",
       "      <th>danceability</th>\n",
       "      <th>loudness</th>\n",
       "      <th>acousticness</th>\n",
       "      <th>instrumentalness</th>\n",
       "      <th>valence</th>\n",
       "      <th>energy</th>\n",
       "      <th>topic</th>\n",
       "      <th>age</th>\n",
       "      <th>predicted_emotion_label</th>\n",
       "    </tr>\n",
       "  </thead>\n",
       "  <tbody>\n",
       "    <tr>\n",
       "      <th>0</th>\n",
       "      <td>0</td>\n",
       "      <td>mukesh</td>\n",
       "      <td>mohabbat bhi jhoothi</td>\n",
       "      <td>1950</td>\n",
       "      <td>pop</td>\n",
       "      <td>hold time feel break feel untrue convince spea...</td>\n",
       "      <td>95</td>\n",
       "      <td>0.000598</td>\n",
       "      <td>0.063746</td>\n",
       "      <td>0.000598</td>\n",
       "      <td>...</td>\n",
       "      <td>0.117175</td>\n",
       "      <td>0.357739</td>\n",
       "      <td>0.454119</td>\n",
       "      <td>0.997992</td>\n",
       "      <td>0.901822</td>\n",
       "      <td>0.339448</td>\n",
       "      <td>0.137110</td>\n",
       "      <td>sadness</td>\n",
       "      <td>1.0</td>\n",
       "      <td>sadness</td>\n",
       "    </tr>\n",
       "    <tr>\n",
       "      <th>1</th>\n",
       "      <td>4</td>\n",
       "      <td>frankie laine</td>\n",
       "      <td>i believe</td>\n",
       "      <td>1950</td>\n",
       "      <td>pop</td>\n",
       "      <td>believe drop rain fall grow believe darkest ni...</td>\n",
       "      <td>51</td>\n",
       "      <td>0.035537</td>\n",
       "      <td>0.096777</td>\n",
       "      <td>0.443435</td>\n",
       "      <td>...</td>\n",
       "      <td>0.001284</td>\n",
       "      <td>0.331745</td>\n",
       "      <td>0.647540</td>\n",
       "      <td>0.954819</td>\n",
       "      <td>0.000002</td>\n",
       "      <td>0.325021</td>\n",
       "      <td>0.263240</td>\n",
       "      <td>world/life</td>\n",
       "      <td>1.0</td>\n",
       "      <td>joy</td>\n",
       "    </tr>\n",
       "    <tr>\n",
       "      <th>2</th>\n",
       "      <td>6</td>\n",
       "      <td>johnnie ray</td>\n",
       "      <td>cry</td>\n",
       "      <td>1950</td>\n",
       "      <td>pop</td>\n",
       "      <td>sweetheart send letter goodbye secret feel bet...</td>\n",
       "      <td>24</td>\n",
       "      <td>0.002770</td>\n",
       "      <td>0.002770</td>\n",
       "      <td>0.002770</td>\n",
       "      <td>...</td>\n",
       "      <td>0.225422</td>\n",
       "      <td>0.456298</td>\n",
       "      <td>0.585288</td>\n",
       "      <td>0.840361</td>\n",
       "      <td>0.000000</td>\n",
       "      <td>0.351814</td>\n",
       "      <td>0.139112</td>\n",
       "      <td>music</td>\n",
       "      <td>1.0</td>\n",
       "      <td>sadness</td>\n",
       "    </tr>\n",
       "    <tr>\n",
       "      <th>3</th>\n",
       "      <td>10</td>\n",
       "      <td>pérez prado</td>\n",
       "      <td>patricia</td>\n",
       "      <td>1950</td>\n",
       "      <td>pop</td>\n",
       "      <td>kiss lips want stroll charm mambo chacha merin...</td>\n",
       "      <td>54</td>\n",
       "      <td>0.048249</td>\n",
       "      <td>0.001548</td>\n",
       "      <td>0.001548</td>\n",
       "      <td>...</td>\n",
       "      <td>0.001548</td>\n",
       "      <td>0.686992</td>\n",
       "      <td>0.744404</td>\n",
       "      <td>0.083935</td>\n",
       "      <td>0.199393</td>\n",
       "      <td>0.775350</td>\n",
       "      <td>0.743736</td>\n",
       "      <td>romantic</td>\n",
       "      <td>1.0</td>\n",
       "      <td>joy</td>\n",
       "    </tr>\n",
       "    <tr>\n",
       "      <th>4</th>\n",
       "      <td>12</td>\n",
       "      <td>giorgos papadopoulos</td>\n",
       "      <td>apopse eida oneiro</td>\n",
       "      <td>1950</td>\n",
       "      <td>pop</td>\n",
       "      <td>till darling till matter know till dream live ...</td>\n",
       "      <td>48</td>\n",
       "      <td>0.001350</td>\n",
       "      <td>0.001350</td>\n",
       "      <td>0.417772</td>\n",
       "      <td>...</td>\n",
       "      <td>0.001350</td>\n",
       "      <td>0.291671</td>\n",
       "      <td>0.646489</td>\n",
       "      <td>0.975904</td>\n",
       "      <td>0.000246</td>\n",
       "      <td>0.597073</td>\n",
       "      <td>0.394375</td>\n",
       "      <td>romantic</td>\n",
       "      <td>1.0</td>\n",
       "      <td>sadness</td>\n",
       "    </tr>\n",
       "  </tbody>\n",
       "</table>\n",
       "<p>5 rows × 32 columns</p>\n",
       "</div>"
      ],
      "text/plain": [
       "   Unnamed: 0           artist_name            track_name  release_date genre  \\\n",
       "0           0                mukesh  mohabbat bhi jhoothi          1950   pop   \n",
       "1           4         frankie laine             i believe          1950   pop   \n",
       "2           6           johnnie ray                   cry          1950   pop   \n",
       "3          10           pérez prado              patricia          1950   pop   \n",
       "4          12  giorgos papadopoulos    apopse eida oneiro          1950   pop   \n",
       "\n",
       "                                              lyrics  len    dating  violence  \\\n",
       "0  hold time feel break feel untrue convince spea...   95  0.000598  0.063746   \n",
       "1  believe drop rain fall grow believe darkest ni...   51  0.035537  0.096777   \n",
       "2  sweetheart send letter goodbye secret feel bet...   24  0.002770  0.002770   \n",
       "3  kiss lips want stroll charm mambo chacha merin...   54  0.048249  0.001548   \n",
       "4  till darling till matter know till dream live ...   48  0.001350  0.001350   \n",
       "\n",
       "   world/life  ...  feelings  danceability  loudness  acousticness  \\\n",
       "0    0.000598  ...  0.117175      0.357739  0.454119      0.997992   \n",
       "1    0.443435  ...  0.001284      0.331745  0.647540      0.954819   \n",
       "2    0.002770  ...  0.225422      0.456298  0.585288      0.840361   \n",
       "3    0.001548  ...  0.001548      0.686992  0.744404      0.083935   \n",
       "4    0.417772  ...  0.001350      0.291671  0.646489      0.975904   \n",
       "\n",
       "   instrumentalness   valence    energy       topic  age  \\\n",
       "0          0.901822  0.339448  0.137110     sadness  1.0   \n",
       "1          0.000002  0.325021  0.263240  world/life  1.0   \n",
       "2          0.000000  0.351814  0.139112       music  1.0   \n",
       "3          0.199393  0.775350  0.743736    romantic  1.0   \n",
       "4          0.000246  0.597073  0.394375    romantic  1.0   \n",
       "\n",
       "   predicted_emotion_label  \n",
       "0                  sadness  \n",
       "1                      joy  \n",
       "2                  sadness  \n",
       "3                      joy  \n",
       "4                  sadness  \n",
       "\n",
       "[5 rows x 32 columns]"
      ]
     },
     "execution_count": 11,
     "metadata": {},
     "output_type": "execute_result"
    }
   ],
   "source": [
    "combined_dataset.head()"
   ]
  },
  {
   "cell_type": "markdown",
   "metadata": {},
   "source": [
    "## Save Merged"
   ]
  },
  {
   "cell_type": "code",
   "execution_count": 12,
   "metadata": {},
   "outputs": [],
   "source": [
    "if overwrite_saved:\n",
    "    combined_dataset.to_csv(combined_dataset_csv_path)"
   ]
  },
  {
   "cell_type": "markdown",
   "metadata": {},
   "source": [
    "# Analyzing Emotion Trends over Time"
   ]
  },
  {
   "cell_type": "markdown",
   "metadata": {},
   "source": [
    "## Get Counts of Each Emotion for Each Release Date"
   ]
  },
  {
   "cell_type": "code",
   "execution_count": 13,
   "metadata": {},
   "outputs": [],
   "source": [
    "# Step 1: Create all possible combinations of release_date and predicted_emotion_label\n",
    "all_combinations = pd.MultiIndex.from_product([\n",
    "    combined_dataset['release_date'].unique(),\n",
    "    combined_dataset['predicted_emotion_label'].unique()\n",
    "], names=['release_date', 'predicted_emotion_label'])\n",
    "\n",
    "# Step 2: Perform the groupby operation\n",
    "grouped = combined_dataset.groupby(['release_date', 'predicted_emotion_label']).size()\n",
    "\n",
    "# Step 3: Reindex with all combinations, filling missing values with 0\n",
    "emotion_counts_per_year_df = grouped.reindex(all_combinations, fill_value=0).reset_index(name='count')\n",
    "\n",
    "emotion_counts_per_year_df = emotion_counts_per_year_df.rename(columns={'predicted_emotion_label': 'emotion'})"
   ]
  },
  {
   "cell_type": "code",
   "execution_count": 14,
   "metadata": {},
   "outputs": [
    {
     "data": {
      "text/html": [
       "<div>\n",
       "<style scoped>\n",
       "    .dataframe tbody tr th:only-of-type {\n",
       "        vertical-align: middle;\n",
       "    }\n",
       "\n",
       "    .dataframe tbody tr th {\n",
       "        vertical-align: top;\n",
       "    }\n",
       "\n",
       "    .dataframe thead th {\n",
       "        text-align: right;\n",
       "    }\n",
       "</style>\n",
       "<table border=\"1\" class=\"dataframe\">\n",
       "  <thead>\n",
       "    <tr style=\"text-align: right;\">\n",
       "      <th></th>\n",
       "      <th>release_date</th>\n",
       "      <th>emotion</th>\n",
       "      <th>count</th>\n",
       "    </tr>\n",
       "  </thead>\n",
       "  <tbody>\n",
       "    <tr>\n",
       "      <th>0</th>\n",
       "      <td>1950</td>\n",
       "      <td>sadness</td>\n",
       "      <td>13</td>\n",
       "    </tr>\n",
       "    <tr>\n",
       "      <th>1</th>\n",
       "      <td>1950</td>\n",
       "      <td>joy</td>\n",
       "      <td>31</td>\n",
       "    </tr>\n",
       "    <tr>\n",
       "      <th>2</th>\n",
       "      <td>1950</td>\n",
       "      <td>fear</td>\n",
       "      <td>2</td>\n",
       "    </tr>\n",
       "    <tr>\n",
       "      <th>3</th>\n",
       "      <td>1950</td>\n",
       "      <td>love</td>\n",
       "      <td>1</td>\n",
       "    </tr>\n",
       "    <tr>\n",
       "      <th>4</th>\n",
       "      <td>1950</td>\n",
       "      <td>anger</td>\n",
       "      <td>3</td>\n",
       "    </tr>\n",
       "  </tbody>\n",
       "</table>\n",
       "</div>"
      ],
      "text/plain": [
       "   release_date  emotion  count\n",
       "0          1950  sadness     13\n",
       "1          1950      joy     31\n",
       "2          1950     fear      2\n",
       "3          1950     love      1\n",
       "4          1950    anger      3"
      ]
     },
     "execution_count": 14,
     "metadata": {},
     "output_type": "execute_result"
    }
   ],
   "source": [
    "emotion_counts_per_year_df.head()"
   ]
  },
  {
   "cell_type": "markdown",
   "metadata": {},
   "source": [
    "## Plot Emotion Counts Over Time"
   ]
  },
  {
   "cell_type": "code",
   "execution_count": 15,
   "metadata": {},
   "outputs": [
    {
     "data": {
      "application/vnd.plotly.v1+json": {
       "config": {
        "plotlyServerURL": "https://plot.ly"
       },
       "data": [
        {
         "hovertemplate": "emotion=sadness<br>release_date=%{x}<br>count=%{y}<extra></extra>",
         "legendgroup": "sadness",
         "line": {
          "color": "#636efa",
          "dash": "solid"
         },
         "marker": {
          "symbol": "circle"
         },
         "mode": "lines",
         "name": "sadness",
         "orientation": "v",
         "showlegend": true,
         "type": "scatter",
         "x": [
          1950,
          1951,
          1952,
          1953,
          1954,
          1955,
          1956,
          1957,
          1958,
          1959,
          1960,
          1961,
          1962,
          1963,
          1964,
          1965,
          1966,
          1967,
          1968,
          1969,
          1970,
          1971,
          1972,
          1973,
          1974,
          1975,
          1976,
          1977,
          1978,
          1979,
          1980,
          1981,
          1982,
          1983,
          1984,
          1985,
          1986,
          1987,
          1988,
          1989,
          1990,
          1991,
          1992,
          1993,
          1994,
          1995,
          1996,
          1997,
          1998,
          1999,
          2000,
          2001,
          2002,
          2003,
          2004,
          2005,
          2006,
          2007,
          2008,
          2009,
          2010,
          2011,
          2012,
          2013,
          2014,
          2015,
          2016,
          2017,
          2018,
          2019
         ],
         "xaxis": "x",
         "y": [
          13,
          17,
          18,
          15,
          23,
          29,
          51,
          85,
          72,
          85,
          76,
          81,
          106,
          128,
          108,
          131,
          117,
          122,
          129,
          92,
          90,
          96,
          90,
          102,
          81,
          128,
          93,
          109,
          146,
          144,
          136,
          148,
          147,
          140,
          134,
          122,
          128,
          132,
          135,
          126,
          126,
          131,
          146,
          147,
          138,
          107,
          115,
          120,
          114,
          129,
          94,
          138,
          153,
          145,
          127,
          133,
          155,
          133,
          163,
          166,
          112,
          149,
          174,
          147,
          142,
          185,
          155,
          182,
          180,
          134
         ],
         "yaxis": "y"
        },
        {
         "hovertemplate": "emotion=joy<br>release_date=%{x}<br>count=%{y}<extra></extra>",
         "legendgroup": "joy",
         "line": {
          "color": "#EF553B",
          "dash": "solid"
         },
         "marker": {
          "symbol": "circle"
         },
         "mode": "lines",
         "name": "joy",
         "orientation": "v",
         "showlegend": true,
         "type": "scatter",
         "x": [
          1950,
          1951,
          1952,
          1953,
          1954,
          1955,
          1956,
          1957,
          1958,
          1959,
          1960,
          1961,
          1962,
          1963,
          1964,
          1965,
          1966,
          1967,
          1968,
          1969,
          1970,
          1971,
          1972,
          1973,
          1974,
          1975,
          1976,
          1977,
          1978,
          1979,
          1980,
          1981,
          1982,
          1983,
          1984,
          1985,
          1986,
          1987,
          1988,
          1989,
          1990,
          1991,
          1992,
          1993,
          1994,
          1995,
          1996,
          1997,
          1998,
          1999,
          2000,
          2001,
          2002,
          2003,
          2004,
          2005,
          2006,
          2007,
          2008,
          2009,
          2010,
          2011,
          2012,
          2013,
          2014,
          2015,
          2016,
          2017,
          2018,
          2019
         ],
         "xaxis": "x",
         "y": [
          31,
          32,
          30,
          19,
          62,
          58,
          113,
          111,
          144,
          159,
          149,
          130,
          154,
          173,
          193,
          163,
          176,
          194,
          187,
          160,
          199,
          197,
          180,
          213,
          195,
          206,
          192,
          229,
          223,
          239,
          245,
          256,
          217,
          250,
          210,
          191,
          238,
          227,
          198,
          215,
          196,
          254,
          247,
          237,
          236,
          190,
          205,
          200,
          201,
          236,
          204,
          224,
          205,
          215,
          246,
          207,
          270,
          234,
          225,
          292,
          212,
          257,
          293,
          309,
          274,
          285,
          262,
          340,
          328,
          283
         ],
         "yaxis": "y"
        },
        {
         "hovertemplate": "emotion=fear<br>release_date=%{x}<br>count=%{y}<extra></extra>",
         "legendgroup": "fear",
         "line": {
          "color": "#00cc96",
          "dash": "solid"
         },
         "marker": {
          "symbol": "circle"
         },
         "mode": "lines",
         "name": "fear",
         "orientation": "v",
         "showlegend": true,
         "type": "scatter",
         "x": [
          1950,
          1951,
          1952,
          1953,
          1954,
          1955,
          1956,
          1957,
          1958,
          1959,
          1960,
          1961,
          1962,
          1963,
          1964,
          1965,
          1966,
          1967,
          1968,
          1969,
          1970,
          1971,
          1972,
          1973,
          1974,
          1975,
          1976,
          1977,
          1978,
          1979,
          1980,
          1981,
          1982,
          1983,
          1984,
          1985,
          1986,
          1987,
          1988,
          1989,
          1990,
          1991,
          1992,
          1993,
          1994,
          1995,
          1996,
          1997,
          1998,
          1999,
          2000,
          2001,
          2002,
          2003,
          2004,
          2005,
          2006,
          2007,
          2008,
          2009,
          2010,
          2011,
          2012,
          2013,
          2014,
          2015,
          2016,
          2017,
          2018,
          2019
         ],
         "xaxis": "x",
         "y": [
          2,
          0,
          2,
          0,
          2,
          4,
          5,
          4,
          5,
          7,
          5,
          3,
          7,
          11,
          11,
          8,
          4,
          7,
          16,
          11,
          13,
          15,
          10,
          13,
          15,
          15,
          6,
          12,
          17,
          16,
          17,
          19,
          27,
          24,
          22,
          13,
          10,
          14,
          8,
          12,
          17,
          18,
          13,
          13,
          14,
          11,
          20,
          16,
          17,
          16,
          18,
          19,
          23,
          20,
          13,
          9,
          8,
          21,
          16,
          20,
          15,
          25,
          29,
          19,
          20,
          20,
          17,
          27,
          19,
          9
         ],
         "yaxis": "y"
        },
        {
         "hovertemplate": "emotion=love<br>release_date=%{x}<br>count=%{y}<extra></extra>",
         "legendgroup": "love",
         "line": {
          "color": "#ab63fa",
          "dash": "solid"
         },
         "marker": {
          "symbol": "circle"
         },
         "mode": "lines",
         "name": "love",
         "orientation": "v",
         "showlegend": true,
         "type": "scatter",
         "x": [
          1950,
          1951,
          1952,
          1953,
          1954,
          1955,
          1956,
          1957,
          1958,
          1959,
          1960,
          1961,
          1962,
          1963,
          1964,
          1965,
          1966,
          1967,
          1968,
          1969,
          1970,
          1971,
          1972,
          1973,
          1974,
          1975,
          1976,
          1977,
          1978,
          1979,
          1980,
          1981,
          1982,
          1983,
          1984,
          1985,
          1986,
          1987,
          1988,
          1989,
          1990,
          1991,
          1992,
          1993,
          1994,
          1995,
          1996,
          1997,
          1998,
          1999,
          2000,
          2001,
          2002,
          2003,
          2004,
          2005,
          2006,
          2007,
          2008,
          2009,
          2010,
          2011,
          2012,
          2013,
          2014,
          2015,
          2016,
          2017,
          2018,
          2019
         ],
         "xaxis": "x",
         "y": [
          1,
          4,
          5,
          7,
          14,
          6,
          15,
          19,
          30,
          31,
          19,
          24,
          17,
          30,
          25,
          14,
          16,
          18,
          16,
          13,
          13,
          5,
          11,
          13,
          17,
          12,
          11,
          30,
          14,
          9,
          18,
          9,
          9,
          17,
          22,
          9,
          24,
          9,
          16,
          20,
          8,
          27,
          23,
          13,
          13,
          17,
          19,
          11,
          12,
          15,
          10,
          8,
          15,
          14,
          14,
          11,
          10,
          9,
          10,
          12,
          8,
          7,
          6,
          10,
          14,
          18,
          9,
          9,
          8,
          6
         ],
         "yaxis": "y"
        },
        {
         "hovertemplate": "emotion=anger<br>release_date=%{x}<br>count=%{y}<extra></extra>",
         "legendgroup": "anger",
         "line": {
          "color": "#FFA15A",
          "dash": "solid"
         },
         "marker": {
          "symbol": "circle"
         },
         "mode": "lines",
         "name": "anger",
         "orientation": "v",
         "showlegend": true,
         "type": "scatter",
         "x": [
          1950,
          1951,
          1952,
          1953,
          1954,
          1955,
          1956,
          1957,
          1958,
          1959,
          1960,
          1961,
          1962,
          1963,
          1964,
          1965,
          1966,
          1967,
          1968,
          1969,
          1970,
          1971,
          1972,
          1973,
          1974,
          1975,
          1976,
          1977,
          1978,
          1979,
          1980,
          1981,
          1982,
          1983,
          1984,
          1985,
          1986,
          1987,
          1988,
          1989,
          1990,
          1991,
          1992,
          1993,
          1994,
          1995,
          1996,
          1997,
          1998,
          1999,
          2000,
          2001,
          2002,
          2003,
          2004,
          2005,
          2006,
          2007,
          2008,
          2009,
          2010,
          2011,
          2012,
          2013,
          2014,
          2015,
          2016,
          2017,
          2018,
          2019
         ],
         "xaxis": "x",
         "y": [
          3,
          5,
          4,
          6,
          7,
          8,
          14,
          14,
          33,
          28,
          25,
          28,
          21,
          23,
          44,
          35,
          28,
          52,
          39,
          44,
          34,
          47,
          56,
          50,
          50,
          43,
          48,
          45,
          54,
          72,
          89,
          82,
          77,
          87,
          82,
          71,
          59,
          49,
          60,
          59,
          59,
          71,
          73,
          71,
          63,
          58,
          49,
          52,
          64,
          70,
          53,
          69,
          68,
          64,
          71,
          73,
          81,
          62,
          74,
          101,
          67,
          88,
          81,
          70,
          87,
          102,
          86,
          94,
          115,
          99
         ],
         "yaxis": "y"
        },
        {
         "hovertemplate": "emotion=surprise<br>release_date=%{x}<br>count=%{y}<extra></extra>",
         "legendgroup": "surprise",
         "line": {
          "color": "#19d3f3",
          "dash": "solid"
         },
         "marker": {
          "symbol": "circle"
         },
         "mode": "lines",
         "name": "surprise",
         "orientation": "v",
         "showlegend": true,
         "type": "scatter",
         "x": [
          1950,
          1951,
          1952,
          1953,
          1954,
          1955,
          1956,
          1957,
          1958,
          1959,
          1960,
          1961,
          1962,
          1963,
          1964,
          1965,
          1966,
          1967,
          1968,
          1969,
          1970,
          1971,
          1972,
          1973,
          1974,
          1975,
          1976,
          1977,
          1978,
          1979,
          1980,
          1981,
          1982,
          1983,
          1984,
          1985,
          1986,
          1987,
          1988,
          1989,
          1990,
          1991,
          1992,
          1993,
          1994,
          1995,
          1996,
          1997,
          1998,
          1999,
          2000,
          2001,
          2002,
          2003,
          2004,
          2005,
          2006,
          2007,
          2008,
          2009,
          2010,
          2011,
          2012,
          2013,
          2014,
          2015,
          2016,
          2017,
          2018,
          2019
         ],
         "xaxis": "x",
         "y": [
          1,
          0,
          1,
          1,
          1,
          1,
          2,
          4,
          3,
          2,
          0,
          5,
          4,
          4,
          2,
          5,
          2,
          1,
          1,
          2,
          3,
          3,
          2,
          1,
          4,
          3,
          6,
          3,
          5,
          3,
          4,
          6,
          4,
          8,
          5,
          1,
          5,
          4,
          5,
          4,
          6,
          2,
          6,
          4,
          1,
          2,
          4,
          4,
          4,
          6,
          4,
          8,
          3,
          12,
          8,
          7,
          3,
          3,
          2,
          6,
          4,
          5,
          5,
          5,
          0,
          7,
          4,
          8,
          3,
          3
         ],
         "yaxis": "y"
        }
       ],
       "layout": {
        "legend": {
         "title": {
          "text": "emotion"
         },
         "tracegroupgap": 0
        },
        "template": {
         "data": {
          "bar": [
           {
            "error_x": {
             "color": "#2a3f5f"
            },
            "error_y": {
             "color": "#2a3f5f"
            },
            "marker": {
             "line": {
              "color": "#E5ECF6",
              "width": 0.5
             },
             "pattern": {
              "fillmode": "overlay",
              "size": 10,
              "solidity": 0.2
             }
            },
            "type": "bar"
           }
          ],
          "barpolar": [
           {
            "marker": {
             "line": {
              "color": "#E5ECF6",
              "width": 0.5
             },
             "pattern": {
              "fillmode": "overlay",
              "size": 10,
              "solidity": 0.2
             }
            },
            "type": "barpolar"
           }
          ],
          "carpet": [
           {
            "aaxis": {
             "endlinecolor": "#2a3f5f",
             "gridcolor": "white",
             "linecolor": "white",
             "minorgridcolor": "white",
             "startlinecolor": "#2a3f5f"
            },
            "baxis": {
             "endlinecolor": "#2a3f5f",
             "gridcolor": "white",
             "linecolor": "white",
             "minorgridcolor": "white",
             "startlinecolor": "#2a3f5f"
            },
            "type": "carpet"
           }
          ],
          "choropleth": [
           {
            "colorbar": {
             "outlinewidth": 0,
             "ticks": ""
            },
            "type": "choropleth"
           }
          ],
          "contour": [
           {
            "colorbar": {
             "outlinewidth": 0,
             "ticks": ""
            },
            "colorscale": [
             [
              0,
              "#0d0887"
             ],
             [
              0.1111111111111111,
              "#46039f"
             ],
             [
              0.2222222222222222,
              "#7201a8"
             ],
             [
              0.3333333333333333,
              "#9c179e"
             ],
             [
              0.4444444444444444,
              "#bd3786"
             ],
             [
              0.5555555555555556,
              "#d8576b"
             ],
             [
              0.6666666666666666,
              "#ed7953"
             ],
             [
              0.7777777777777778,
              "#fb9f3a"
             ],
             [
              0.8888888888888888,
              "#fdca26"
             ],
             [
              1,
              "#f0f921"
             ]
            ],
            "type": "contour"
           }
          ],
          "contourcarpet": [
           {
            "colorbar": {
             "outlinewidth": 0,
             "ticks": ""
            },
            "type": "contourcarpet"
           }
          ],
          "heatmap": [
           {
            "colorbar": {
             "outlinewidth": 0,
             "ticks": ""
            },
            "colorscale": [
             [
              0,
              "#0d0887"
             ],
             [
              0.1111111111111111,
              "#46039f"
             ],
             [
              0.2222222222222222,
              "#7201a8"
             ],
             [
              0.3333333333333333,
              "#9c179e"
             ],
             [
              0.4444444444444444,
              "#bd3786"
             ],
             [
              0.5555555555555556,
              "#d8576b"
             ],
             [
              0.6666666666666666,
              "#ed7953"
             ],
             [
              0.7777777777777778,
              "#fb9f3a"
             ],
             [
              0.8888888888888888,
              "#fdca26"
             ],
             [
              1,
              "#f0f921"
             ]
            ],
            "type": "heatmap"
           }
          ],
          "heatmapgl": [
           {
            "colorbar": {
             "outlinewidth": 0,
             "ticks": ""
            },
            "colorscale": [
             [
              0,
              "#0d0887"
             ],
             [
              0.1111111111111111,
              "#46039f"
             ],
             [
              0.2222222222222222,
              "#7201a8"
             ],
             [
              0.3333333333333333,
              "#9c179e"
             ],
             [
              0.4444444444444444,
              "#bd3786"
             ],
             [
              0.5555555555555556,
              "#d8576b"
             ],
             [
              0.6666666666666666,
              "#ed7953"
             ],
             [
              0.7777777777777778,
              "#fb9f3a"
             ],
             [
              0.8888888888888888,
              "#fdca26"
             ],
             [
              1,
              "#f0f921"
             ]
            ],
            "type": "heatmapgl"
           }
          ],
          "histogram": [
           {
            "marker": {
             "pattern": {
              "fillmode": "overlay",
              "size": 10,
              "solidity": 0.2
             }
            },
            "type": "histogram"
           }
          ],
          "histogram2d": [
           {
            "colorbar": {
             "outlinewidth": 0,
             "ticks": ""
            },
            "colorscale": [
             [
              0,
              "#0d0887"
             ],
             [
              0.1111111111111111,
              "#46039f"
             ],
             [
              0.2222222222222222,
              "#7201a8"
             ],
             [
              0.3333333333333333,
              "#9c179e"
             ],
             [
              0.4444444444444444,
              "#bd3786"
             ],
             [
              0.5555555555555556,
              "#d8576b"
             ],
             [
              0.6666666666666666,
              "#ed7953"
             ],
             [
              0.7777777777777778,
              "#fb9f3a"
             ],
             [
              0.8888888888888888,
              "#fdca26"
             ],
             [
              1,
              "#f0f921"
             ]
            ],
            "type": "histogram2d"
           }
          ],
          "histogram2dcontour": [
           {
            "colorbar": {
             "outlinewidth": 0,
             "ticks": ""
            },
            "colorscale": [
             [
              0,
              "#0d0887"
             ],
             [
              0.1111111111111111,
              "#46039f"
             ],
             [
              0.2222222222222222,
              "#7201a8"
             ],
             [
              0.3333333333333333,
              "#9c179e"
             ],
             [
              0.4444444444444444,
              "#bd3786"
             ],
             [
              0.5555555555555556,
              "#d8576b"
             ],
             [
              0.6666666666666666,
              "#ed7953"
             ],
             [
              0.7777777777777778,
              "#fb9f3a"
             ],
             [
              0.8888888888888888,
              "#fdca26"
             ],
             [
              1,
              "#f0f921"
             ]
            ],
            "type": "histogram2dcontour"
           }
          ],
          "mesh3d": [
           {
            "colorbar": {
             "outlinewidth": 0,
             "ticks": ""
            },
            "type": "mesh3d"
           }
          ],
          "parcoords": [
           {
            "line": {
             "colorbar": {
              "outlinewidth": 0,
              "ticks": ""
             }
            },
            "type": "parcoords"
           }
          ],
          "pie": [
           {
            "automargin": true,
            "type": "pie"
           }
          ],
          "scatter": [
           {
            "fillpattern": {
             "fillmode": "overlay",
             "size": 10,
             "solidity": 0.2
            },
            "type": "scatter"
           }
          ],
          "scatter3d": [
           {
            "line": {
             "colorbar": {
              "outlinewidth": 0,
              "ticks": ""
             }
            },
            "marker": {
             "colorbar": {
              "outlinewidth": 0,
              "ticks": ""
             }
            },
            "type": "scatter3d"
           }
          ],
          "scattercarpet": [
           {
            "marker": {
             "colorbar": {
              "outlinewidth": 0,
              "ticks": ""
             }
            },
            "type": "scattercarpet"
           }
          ],
          "scattergeo": [
           {
            "marker": {
             "colorbar": {
              "outlinewidth": 0,
              "ticks": ""
             }
            },
            "type": "scattergeo"
           }
          ],
          "scattergl": [
           {
            "marker": {
             "colorbar": {
              "outlinewidth": 0,
              "ticks": ""
             }
            },
            "type": "scattergl"
           }
          ],
          "scattermapbox": [
           {
            "marker": {
             "colorbar": {
              "outlinewidth": 0,
              "ticks": ""
             }
            },
            "type": "scattermapbox"
           }
          ],
          "scatterpolar": [
           {
            "marker": {
             "colorbar": {
              "outlinewidth": 0,
              "ticks": ""
             }
            },
            "type": "scatterpolar"
           }
          ],
          "scatterpolargl": [
           {
            "marker": {
             "colorbar": {
              "outlinewidth": 0,
              "ticks": ""
             }
            },
            "type": "scatterpolargl"
           }
          ],
          "scatterternary": [
           {
            "marker": {
             "colorbar": {
              "outlinewidth": 0,
              "ticks": ""
             }
            },
            "type": "scatterternary"
           }
          ],
          "surface": [
           {
            "colorbar": {
             "outlinewidth": 0,
             "ticks": ""
            },
            "colorscale": [
             [
              0,
              "#0d0887"
             ],
             [
              0.1111111111111111,
              "#46039f"
             ],
             [
              0.2222222222222222,
              "#7201a8"
             ],
             [
              0.3333333333333333,
              "#9c179e"
             ],
             [
              0.4444444444444444,
              "#bd3786"
             ],
             [
              0.5555555555555556,
              "#d8576b"
             ],
             [
              0.6666666666666666,
              "#ed7953"
             ],
             [
              0.7777777777777778,
              "#fb9f3a"
             ],
             [
              0.8888888888888888,
              "#fdca26"
             ],
             [
              1,
              "#f0f921"
             ]
            ],
            "type": "surface"
           }
          ],
          "table": [
           {
            "cells": {
             "fill": {
              "color": "#EBF0F8"
             },
             "line": {
              "color": "white"
             }
            },
            "header": {
             "fill": {
              "color": "#C8D4E3"
             },
             "line": {
              "color": "white"
             }
            },
            "type": "table"
           }
          ]
         },
         "layout": {
          "annotationdefaults": {
           "arrowcolor": "#2a3f5f",
           "arrowhead": 0,
           "arrowwidth": 1
          },
          "autotypenumbers": "strict",
          "coloraxis": {
           "colorbar": {
            "outlinewidth": 0,
            "ticks": ""
           }
          },
          "colorscale": {
           "diverging": [
            [
             0,
             "#8e0152"
            ],
            [
             0.1,
             "#c51b7d"
            ],
            [
             0.2,
             "#de77ae"
            ],
            [
             0.3,
             "#f1b6da"
            ],
            [
             0.4,
             "#fde0ef"
            ],
            [
             0.5,
             "#f7f7f7"
            ],
            [
             0.6,
             "#e6f5d0"
            ],
            [
             0.7,
             "#b8e186"
            ],
            [
             0.8,
             "#7fbc41"
            ],
            [
             0.9,
             "#4d9221"
            ],
            [
             1,
             "#276419"
            ]
           ],
           "sequential": [
            [
             0,
             "#0d0887"
            ],
            [
             0.1111111111111111,
             "#46039f"
            ],
            [
             0.2222222222222222,
             "#7201a8"
            ],
            [
             0.3333333333333333,
             "#9c179e"
            ],
            [
             0.4444444444444444,
             "#bd3786"
            ],
            [
             0.5555555555555556,
             "#d8576b"
            ],
            [
             0.6666666666666666,
             "#ed7953"
            ],
            [
             0.7777777777777778,
             "#fb9f3a"
            ],
            [
             0.8888888888888888,
             "#fdca26"
            ],
            [
             1,
             "#f0f921"
            ]
           ],
           "sequentialminus": [
            [
             0,
             "#0d0887"
            ],
            [
             0.1111111111111111,
             "#46039f"
            ],
            [
             0.2222222222222222,
             "#7201a8"
            ],
            [
             0.3333333333333333,
             "#9c179e"
            ],
            [
             0.4444444444444444,
             "#bd3786"
            ],
            [
             0.5555555555555556,
             "#d8576b"
            ],
            [
             0.6666666666666666,
             "#ed7953"
            ],
            [
             0.7777777777777778,
             "#fb9f3a"
            ],
            [
             0.8888888888888888,
             "#fdca26"
            ],
            [
             1,
             "#f0f921"
            ]
           ]
          },
          "colorway": [
           "#636efa",
           "#EF553B",
           "#00cc96",
           "#ab63fa",
           "#FFA15A",
           "#19d3f3",
           "#FF6692",
           "#B6E880",
           "#FF97FF",
           "#FECB52"
          ],
          "font": {
           "color": "#2a3f5f"
          },
          "geo": {
           "bgcolor": "white",
           "lakecolor": "white",
           "landcolor": "#E5ECF6",
           "showlakes": true,
           "showland": true,
           "subunitcolor": "white"
          },
          "hoverlabel": {
           "align": "left"
          },
          "hovermode": "closest",
          "mapbox": {
           "style": "light"
          },
          "paper_bgcolor": "white",
          "plot_bgcolor": "#E5ECF6",
          "polar": {
           "angularaxis": {
            "gridcolor": "white",
            "linecolor": "white",
            "ticks": ""
           },
           "bgcolor": "#E5ECF6",
           "radialaxis": {
            "gridcolor": "white",
            "linecolor": "white",
            "ticks": ""
           }
          },
          "scene": {
           "xaxis": {
            "backgroundcolor": "#E5ECF6",
            "gridcolor": "white",
            "gridwidth": 2,
            "linecolor": "white",
            "showbackground": true,
            "ticks": "",
            "zerolinecolor": "white"
           },
           "yaxis": {
            "backgroundcolor": "#E5ECF6",
            "gridcolor": "white",
            "gridwidth": 2,
            "linecolor": "white",
            "showbackground": true,
            "ticks": "",
            "zerolinecolor": "white"
           },
           "zaxis": {
            "backgroundcolor": "#E5ECF6",
            "gridcolor": "white",
            "gridwidth": 2,
            "linecolor": "white",
            "showbackground": true,
            "ticks": "",
            "zerolinecolor": "white"
           }
          },
          "shapedefaults": {
           "line": {
            "color": "#2a3f5f"
           }
          },
          "ternary": {
           "aaxis": {
            "gridcolor": "white",
            "linecolor": "white",
            "ticks": ""
           },
           "baxis": {
            "gridcolor": "white",
            "linecolor": "white",
            "ticks": ""
           },
           "bgcolor": "#E5ECF6",
           "caxis": {
            "gridcolor": "white",
            "linecolor": "white",
            "ticks": ""
           }
          },
          "title": {
           "x": 0.05
          },
          "xaxis": {
           "automargin": true,
           "gridcolor": "white",
           "linecolor": "white",
           "ticks": "",
           "title": {
            "standoff": 15
           },
           "zerolinecolor": "white",
           "zerolinewidth": 2
          },
          "yaxis": {
           "automargin": true,
           "gridcolor": "white",
           "linecolor": "white",
           "ticks": "",
           "title": {
            "standoff": 15
           },
           "zerolinecolor": "white",
           "zerolinewidth": 2
          }
         }
        },
        "title": {
         "text": "Emotion Counts Over Time"
        },
        "xaxis": {
         "anchor": "y",
         "domain": [
          0,
          1
         ],
         "title": {
          "text": "release_date"
         }
        },
        "yaxis": {
         "anchor": "x",
         "domain": [
          0,
          1
         ],
         "title": {
          "text": "count"
         }
        }
       }
      }
     },
     "metadata": {},
     "output_type": "display_data"
    }
   ],
   "source": [
    "fig = px.line(emotion_counts_per_year_df, x=\"release_date\", y=\"count\", color='emotion', title='Emotion Counts Over Time')\n",
    "fig.show()"
   ]
  },
  {
   "cell_type": "markdown",
   "metadata": {},
   "source": [
    "## Plot Percentage Share of the Total Number of Songs Released Each Year for Each Emotion Over Time "
   ]
  },
  {
   "cell_type": "code",
   "execution_count": 16,
   "metadata": {},
   "outputs": [],
   "source": [
    "release_date_total_counts = combined_dataset['release_date'].value_counts().to_dict()"
   ]
  },
  {
   "cell_type": "code",
   "execution_count": 17,
   "metadata": {},
   "outputs": [],
   "source": [
    "emotion_percentages_per_year_df = deepcopy(emotion_counts_per_year_df)"
   ]
  },
  {
   "cell_type": "code",
   "execution_count": 18,
   "metadata": {},
   "outputs": [],
   "source": [
    "emotion_percentages_per_year_df['count'] = emotion_counts_per_year_df.apply(normalize_counts, release_date_total_counts=release_date_total_counts, axis=1)\n",
    "emotion_percentages_per_year_df = emotion_percentages_per_year_df.rename(columns={'count': 'percentage_share'})"
   ]
  },
  {
   "cell_type": "code",
   "execution_count": 19,
   "metadata": {},
   "outputs": [
    {
     "data": {
      "text/html": [
       "<div>\n",
       "<style scoped>\n",
       "    .dataframe tbody tr th:only-of-type {\n",
       "        vertical-align: middle;\n",
       "    }\n",
       "\n",
       "    .dataframe tbody tr th {\n",
       "        vertical-align: top;\n",
       "    }\n",
       "\n",
       "    .dataframe thead th {\n",
       "        text-align: right;\n",
       "    }\n",
       "</style>\n",
       "<table border=\"1\" class=\"dataframe\">\n",
       "  <thead>\n",
       "    <tr style=\"text-align: right;\">\n",
       "      <th></th>\n",
       "      <th>release_date</th>\n",
       "      <th>emotion</th>\n",
       "      <th>percentage_share</th>\n",
       "    </tr>\n",
       "  </thead>\n",
       "  <tbody>\n",
       "    <tr>\n",
       "      <th>0</th>\n",
       "      <td>1950</td>\n",
       "      <td>sadness</td>\n",
       "      <td>25.490196</td>\n",
       "    </tr>\n",
       "    <tr>\n",
       "      <th>1</th>\n",
       "      <td>1950</td>\n",
       "      <td>joy</td>\n",
       "      <td>60.784314</td>\n",
       "    </tr>\n",
       "    <tr>\n",
       "      <th>2</th>\n",
       "      <td>1950</td>\n",
       "      <td>fear</td>\n",
       "      <td>3.921569</td>\n",
       "    </tr>\n",
       "    <tr>\n",
       "      <th>3</th>\n",
       "      <td>1950</td>\n",
       "      <td>love</td>\n",
       "      <td>1.960784</td>\n",
       "    </tr>\n",
       "    <tr>\n",
       "      <th>4</th>\n",
       "      <td>1950</td>\n",
       "      <td>anger</td>\n",
       "      <td>5.882353</td>\n",
       "    </tr>\n",
       "  </tbody>\n",
       "</table>\n",
       "</div>"
      ],
      "text/plain": [
       "   release_date  emotion  percentage_share\n",
       "0          1950  sadness         25.490196\n",
       "1          1950      joy         60.784314\n",
       "2          1950     fear          3.921569\n",
       "3          1950     love          1.960784\n",
       "4          1950    anger          5.882353"
      ]
     },
     "execution_count": 19,
     "metadata": {},
     "output_type": "execute_result"
    }
   ],
   "source": [
    "emotion_percentages_per_year_df.head()"
   ]
  },
  {
   "cell_type": "markdown",
   "metadata": {},
   "source": [
    "### Plotting all Emotions Together "
   ]
  },
  {
   "cell_type": "code",
   "execution_count": 20,
   "metadata": {},
   "outputs": [
    {
     "data": {
      "application/vnd.plotly.v1+json": {
       "config": {
        "plotlyServerURL": "https://plot.ly"
       },
       "data": [
        {
         "hovertemplate": "emotion=sadness<br>release_date=%{x}<br>percentage_share=%{y}<extra></extra>",
         "legendgroup": "sadness",
         "line": {
          "color": "#636efa",
          "dash": "solid"
         },
         "marker": {
          "symbol": "circle"
         },
         "mode": "lines",
         "name": "sadness",
         "orientation": "v",
         "showlegend": true,
         "type": "scatter",
         "x": [
          1950,
          1951,
          1952,
          1953,
          1954,
          1955,
          1956,
          1957,
          1958,
          1959,
          1960,
          1961,
          1962,
          1963,
          1964,
          1965,
          1966,
          1967,
          1968,
          1969,
          1970,
          1971,
          1972,
          1973,
          1974,
          1975,
          1976,
          1977,
          1978,
          1979,
          1980,
          1981,
          1982,
          1983,
          1984,
          1985,
          1986,
          1987,
          1988,
          1989,
          1990,
          1991,
          1992,
          1993,
          1994,
          1995,
          1996,
          1997,
          1998,
          1999,
          2000,
          2001,
          2002,
          2003,
          2004,
          2005,
          2006,
          2007,
          2008,
          2009,
          2010,
          2011,
          2012,
          2013,
          2014,
          2015,
          2016,
          2017,
          2018,
          2019
         ],
         "xaxis": "x",
         "y": [
          25.49019607843137,
          29.310344827586203,
          30,
          31.25,
          21.100917431192663,
          27.358490566037734,
          25.5,
          35.86497890295359,
          25.087108013937282,
          27.24358974358974,
          27.73722627737226,
          29.88929889298893,
          34.3042071197411,
          34.68834688346883,
          28.198433420365536,
          36.79775280898877,
          34.11078717201166,
          30.96446700507614,
          33.24742268041237,
          28.57142857142857,
          25.568181818181817,
          26.446280991735538,
          25.787965616045845,
          26.02040816326531,
          22.375690607734807,
          31.44963144963145,
          26.12359550561798,
          25.46728971962617,
          31.808278867102395,
          29.81366459627329,
          26.719056974459725,
          28.46153846153846,
          30.561330561330564,
          26.61596958174905,
          28.210526315789476,
          29.975429975429975,
          27.586206896551722,
          30.344827586206897,
          31.990521327014214,
          28.899082568807337,
          30.582524271844658,
          26.043737574552683,
          28.74015748031496,
          30.309278350515463,
          29.677419354838708,
          27.79220779220779,
          27.9126213592233,
          29.776674937965257,
          27.669902912621357,
          27.33050847457627,
          24.54308093994778,
          29.613733905579398,
          32.76231263383298,
          30.851063829787233,
          26.513569937369518,
          30.227272727272727,
          29.411764705882355,
          28.78787878787879,
          33.265306122448976,
          27.80569514237856,
          26.794258373205743,
          28.06026365348399,
          29.591836734693878,
          26.25,
          26.443202979515828,
          29.983792544570502,
          29.080675422138835,
          27.575757575757574,
          27.565084226646245,
          25.0936329588015
         ],
         "yaxis": "y"
        },
        {
         "hovertemplate": "emotion=joy<br>release_date=%{x}<br>percentage_share=%{y}<extra></extra>",
         "legendgroup": "joy",
         "line": {
          "color": "#EF553B",
          "dash": "solid"
         },
         "marker": {
          "symbol": "circle"
         },
         "mode": "lines",
         "name": "joy",
         "orientation": "v",
         "showlegend": true,
         "type": "scatter",
         "x": [
          1950,
          1951,
          1952,
          1953,
          1954,
          1955,
          1956,
          1957,
          1958,
          1959,
          1960,
          1961,
          1962,
          1963,
          1964,
          1965,
          1966,
          1967,
          1968,
          1969,
          1970,
          1971,
          1972,
          1973,
          1974,
          1975,
          1976,
          1977,
          1978,
          1979,
          1980,
          1981,
          1982,
          1983,
          1984,
          1985,
          1986,
          1987,
          1988,
          1989,
          1990,
          1991,
          1992,
          1993,
          1994,
          1995,
          1996,
          1997,
          1998,
          1999,
          2000,
          2001,
          2002,
          2003,
          2004,
          2005,
          2006,
          2007,
          2008,
          2009,
          2010,
          2011,
          2012,
          2013,
          2014,
          2015,
          2016,
          2017,
          2018,
          2019
         ],
         "xaxis": "x",
         "y": [
          60.78431372549019,
          55.172413793103445,
          50,
          39.58333333333333,
          56.88073394495413,
          54.71698113207547,
          56.49999999999999,
          46.835443037974684,
          50.174216027874564,
          50.96153846153846,
          54.379562043795616,
          47.97047970479705,
          49.83818770226537,
          46.883468834688344,
          50.391644908616186,
          45.78651685393258,
          51.31195335276968,
          49.23857868020304,
          48.1958762886598,
          49.68944099378882,
          56.53409090909091,
          54.269972451790636,
          51.57593123209169,
          54.33673469387755,
          53.86740331491713,
          50.61425061425061,
          53.93258426966292,
          53.50467289719626,
          48.5838779956427,
          49.4824016563147,
          48.1335952848723,
          49.23076923076923,
          45.11434511434512,
          47.52851711026616,
          44.21052631578947,
          46.928746928746925,
          51.293103448275865,
          52.18390804597701,
          46.91943127962085,
          49.31192660550459,
          47.57281553398058,
          50.49701789264414,
          48.62204724409449,
          48.865979381443296,
          50.752688172043015,
          49.35064935064935,
          49.75728155339806,
          49.62779156327544,
          48.786407766990294,
          50,
          53.26370757180157,
          48.06866952789699,
          43.897216274089935,
          45.744680851063826,
          51.356993736951985,
          47.04545454545455,
          51.23339658444023,
          50.649350649350644,
          45.91836734693878,
          48.91122278056951,
          50.717703349282296,
          48.39924670433145,
          49.82993197278912,
          55.17857142857143,
          51.02420856610801,
          46.19124797406807,
          49.15572232645403,
          51.515151515151516,
          50.22970903522205,
          52.99625468164793
         ],
         "yaxis": "y"
        },
        {
         "hovertemplate": "emotion=fear<br>release_date=%{x}<br>percentage_share=%{y}<extra></extra>",
         "legendgroup": "fear",
         "line": {
          "color": "#00cc96",
          "dash": "solid"
         },
         "marker": {
          "symbol": "circle"
         },
         "mode": "lines",
         "name": "fear",
         "orientation": "v",
         "showlegend": true,
         "type": "scatter",
         "x": [
          1950,
          1951,
          1952,
          1953,
          1954,
          1955,
          1956,
          1957,
          1958,
          1959,
          1960,
          1961,
          1962,
          1963,
          1964,
          1965,
          1966,
          1967,
          1968,
          1969,
          1970,
          1971,
          1972,
          1973,
          1974,
          1975,
          1976,
          1977,
          1978,
          1979,
          1980,
          1981,
          1982,
          1983,
          1984,
          1985,
          1986,
          1987,
          1988,
          1989,
          1990,
          1991,
          1992,
          1993,
          1994,
          1995,
          1996,
          1997,
          1998,
          1999,
          2000,
          2001,
          2002,
          2003,
          2004,
          2005,
          2006,
          2007,
          2008,
          2009,
          2010,
          2011,
          2012,
          2013,
          2014,
          2015,
          2016,
          2017,
          2018,
          2019
         ],
         "xaxis": "x",
         "y": [
          3.9215686274509802,
          0,
          3.3333333333333335,
          0,
          1.834862385321101,
          3.7735849056603774,
          2.5,
          1.6877637130801686,
          1.7421602787456445,
          2.2435897435897436,
          1.824817518248175,
          1.107011070110701,
          2.26537216828479,
          2.9810298102981028,
          2.8720626631853787,
          2.247191011235955,
          1.1661807580174928,
          1.7766497461928936,
          4.123711340206185,
          3.4161490683229814,
          3.6931818181818183,
          4.132231404958678,
          2.865329512893983,
          3.316326530612245,
          4.143646408839778,
          3.6855036855036856,
          1.6853932584269662,
          2.803738317757009,
          3.7037037037037033,
          3.3126293995859215,
          3.3398821218074657,
          3.653846153846154,
          5.613305613305614,
          4.562737642585551,
          4.631578947368421,
          3.194103194103194,
          2.1551724137931036,
          3.218390804597701,
          1.8957345971563981,
          2.7522935779816518,
          4.12621359223301,
          3.5785288270377733,
          2.559055118110236,
          2.6804123711340204,
          3.010752688172043,
          2.857142857142857,
          4.854368932038835,
          3.970223325062035,
          4.12621359223301,
          3.389830508474576,
          4.699738903394255,
          4.07725321888412,
          4.925053533190578,
          4.25531914893617,
          2.7139874739039667,
          2.0454545454545454,
          1.5180265654648957,
          4.545454545454546,
          3.2653061224489797,
          3.350083752093802,
          3.588516746411483,
          4.708097928436912,
          4.931972789115646,
          3.392857142857143,
          3.7243947858473,
          3.2414910858995136,
          3.189493433395872,
          4.090909090909091,
          2.909647779479326,
          1.6853932584269662
         ],
         "yaxis": "y"
        },
        {
         "hovertemplate": "emotion=love<br>release_date=%{x}<br>percentage_share=%{y}<extra></extra>",
         "legendgroup": "love",
         "line": {
          "color": "#ab63fa",
          "dash": "solid"
         },
         "marker": {
          "symbol": "circle"
         },
         "mode": "lines",
         "name": "love",
         "orientation": "v",
         "showlegend": true,
         "type": "scatter",
         "x": [
          1950,
          1951,
          1952,
          1953,
          1954,
          1955,
          1956,
          1957,
          1958,
          1959,
          1960,
          1961,
          1962,
          1963,
          1964,
          1965,
          1966,
          1967,
          1968,
          1969,
          1970,
          1971,
          1972,
          1973,
          1974,
          1975,
          1976,
          1977,
          1978,
          1979,
          1980,
          1981,
          1982,
          1983,
          1984,
          1985,
          1986,
          1987,
          1988,
          1989,
          1990,
          1991,
          1992,
          1993,
          1994,
          1995,
          1996,
          1997,
          1998,
          1999,
          2000,
          2001,
          2002,
          2003,
          2004,
          2005,
          2006,
          2007,
          2008,
          2009,
          2010,
          2011,
          2012,
          2013,
          2014,
          2015,
          2016,
          2017,
          2018,
          2019
         ],
         "xaxis": "x",
         "y": [
          1.9607843137254901,
          6.896551724137931,
          8.333333333333332,
          14.583333333333334,
          12.844036697247708,
          5.660377358490567,
          7.5,
          8.016877637130802,
          10.452961672473867,
          9.935897435897436,
          6.934306569343065,
          8.856088560885608,
          5.501618122977346,
          8.130081300813007,
          6.527415143603134,
          3.932584269662921,
          4.664723032069971,
          4.568527918781726,
          4.123711340206185,
          4.037267080745342,
          3.6931818181818183,
          1.3774104683195594,
          3.151862464183381,
          3.316326530612245,
          4.696132596685083,
          2.9484029484029484,
          3.089887640449438,
          7.009345794392523,
          3.0501089324618738,
          1.8633540372670807,
          3.536345776031434,
          1.7307692307692308,
          1.8711018711018712,
          3.2319391634980987,
          4.631578947368421,
          2.211302211302211,
          5.172413793103448,
          2.0689655172413794,
          3.7914691943127963,
          4.587155963302752,
          1.9417475728155338,
          5.36779324055666,
          4.52755905511811,
          2.6804123711340204,
          2.795698924731183,
          4.415584415584416,
          4.611650485436893,
          2.729528535980149,
          2.912621359223301,
          3.1779661016949152,
          2.610966057441253,
          1.7167381974248928,
          3.2119914346895073,
          2.9787234042553195,
          2.9227557411273484,
          2.5,
          1.8975332068311195,
          1.948051948051948,
          2.0408163265306123,
          2.0100502512562812,
          1.9138755980861244,
          1.3182674199623352,
          1.0204081632653061,
          1.7857142857142856,
          2.60707635009311,
          2.9173419773095626,
          1.6885553470919326,
          1.3636363636363635,
          1.2251148545176112,
          1.1235955056179776
         ],
         "yaxis": "y"
        },
        {
         "hovertemplate": "emotion=anger<br>release_date=%{x}<br>percentage_share=%{y}<extra></extra>",
         "legendgroup": "anger",
         "line": {
          "color": "#FFA15A",
          "dash": "solid"
         },
         "marker": {
          "symbol": "circle"
         },
         "mode": "lines",
         "name": "anger",
         "orientation": "v",
         "showlegend": true,
         "type": "scatter",
         "x": [
          1950,
          1951,
          1952,
          1953,
          1954,
          1955,
          1956,
          1957,
          1958,
          1959,
          1960,
          1961,
          1962,
          1963,
          1964,
          1965,
          1966,
          1967,
          1968,
          1969,
          1970,
          1971,
          1972,
          1973,
          1974,
          1975,
          1976,
          1977,
          1978,
          1979,
          1980,
          1981,
          1982,
          1983,
          1984,
          1985,
          1986,
          1987,
          1988,
          1989,
          1990,
          1991,
          1992,
          1993,
          1994,
          1995,
          1996,
          1997,
          1998,
          1999,
          2000,
          2001,
          2002,
          2003,
          2004,
          2005,
          2006,
          2007,
          2008,
          2009,
          2010,
          2011,
          2012,
          2013,
          2014,
          2015,
          2016,
          2017,
          2018,
          2019
         ],
         "xaxis": "x",
         "y": [
          5.88235294117647,
          8.620689655172415,
          6.666666666666667,
          12.5,
          6.422018348623854,
          7.547169811320755,
          7.000000000000001,
          5.9071729957805905,
          11.498257839721255,
          8.974358974358974,
          9.124087591240876,
          10.33210332103321,
          6.796116504854369,
          6.233062330623306,
          11.488250652741515,
          9.831460674157304,
          8.16326530612245,
          13.19796954314721,
          10.051546391752577,
          13.664596273291925,
          9.659090909090908,
          12.947658402203857,
          16.045845272206304,
          12.755102040816327,
          13.812154696132598,
          10.565110565110565,
          13.48314606741573,
          10.514018691588785,
          11.76470588235294,
          14.906832298136646,
          17.4852652259332,
          15.769230769230768,
          16.008316008316008,
          16.53992395437262,
          17.263157894736842,
          17.444717444717444,
          12.71551724137931,
          11.264367816091953,
          14.218009478672986,
          13.53211009174312,
          14.320388349514563,
          14.115308151093439,
          14.37007874015748,
          14.63917525773196,
          13.548387096774196,
          15.064935064935064,
          11.893203883495145,
          12.903225806451612,
          15.53398058252427,
          14.83050847457627,
          13.838120104438643,
          14.806866952789699,
          14.5610278372591,
          13.617021276595745,
          14.822546972860126,
          16.590909090909093,
          15.370018975332068,
          13.41991341991342,
          15.10204081632653,
          16.917922948073702,
          16.028708133971293,
          16.57250470809793,
          13.77551020408163,
          12.5,
          16.201117318435752,
          16.53160453808752,
          16.135084427767353,
          14.242424242424242,
          17.611026033690656,
          18.53932584269663
         ],
         "yaxis": "y"
        },
        {
         "hovertemplate": "emotion=surprise<br>release_date=%{x}<br>percentage_share=%{y}<extra></extra>",
         "legendgroup": "surprise",
         "line": {
          "color": "#19d3f3",
          "dash": "solid"
         },
         "marker": {
          "symbol": "circle"
         },
         "mode": "lines",
         "name": "surprise",
         "orientation": "v",
         "showlegend": true,
         "type": "scatter",
         "x": [
          1950,
          1951,
          1952,
          1953,
          1954,
          1955,
          1956,
          1957,
          1958,
          1959,
          1960,
          1961,
          1962,
          1963,
          1964,
          1965,
          1966,
          1967,
          1968,
          1969,
          1970,
          1971,
          1972,
          1973,
          1974,
          1975,
          1976,
          1977,
          1978,
          1979,
          1980,
          1981,
          1982,
          1983,
          1984,
          1985,
          1986,
          1987,
          1988,
          1989,
          1990,
          1991,
          1992,
          1993,
          1994,
          1995,
          1996,
          1997,
          1998,
          1999,
          2000,
          2001,
          2002,
          2003,
          2004,
          2005,
          2006,
          2007,
          2008,
          2009,
          2010,
          2011,
          2012,
          2013,
          2014,
          2015,
          2016,
          2017,
          2018,
          2019
         ],
         "xaxis": "x",
         "y": [
          1.9607843137254901,
          0,
          1.6666666666666667,
          2.083333333333333,
          0.9174311926605505,
          0.9433962264150944,
          1,
          1.6877637130801686,
          1.0452961672473868,
          0.641025641025641,
          0,
          1.8450184501845017,
          1.2944983818770228,
          1.084010840108401,
          0.5221932114882507,
          1.4044943820224718,
          0.5830903790087464,
          0.25380710659898476,
          0.25773195876288657,
          0.6211180124223602,
          0.8522727272727272,
          0.8264462809917356,
          0.5730659025787965,
          0.25510204081632654,
          1.1049723756906076,
          0.7371007371007371,
          1.6853932584269662,
          0.7009345794392523,
          1.0893246187363834,
          0.6211180124223602,
          0.7858546168958742,
          1.153846153846154,
          0.8316008316008316,
          1.520912547528517,
          1.0526315789473684,
          0.2457002457002457,
          1.0775862068965518,
          0.9195402298850575,
          1.1848341232227488,
          0.9174311926605505,
          1.4563106796116505,
          0.3976143141153081,
          1.1811023622047243,
          0.8247422680412372,
          0.21505376344086022,
          0.5194805194805194,
          0.9708737864077669,
          0.9925558312655087,
          0.9708737864077669,
          1.2711864406779663,
          1.0443864229765014,
          1.7167381974248928,
          0.6423982869379015,
          2.553191489361702,
          1.6701461377870561,
          1.5909090909090908,
          0.5692599620493358,
          0.6493506493506493,
          0.40816326530612246,
          1.0050251256281406,
          0.9569377990430622,
          0.9416195856873822,
          0.8503401360544218,
          0.8928571428571428,
          0,
          1.1345218800648298,
          0.7504690431519699,
          1.2121212121212122,
          0.45941807044410415,
          0.5617977528089888
         ],
         "yaxis": "y"
        }
       ],
       "layout": {
        "legend": {
         "title": {
          "text": "emotion"
         },
         "tracegroupgap": 0
        },
        "template": {
         "data": {
          "bar": [
           {
            "error_x": {
             "color": "#2a3f5f"
            },
            "error_y": {
             "color": "#2a3f5f"
            },
            "marker": {
             "line": {
              "color": "#E5ECF6",
              "width": 0.5
             },
             "pattern": {
              "fillmode": "overlay",
              "size": 10,
              "solidity": 0.2
             }
            },
            "type": "bar"
           }
          ],
          "barpolar": [
           {
            "marker": {
             "line": {
              "color": "#E5ECF6",
              "width": 0.5
             },
             "pattern": {
              "fillmode": "overlay",
              "size": 10,
              "solidity": 0.2
             }
            },
            "type": "barpolar"
           }
          ],
          "carpet": [
           {
            "aaxis": {
             "endlinecolor": "#2a3f5f",
             "gridcolor": "white",
             "linecolor": "white",
             "minorgridcolor": "white",
             "startlinecolor": "#2a3f5f"
            },
            "baxis": {
             "endlinecolor": "#2a3f5f",
             "gridcolor": "white",
             "linecolor": "white",
             "minorgridcolor": "white",
             "startlinecolor": "#2a3f5f"
            },
            "type": "carpet"
           }
          ],
          "choropleth": [
           {
            "colorbar": {
             "outlinewidth": 0,
             "ticks": ""
            },
            "type": "choropleth"
           }
          ],
          "contour": [
           {
            "colorbar": {
             "outlinewidth": 0,
             "ticks": ""
            },
            "colorscale": [
             [
              0,
              "#0d0887"
             ],
             [
              0.1111111111111111,
              "#46039f"
             ],
             [
              0.2222222222222222,
              "#7201a8"
             ],
             [
              0.3333333333333333,
              "#9c179e"
             ],
             [
              0.4444444444444444,
              "#bd3786"
             ],
             [
              0.5555555555555556,
              "#d8576b"
             ],
             [
              0.6666666666666666,
              "#ed7953"
             ],
             [
              0.7777777777777778,
              "#fb9f3a"
             ],
             [
              0.8888888888888888,
              "#fdca26"
             ],
             [
              1,
              "#f0f921"
             ]
            ],
            "type": "contour"
           }
          ],
          "contourcarpet": [
           {
            "colorbar": {
             "outlinewidth": 0,
             "ticks": ""
            },
            "type": "contourcarpet"
           }
          ],
          "heatmap": [
           {
            "colorbar": {
             "outlinewidth": 0,
             "ticks": ""
            },
            "colorscale": [
             [
              0,
              "#0d0887"
             ],
             [
              0.1111111111111111,
              "#46039f"
             ],
             [
              0.2222222222222222,
              "#7201a8"
             ],
             [
              0.3333333333333333,
              "#9c179e"
             ],
             [
              0.4444444444444444,
              "#bd3786"
             ],
             [
              0.5555555555555556,
              "#d8576b"
             ],
             [
              0.6666666666666666,
              "#ed7953"
             ],
             [
              0.7777777777777778,
              "#fb9f3a"
             ],
             [
              0.8888888888888888,
              "#fdca26"
             ],
             [
              1,
              "#f0f921"
             ]
            ],
            "type": "heatmap"
           }
          ],
          "heatmapgl": [
           {
            "colorbar": {
             "outlinewidth": 0,
             "ticks": ""
            },
            "colorscale": [
             [
              0,
              "#0d0887"
             ],
             [
              0.1111111111111111,
              "#46039f"
             ],
             [
              0.2222222222222222,
              "#7201a8"
             ],
             [
              0.3333333333333333,
              "#9c179e"
             ],
             [
              0.4444444444444444,
              "#bd3786"
             ],
             [
              0.5555555555555556,
              "#d8576b"
             ],
             [
              0.6666666666666666,
              "#ed7953"
             ],
             [
              0.7777777777777778,
              "#fb9f3a"
             ],
             [
              0.8888888888888888,
              "#fdca26"
             ],
             [
              1,
              "#f0f921"
             ]
            ],
            "type": "heatmapgl"
           }
          ],
          "histogram": [
           {
            "marker": {
             "pattern": {
              "fillmode": "overlay",
              "size": 10,
              "solidity": 0.2
             }
            },
            "type": "histogram"
           }
          ],
          "histogram2d": [
           {
            "colorbar": {
             "outlinewidth": 0,
             "ticks": ""
            },
            "colorscale": [
             [
              0,
              "#0d0887"
             ],
             [
              0.1111111111111111,
              "#46039f"
             ],
             [
              0.2222222222222222,
              "#7201a8"
             ],
             [
              0.3333333333333333,
              "#9c179e"
             ],
             [
              0.4444444444444444,
              "#bd3786"
             ],
             [
              0.5555555555555556,
              "#d8576b"
             ],
             [
              0.6666666666666666,
              "#ed7953"
             ],
             [
              0.7777777777777778,
              "#fb9f3a"
             ],
             [
              0.8888888888888888,
              "#fdca26"
             ],
             [
              1,
              "#f0f921"
             ]
            ],
            "type": "histogram2d"
           }
          ],
          "histogram2dcontour": [
           {
            "colorbar": {
             "outlinewidth": 0,
             "ticks": ""
            },
            "colorscale": [
             [
              0,
              "#0d0887"
             ],
             [
              0.1111111111111111,
              "#46039f"
             ],
             [
              0.2222222222222222,
              "#7201a8"
             ],
             [
              0.3333333333333333,
              "#9c179e"
             ],
             [
              0.4444444444444444,
              "#bd3786"
             ],
             [
              0.5555555555555556,
              "#d8576b"
             ],
             [
              0.6666666666666666,
              "#ed7953"
             ],
             [
              0.7777777777777778,
              "#fb9f3a"
             ],
             [
              0.8888888888888888,
              "#fdca26"
             ],
             [
              1,
              "#f0f921"
             ]
            ],
            "type": "histogram2dcontour"
           }
          ],
          "mesh3d": [
           {
            "colorbar": {
             "outlinewidth": 0,
             "ticks": ""
            },
            "type": "mesh3d"
           }
          ],
          "parcoords": [
           {
            "line": {
             "colorbar": {
              "outlinewidth": 0,
              "ticks": ""
             }
            },
            "type": "parcoords"
           }
          ],
          "pie": [
           {
            "automargin": true,
            "type": "pie"
           }
          ],
          "scatter": [
           {
            "fillpattern": {
             "fillmode": "overlay",
             "size": 10,
             "solidity": 0.2
            },
            "type": "scatter"
           }
          ],
          "scatter3d": [
           {
            "line": {
             "colorbar": {
              "outlinewidth": 0,
              "ticks": ""
             }
            },
            "marker": {
             "colorbar": {
              "outlinewidth": 0,
              "ticks": ""
             }
            },
            "type": "scatter3d"
           }
          ],
          "scattercarpet": [
           {
            "marker": {
             "colorbar": {
              "outlinewidth": 0,
              "ticks": ""
             }
            },
            "type": "scattercarpet"
           }
          ],
          "scattergeo": [
           {
            "marker": {
             "colorbar": {
              "outlinewidth": 0,
              "ticks": ""
             }
            },
            "type": "scattergeo"
           }
          ],
          "scattergl": [
           {
            "marker": {
             "colorbar": {
              "outlinewidth": 0,
              "ticks": ""
             }
            },
            "type": "scattergl"
           }
          ],
          "scattermapbox": [
           {
            "marker": {
             "colorbar": {
              "outlinewidth": 0,
              "ticks": ""
             }
            },
            "type": "scattermapbox"
           }
          ],
          "scatterpolar": [
           {
            "marker": {
             "colorbar": {
              "outlinewidth": 0,
              "ticks": ""
             }
            },
            "type": "scatterpolar"
           }
          ],
          "scatterpolargl": [
           {
            "marker": {
             "colorbar": {
              "outlinewidth": 0,
              "ticks": ""
             }
            },
            "type": "scatterpolargl"
           }
          ],
          "scatterternary": [
           {
            "marker": {
             "colorbar": {
              "outlinewidth": 0,
              "ticks": ""
             }
            },
            "type": "scatterternary"
           }
          ],
          "surface": [
           {
            "colorbar": {
             "outlinewidth": 0,
             "ticks": ""
            },
            "colorscale": [
             [
              0,
              "#0d0887"
             ],
             [
              0.1111111111111111,
              "#46039f"
             ],
             [
              0.2222222222222222,
              "#7201a8"
             ],
             [
              0.3333333333333333,
              "#9c179e"
             ],
             [
              0.4444444444444444,
              "#bd3786"
             ],
             [
              0.5555555555555556,
              "#d8576b"
             ],
             [
              0.6666666666666666,
              "#ed7953"
             ],
             [
              0.7777777777777778,
              "#fb9f3a"
             ],
             [
              0.8888888888888888,
              "#fdca26"
             ],
             [
              1,
              "#f0f921"
             ]
            ],
            "type": "surface"
           }
          ],
          "table": [
           {
            "cells": {
             "fill": {
              "color": "#EBF0F8"
             },
             "line": {
              "color": "white"
             }
            },
            "header": {
             "fill": {
              "color": "#C8D4E3"
             },
             "line": {
              "color": "white"
             }
            },
            "type": "table"
           }
          ]
         },
         "layout": {
          "annotationdefaults": {
           "arrowcolor": "#2a3f5f",
           "arrowhead": 0,
           "arrowwidth": 1
          },
          "autotypenumbers": "strict",
          "coloraxis": {
           "colorbar": {
            "outlinewidth": 0,
            "ticks": ""
           }
          },
          "colorscale": {
           "diverging": [
            [
             0,
             "#8e0152"
            ],
            [
             0.1,
             "#c51b7d"
            ],
            [
             0.2,
             "#de77ae"
            ],
            [
             0.3,
             "#f1b6da"
            ],
            [
             0.4,
             "#fde0ef"
            ],
            [
             0.5,
             "#f7f7f7"
            ],
            [
             0.6,
             "#e6f5d0"
            ],
            [
             0.7,
             "#b8e186"
            ],
            [
             0.8,
             "#7fbc41"
            ],
            [
             0.9,
             "#4d9221"
            ],
            [
             1,
             "#276419"
            ]
           ],
           "sequential": [
            [
             0,
             "#0d0887"
            ],
            [
             0.1111111111111111,
             "#46039f"
            ],
            [
             0.2222222222222222,
             "#7201a8"
            ],
            [
             0.3333333333333333,
             "#9c179e"
            ],
            [
             0.4444444444444444,
             "#bd3786"
            ],
            [
             0.5555555555555556,
             "#d8576b"
            ],
            [
             0.6666666666666666,
             "#ed7953"
            ],
            [
             0.7777777777777778,
             "#fb9f3a"
            ],
            [
             0.8888888888888888,
             "#fdca26"
            ],
            [
             1,
             "#f0f921"
            ]
           ],
           "sequentialminus": [
            [
             0,
             "#0d0887"
            ],
            [
             0.1111111111111111,
             "#46039f"
            ],
            [
             0.2222222222222222,
             "#7201a8"
            ],
            [
             0.3333333333333333,
             "#9c179e"
            ],
            [
             0.4444444444444444,
             "#bd3786"
            ],
            [
             0.5555555555555556,
             "#d8576b"
            ],
            [
             0.6666666666666666,
             "#ed7953"
            ],
            [
             0.7777777777777778,
             "#fb9f3a"
            ],
            [
             0.8888888888888888,
             "#fdca26"
            ],
            [
             1,
             "#f0f921"
            ]
           ]
          },
          "colorway": [
           "#636efa",
           "#EF553B",
           "#00cc96",
           "#ab63fa",
           "#FFA15A",
           "#19d3f3",
           "#FF6692",
           "#B6E880",
           "#FF97FF",
           "#FECB52"
          ],
          "font": {
           "color": "#2a3f5f"
          },
          "geo": {
           "bgcolor": "white",
           "lakecolor": "white",
           "landcolor": "#E5ECF6",
           "showlakes": true,
           "showland": true,
           "subunitcolor": "white"
          },
          "hoverlabel": {
           "align": "left"
          },
          "hovermode": "closest",
          "mapbox": {
           "style": "light"
          },
          "paper_bgcolor": "white",
          "plot_bgcolor": "#E5ECF6",
          "polar": {
           "angularaxis": {
            "gridcolor": "white",
            "linecolor": "white",
            "ticks": ""
           },
           "bgcolor": "#E5ECF6",
           "radialaxis": {
            "gridcolor": "white",
            "linecolor": "white",
            "ticks": ""
           }
          },
          "scene": {
           "xaxis": {
            "backgroundcolor": "#E5ECF6",
            "gridcolor": "white",
            "gridwidth": 2,
            "linecolor": "white",
            "showbackground": true,
            "ticks": "",
            "zerolinecolor": "white"
           },
           "yaxis": {
            "backgroundcolor": "#E5ECF6",
            "gridcolor": "white",
            "gridwidth": 2,
            "linecolor": "white",
            "showbackground": true,
            "ticks": "",
            "zerolinecolor": "white"
           },
           "zaxis": {
            "backgroundcolor": "#E5ECF6",
            "gridcolor": "white",
            "gridwidth": 2,
            "linecolor": "white",
            "showbackground": true,
            "ticks": "",
            "zerolinecolor": "white"
           }
          },
          "shapedefaults": {
           "line": {
            "color": "#2a3f5f"
           }
          },
          "ternary": {
           "aaxis": {
            "gridcolor": "white",
            "linecolor": "white",
            "ticks": ""
           },
           "baxis": {
            "gridcolor": "white",
            "linecolor": "white",
            "ticks": ""
           },
           "bgcolor": "#E5ECF6",
           "caxis": {
            "gridcolor": "white",
            "linecolor": "white",
            "ticks": ""
           }
          },
          "title": {
           "x": 0.05
          },
          "xaxis": {
           "automargin": true,
           "gridcolor": "white",
           "linecolor": "white",
           "ticks": "",
           "title": {
            "standoff": 15
           },
           "zerolinecolor": "white",
           "zerolinewidth": 2
          },
          "yaxis": {
           "automargin": true,
           "gridcolor": "white",
           "linecolor": "white",
           "ticks": "",
           "title": {
            "standoff": 15
           },
           "zerolinecolor": "white",
           "zerolinewidth": 2
          }
         }
        },
        "title": {
         "text": "Percentage Share of Each Emotion Over Time"
        },
        "xaxis": {
         "anchor": "y",
         "domain": [
          0,
          1
         ],
         "title": {
          "text": "release_date"
         }
        },
        "yaxis": {
         "anchor": "x",
         "domain": [
          0,
          1
         ],
         "title": {
          "text": "percentage_share"
         }
        }
       }
      }
     },
     "metadata": {},
     "output_type": "display_data"
    }
   ],
   "source": [
    "fig = px.line(emotion_percentages_per_year_df, x=\"release_date\", y=\"percentage_share\", color='emotion', title='Percentage Share of Each Emotion Over Time')\n",
    "fig.show()"
   ]
  },
  {
   "cell_type": "markdown",
   "metadata": {},
   "source": [
    "### Making Subplots for Each Emotion "
   ]
  },
  {
   "cell_type": "code",
   "execution_count": 21,
   "metadata": {},
   "outputs": [
    {
     "data": {
      "text/plain": [
       "{'anger', 'fear', 'joy', 'love', 'sadness', 'surprise'}"
      ]
     },
     "execution_count": 21,
     "metadata": {},
     "output_type": "execute_result"
    }
   ],
   "source": [
    "emotion_labels = set(sorted(emotion_percentages_per_year_df['emotion'].values.tolist()))\n",
    "emotion_labels"
   ]
  },
  {
   "cell_type": "code",
   "execution_count": 22,
   "metadata": {},
   "outputs": [
    {
     "data": {
      "application/vnd.plotly.v1+json": {
       "config": {
        "plotlyServerURL": "https://plot.ly"
       },
       "data": [
        {
         "mode": "lines",
         "name": "joy",
         "type": "scatter",
         "x": [
          1950,
          1951,
          1952,
          1953,
          1954,
          1955,
          1956,
          1957,
          1958,
          1959,
          1960,
          1961,
          1962,
          1963,
          1964,
          1965,
          1966,
          1967,
          1968,
          1969,
          1970,
          1971,
          1972,
          1973,
          1974,
          1975,
          1976,
          1977,
          1978,
          1979,
          1980,
          1981,
          1982,
          1983,
          1984,
          1985,
          1986,
          1987,
          1988,
          1989,
          1990,
          1991,
          1992,
          1993,
          1994,
          1995,
          1996,
          1997,
          1998,
          1999,
          2000,
          2001,
          2002,
          2003,
          2004,
          2005,
          2006,
          2007,
          2008,
          2009,
          2010,
          2011,
          2012,
          2013,
          2014,
          2015,
          2016,
          2017,
          2018,
          2019
         ],
         "xaxis": "x",
         "y": [
          60.78431372549019,
          55.172413793103445,
          50,
          39.58333333333333,
          56.88073394495413,
          54.71698113207547,
          56.49999999999999,
          46.835443037974684,
          50.174216027874564,
          50.96153846153846,
          54.379562043795616,
          47.97047970479705,
          49.83818770226537,
          46.883468834688344,
          50.391644908616186,
          45.78651685393258,
          51.31195335276968,
          49.23857868020304,
          48.1958762886598,
          49.68944099378882,
          56.53409090909091,
          54.269972451790636,
          51.57593123209169,
          54.33673469387755,
          53.86740331491713,
          50.61425061425061,
          53.93258426966292,
          53.50467289719626,
          48.5838779956427,
          49.4824016563147,
          48.1335952848723,
          49.23076923076923,
          45.11434511434512,
          47.52851711026616,
          44.21052631578947,
          46.928746928746925,
          51.293103448275865,
          52.18390804597701,
          46.91943127962085,
          49.31192660550459,
          47.57281553398058,
          50.49701789264414,
          48.62204724409449,
          48.865979381443296,
          50.752688172043015,
          49.35064935064935,
          49.75728155339806,
          49.62779156327544,
          48.786407766990294,
          50,
          53.26370757180157,
          48.06866952789699,
          43.897216274089935,
          45.744680851063826,
          51.356993736951985,
          47.04545454545455,
          51.23339658444023,
          50.649350649350644,
          45.91836734693878,
          48.91122278056951,
          50.717703349282296,
          48.39924670433145,
          49.82993197278912,
          55.17857142857143,
          51.02420856610801,
          46.19124797406807,
          49.15572232645403,
          51.515151515151516,
          50.22970903522205,
          52.99625468164793
         ],
         "yaxis": "y"
        },
        {
         "line": {
          "color": "black",
          "dash": "dot"
         },
         "mode": "lines",
         "name": "joy trend",
         "type": "scatter",
         "x": [
          1950,
          1951,
          1952,
          1953,
          1954,
          1955,
          1956,
          1957,
          1958,
          1959,
          1960,
          1961,
          1962,
          1963,
          1964,
          1965,
          1966,
          1967,
          1968,
          1969,
          1970,
          1971,
          1972,
          1973,
          1974,
          1975,
          1976,
          1977,
          1978,
          1979,
          1980,
          1981,
          1982,
          1983,
          1984,
          1985,
          1986,
          1987,
          1988,
          1989,
          1990,
          1991,
          1992,
          1993,
          1994,
          1995,
          1996,
          1997,
          1998,
          1999,
          2000,
          2001,
          2002,
          2003,
          2004,
          2005,
          2006,
          2007,
          2008,
          2009,
          2010,
          2011,
          2012,
          2013,
          2014,
          2015,
          2016,
          2017,
          2018,
          2019
         ],
         "xaxis": "x",
         "y": [
          51.38005719570607,
          51.34337270477447,
          51.30668821384285,
          51.27000372291123,
          51.23331923197961,
          51.19663474104799,
          51.15995025011637,
          51.12326575918475,
          51.08658126825313,
          51.04989677732151,
          51.01321228638989,
          50.97652779545827,
          50.93984330452666,
          50.90315881359504,
          50.86647432266342,
          50.8297898317318,
          50.79310534080018,
          50.75642084986856,
          50.71973635893694,
          50.68305186800532,
          50.6463673770737,
          50.60968288614208,
          50.57299839521046,
          50.53631390427884,
          50.499629413347236,
          50.462944922415616,
          50.426260431483996,
          50.389575940552376,
          50.352891449620756,
          50.316206958689136,
          50.279522467757516,
          50.242837976825896,
          50.206153485894276,
          50.169468994962656,
          50.13278450403104,
          50.09610001309943,
          50.05941552216781,
          50.02273103123619,
          49.98604654030457,
          49.94936204937295,
          49.91267755844133,
          49.87599306750971,
          49.83930857657809,
          49.80262408564647,
          49.76593959471485,
          49.72925510378323,
          49.69257061285161,
          49.655886121920005,
          49.619201630988385,
          49.582517140056765,
          49.545832649125146,
          49.509148158193526,
          49.472463667261906,
          49.435779176330286,
          49.399094685398666,
          49.362410194467046,
          49.325725703535426,
          49.289041212603806,
          49.2523567216722,
          49.21567223074058,
          49.17898773980896,
          49.14230324887734,
          49.10561875794572,
          49.0689342670141,
          49.03224977608248,
          48.99556528515086,
          48.95888079421924,
          48.92219630328762,
          48.885511812356,
          48.84882732142438
         ],
         "yaxis": "y"
        },
        {
         "mode": "lines",
         "name": "anger",
         "type": "scatter",
         "x": [
          1950,
          1951,
          1952,
          1953,
          1954,
          1955,
          1956,
          1957,
          1958,
          1959,
          1960,
          1961,
          1962,
          1963,
          1964,
          1965,
          1966,
          1967,
          1968,
          1969,
          1970,
          1971,
          1972,
          1973,
          1974,
          1975,
          1976,
          1977,
          1978,
          1979,
          1980,
          1981,
          1982,
          1983,
          1984,
          1985,
          1986,
          1987,
          1988,
          1989,
          1990,
          1991,
          1992,
          1993,
          1994,
          1995,
          1996,
          1997,
          1998,
          1999,
          2000,
          2001,
          2002,
          2003,
          2004,
          2005,
          2006,
          2007,
          2008,
          2009,
          2010,
          2011,
          2012,
          2013,
          2014,
          2015,
          2016,
          2017,
          2018,
          2019
         ],
         "xaxis": "x2",
         "y": [
          5.88235294117647,
          8.620689655172415,
          6.666666666666667,
          12.5,
          6.422018348623854,
          7.547169811320755,
          7.000000000000001,
          5.9071729957805905,
          11.498257839721255,
          8.974358974358974,
          9.124087591240876,
          10.33210332103321,
          6.796116504854369,
          6.233062330623306,
          11.488250652741515,
          9.831460674157304,
          8.16326530612245,
          13.19796954314721,
          10.051546391752577,
          13.664596273291925,
          9.659090909090908,
          12.947658402203857,
          16.045845272206304,
          12.755102040816327,
          13.812154696132598,
          10.565110565110565,
          13.48314606741573,
          10.514018691588785,
          11.76470588235294,
          14.906832298136646,
          17.4852652259332,
          15.769230769230768,
          16.008316008316008,
          16.53992395437262,
          17.263157894736842,
          17.444717444717444,
          12.71551724137931,
          11.264367816091953,
          14.218009478672986,
          13.53211009174312,
          14.320388349514563,
          14.115308151093439,
          14.37007874015748,
          14.63917525773196,
          13.548387096774196,
          15.064935064935064,
          11.893203883495145,
          12.903225806451612,
          15.53398058252427,
          14.83050847457627,
          13.838120104438643,
          14.806866952789699,
          14.5610278372591,
          13.617021276595745,
          14.822546972860126,
          16.590909090909093,
          15.370018975332068,
          13.41991341991342,
          15.10204081632653,
          16.917922948073702,
          16.028708133971293,
          16.57250470809793,
          13.77551020408163,
          12.5,
          16.201117318435752,
          16.53160453808752,
          16.135084427767353,
          14.242424242424242,
          17.611026033690656,
          18.53932584269663
         ],
         "yaxis": "y2"
        },
        {
         "line": {
          "color": "black",
          "dash": "solid"
         },
         "mode": "lines",
         "name": "anger trend",
         "type": "scatter",
         "x": [
          1950,
          1951,
          1952,
          1953,
          1954,
          1955,
          1956,
          1957,
          1958,
          1959,
          1960,
          1961,
          1962,
          1963,
          1964,
          1965,
          1966,
          1967,
          1968,
          1969,
          1970,
          1971,
          1972,
          1973,
          1974,
          1975,
          1976,
          1977,
          1978,
          1979,
          1980,
          1981,
          1982,
          1983,
          1984,
          1985,
          1986,
          1987,
          1988,
          1989,
          1990,
          1991,
          1992,
          1993,
          1994,
          1995,
          1996,
          1997,
          1998,
          1999,
          2000,
          2001,
          2002,
          2003,
          2004,
          2005,
          2006,
          2007,
          2008,
          2009,
          2010,
          2011,
          2012,
          2013,
          2014,
          2015,
          2016,
          2017,
          2018,
          2019
         ],
         "xaxis": "x2",
         "y": [
          8.709665735774337,
          8.832780315616532,
          8.955894895458698,
          9.079009475300865,
          9.202124055143031,
          9.325238634985197,
          9.448353214827364,
          9.57146779466953,
          9.694582374511697,
          9.817696954353863,
          9.94081153419603,
          10.063926114038196,
          10.187040693880363,
          10.310155273722529,
          10.433269853564695,
          10.556384433406862,
          10.679499013249028,
          10.802613593091195,
          10.92572817293339,
          11.048842752775556,
          11.171957332617723,
          11.295071912459889,
          11.418186492302056,
          11.541301072144222,
          11.664415651986388,
          11.787530231828555,
          11.910644811670721,
          12.033759391512888,
          12.156873971355054,
          12.27998855119722,
          12.403103131039387,
          12.526217710881554,
          12.64933229072372,
          12.772446870565886,
          12.895561450408053,
          13.01867603025022,
          13.141790610092414,
          13.26490518993458,
          13.388019769776747,
          13.511134349618914,
          13.63424892946108,
          13.757363509303246,
          13.880478089145413,
          14.00359266898758,
          14.126707248829746,
          14.249821828671912,
          14.372936408514079,
          14.496050988356245,
          14.619165568198412,
          14.742280148040578,
          14.865394727882745,
          14.988509307724911,
          15.111623887567077,
          15.234738467409244,
          15.357853047251439,
          15.480967627093605,
          15.604082206935772,
          15.727196786777938,
          15.850311366620105,
          15.973425946462271,
          16.096540526304437,
          16.219655106146604,
          16.34276968598877,
          16.465884265830937,
          16.588998845673103,
          16.71211342551527,
          16.835228005357436,
          16.958342585199603,
          17.08145716504177,
          17.204571744883935
         ],
         "yaxis": "y2"
        },
        {
         "mode": "lines",
         "name": "love",
         "type": "scatter",
         "x": [
          1950,
          1951,
          1952,
          1953,
          1954,
          1955,
          1956,
          1957,
          1958,
          1959,
          1960,
          1961,
          1962,
          1963,
          1964,
          1965,
          1966,
          1967,
          1968,
          1969,
          1970,
          1971,
          1972,
          1973,
          1974,
          1975,
          1976,
          1977,
          1978,
          1979,
          1980,
          1981,
          1982,
          1983,
          1984,
          1985,
          1986,
          1987,
          1988,
          1989,
          1990,
          1991,
          1992,
          1993,
          1994,
          1995,
          1996,
          1997,
          1998,
          1999,
          2000,
          2001,
          2002,
          2003,
          2004,
          2005,
          2006,
          2007,
          2008,
          2009,
          2010,
          2011,
          2012,
          2013,
          2014,
          2015,
          2016,
          2017,
          2018,
          2019
         ],
         "xaxis": "x3",
         "y": [
          1.9607843137254901,
          6.896551724137931,
          8.333333333333332,
          14.583333333333334,
          12.844036697247708,
          5.660377358490567,
          7.5,
          8.016877637130802,
          10.452961672473867,
          9.935897435897436,
          6.934306569343065,
          8.856088560885608,
          5.501618122977346,
          8.130081300813007,
          6.527415143603134,
          3.932584269662921,
          4.664723032069971,
          4.568527918781726,
          4.123711340206185,
          4.037267080745342,
          3.6931818181818183,
          1.3774104683195594,
          3.151862464183381,
          3.316326530612245,
          4.696132596685083,
          2.9484029484029484,
          3.089887640449438,
          7.009345794392523,
          3.0501089324618738,
          1.8633540372670807,
          3.536345776031434,
          1.7307692307692308,
          1.8711018711018712,
          3.2319391634980987,
          4.631578947368421,
          2.211302211302211,
          5.172413793103448,
          2.0689655172413794,
          3.7914691943127963,
          4.587155963302752,
          1.9417475728155338,
          5.36779324055666,
          4.52755905511811,
          2.6804123711340204,
          2.795698924731183,
          4.415584415584416,
          4.611650485436893,
          2.729528535980149,
          2.912621359223301,
          3.1779661016949152,
          2.610966057441253,
          1.7167381974248928,
          3.2119914346895073,
          2.9787234042553195,
          2.9227557411273484,
          2.5,
          1.8975332068311195,
          1.948051948051948,
          2.0408163265306123,
          2.0100502512562812,
          1.9138755980861244,
          1.3182674199623352,
          1.0204081632653061,
          1.7857142857142856,
          2.60707635009311,
          2.9173419773095626,
          1.6885553470919326,
          1.3636363636363635,
          1.2251148545176112,
          1.1235955056179776
         ],
         "yaxis": "y3"
        },
        {
         "line": {
          "color": "black",
          "dash": "solid"
         },
         "mode": "lines",
         "name": "love trend",
         "type": "scatter",
         "x": [
          1950,
          1951,
          1952,
          1953,
          1954,
          1955,
          1956,
          1957,
          1958,
          1959,
          1960,
          1961,
          1962,
          1963,
          1964,
          1965,
          1966,
          1967,
          1968,
          1969,
          1970,
          1971,
          1972,
          1973,
          1974,
          1975,
          1976,
          1977,
          1978,
          1979,
          1980,
          1981,
          1982,
          1983,
          1984,
          1985,
          1986,
          1987,
          1988,
          1989,
          1990,
          1991,
          1992,
          1993,
          1994,
          1995,
          1996,
          1997,
          1998,
          1999,
          2000,
          2001,
          2002,
          2003,
          2004,
          2005,
          2006,
          2007,
          2008,
          2009,
          2010,
          2011,
          2012,
          2013,
          2014,
          2015,
          2016,
          2017,
          2018,
          2019
         ],
         "xaxis": "x3",
         "y": [
          7.392832175418732,
          7.297160562151532,
          7.201488948884332,
          7.105817335617132,
          7.010145722349932,
          6.914474109082732,
          6.818802495815532,
          6.7231308825483325,
          6.6274592692811325,
          6.531787656013961,
          6.436116042746761,
          6.340444429479561,
          6.244772816212361,
          6.149101202945161,
          6.053429589677961,
          5.957757976410761,
          5.862086363143561,
          5.766414749876361,
          5.670743136609161,
          5.575071523341961,
          5.479399910074761,
          5.383728296807561,
          5.288056683540361,
          5.192385070273161,
          5.096713457005961,
          5.001041843738761,
          4.905370230471561,
          4.809698617204361,
          4.7140270039371615,
          4.6183553906699615,
          4.5226837774027615,
          4.4270121641355615,
          4.331340550868362,
          4.235668937601162,
          4.139997324333962,
          4.044325711066762,
          3.9486540977995617,
          3.8529824845323617,
          3.7573108712651617,
          3.6616392579979617,
          3.5659676447307618,
          3.470296031463562,
          3.374624418196362,
          3.278952804929162,
          3.183281191661962,
          3.0876095783947903,
          2.9919379651275904,
          2.8962663518603904,
          2.8005947385931904,
          2.7049231253259904,
          2.6092515120587905,
          2.5135798987915905,
          2.4179082855243905,
          2.3222366722571905,
          2.2265650589899906,
          2.1308934457227906,
          2.0352218324555906,
          1.9395502191883907,
          1.8438786059211907,
          1.7482069926539907,
          1.6525353793867907,
          1.5568637661195908,
          1.4611921528523908,
          1.3655205395851908,
          1.2698489263179908,
          1.1741773130507909,
          1.078505699783591,
          0.9828340865163909,
          0.887162473249191,
          0.791490859981991
         ],
         "yaxis": "y3"
        },
        {
         "mode": "lines",
         "name": "surprise",
         "type": "scatter",
         "x": [
          1950,
          1951,
          1952,
          1953,
          1954,
          1955,
          1956,
          1957,
          1958,
          1959,
          1960,
          1961,
          1962,
          1963,
          1964,
          1965,
          1966,
          1967,
          1968,
          1969,
          1970,
          1971,
          1972,
          1973,
          1974,
          1975,
          1976,
          1977,
          1978,
          1979,
          1980,
          1981,
          1982,
          1983,
          1984,
          1985,
          1986,
          1987,
          1988,
          1989,
          1990,
          1991,
          1992,
          1993,
          1994,
          1995,
          1996,
          1997,
          1998,
          1999,
          2000,
          2001,
          2002,
          2003,
          2004,
          2005,
          2006,
          2007,
          2008,
          2009,
          2010,
          2011,
          2012,
          2013,
          2014,
          2015,
          2016,
          2017,
          2018,
          2019
         ],
         "xaxis": "x4",
         "y": [
          1.9607843137254901,
          0,
          1.6666666666666667,
          2.083333333333333,
          0.9174311926605505,
          0.9433962264150944,
          1,
          1.6877637130801686,
          1.0452961672473868,
          0.641025641025641,
          0,
          1.8450184501845017,
          1.2944983818770228,
          1.084010840108401,
          0.5221932114882507,
          1.4044943820224718,
          0.5830903790087464,
          0.25380710659898476,
          0.25773195876288657,
          0.6211180124223602,
          0.8522727272727272,
          0.8264462809917356,
          0.5730659025787965,
          0.25510204081632654,
          1.1049723756906076,
          0.7371007371007371,
          1.6853932584269662,
          0.7009345794392523,
          1.0893246187363834,
          0.6211180124223602,
          0.7858546168958742,
          1.153846153846154,
          0.8316008316008316,
          1.520912547528517,
          1.0526315789473684,
          0.2457002457002457,
          1.0775862068965518,
          0.9195402298850575,
          1.1848341232227488,
          0.9174311926605505,
          1.4563106796116505,
          0.3976143141153081,
          1.1811023622047243,
          0.8247422680412372,
          0.21505376344086022,
          0.5194805194805194,
          0.9708737864077669,
          0.9925558312655087,
          0.9708737864077669,
          1.2711864406779663,
          1.0443864229765014,
          1.7167381974248928,
          0.6423982869379015,
          2.553191489361702,
          1.6701461377870561,
          1.5909090909090908,
          0.5692599620493358,
          0.6493506493506493,
          0.40816326530612246,
          1.0050251256281406,
          0.9569377990430622,
          0.9416195856873822,
          0.8503401360544218,
          0.8928571428571428,
          0,
          1.1345218800648298,
          0.7504690431519699,
          1.2121212121212122,
          0.45941807044410415,
          0.5617977528089888
         ],
         "yaxis": "y4"
        },
        {
         "line": {
          "color": "black",
          "dash": "dot"
         },
         "mode": "lines",
         "name": "surprise trend",
         "type": "scatter",
         "x": [
          1950,
          1951,
          1952,
          1953,
          1954,
          1955,
          1956,
          1957,
          1958,
          1959,
          1960,
          1961,
          1962,
          1963,
          1964,
          1965,
          1966,
          1967,
          1968,
          1969,
          1970,
          1971,
          1972,
          1973,
          1974,
          1975,
          1976,
          1977,
          1978,
          1979,
          1980,
          1981,
          1982,
          1983,
          1984,
          1985,
          1986,
          1987,
          1988,
          1989,
          1990,
          1991,
          1992,
          1993,
          1994,
          1995,
          1996,
          1997,
          1998,
          1999,
          2000,
          2001,
          2002,
          2003,
          2004,
          2005,
          2006,
          2007,
          2008,
          2009,
          2010,
          2011,
          2012,
          2013,
          2014,
          2015,
          2016,
          2017,
          2018,
          2019
         ],
         "xaxis": "x4",
         "y": [
          1.0188726455924462,
          1.0168170298770978,
          1.0147614141617503,
          1.0127057984464019,
          1.0106501827310534,
          1.008594567015706,
          1.0065389513003575,
          1.0044833355850091,
          1.0024277198696616,
          1.0003721041543132,
          0.9983164884389648,
          0.9962608727236173,
          0.9942052570082689,
          0.9921496412929205,
          0.990094025577573,
          0.9880384098622246,
          0.9859827941468762,
          0.9839271784315287,
          0.9818715627161803,
          0.9798159470008319,
          0.9777603312854843,
          0.9757047155701359,
          0.9736490998547884,
          0.97159348413944,
          0.9695378684240916,
          0.9674822527087441,
          0.9654266369933957,
          0.9633710212780473,
          0.9613154055626998,
          0.9592597898473514,
          0.957204174132003,
          0.9551485584166555,
          0.9530929427013071,
          0.9510373269859587,
          0.9489817112706112,
          0.9469260955552627,
          0.9448704798399143,
          0.9428148641245668,
          0.9407592484092184,
          0.93870363269387,
          0.9366480169785225,
          0.9345924012631741,
          0.9325367855478257,
          0.9304811698324782,
          0.9284255541171298,
          0.9263699384017814,
          0.9243143226864339,
          0.9222587069710855,
          0.9202030912557371,
          0.9181474755403896,
          0.9160918598250412,
          0.9140362441096928,
          0.9119806283943452,
          0.9099250126789968,
          0.9078693969636484,
          0.9058137812483009,
          0.9037581655329525,
          0.9017025498176041,
          0.8996469341022566,
          0.8975913183869082,
          0.8955357026715598,
          0.8934800869562123,
          0.8914244712408639,
          0.8893688555255155,
          0.887313239810168,
          0.8852576240948196,
          0.8832020083794712,
          0.8811463926641236,
          0.8790907769487752,
          0.8770351612334268
         ],
         "yaxis": "y4"
        },
        {
         "mode": "lines",
         "name": "fear",
         "type": "scatter",
         "x": [
          1950,
          1951,
          1952,
          1953,
          1954,
          1955,
          1956,
          1957,
          1958,
          1959,
          1960,
          1961,
          1962,
          1963,
          1964,
          1965,
          1966,
          1967,
          1968,
          1969,
          1970,
          1971,
          1972,
          1973,
          1974,
          1975,
          1976,
          1977,
          1978,
          1979,
          1980,
          1981,
          1982,
          1983,
          1984,
          1985,
          1986,
          1987,
          1988,
          1989,
          1990,
          1991,
          1992,
          1993,
          1994,
          1995,
          1996,
          1997,
          1998,
          1999,
          2000,
          2001,
          2002,
          2003,
          2004,
          2005,
          2006,
          2007,
          2008,
          2009,
          2010,
          2011,
          2012,
          2013,
          2014,
          2015,
          2016,
          2017,
          2018,
          2019
         ],
         "xaxis": "x5",
         "y": [
          3.9215686274509802,
          0,
          3.3333333333333335,
          0,
          1.834862385321101,
          3.7735849056603774,
          2.5,
          1.6877637130801686,
          1.7421602787456445,
          2.2435897435897436,
          1.824817518248175,
          1.107011070110701,
          2.26537216828479,
          2.9810298102981028,
          2.8720626631853787,
          2.247191011235955,
          1.1661807580174928,
          1.7766497461928936,
          4.123711340206185,
          3.4161490683229814,
          3.6931818181818183,
          4.132231404958678,
          2.865329512893983,
          3.316326530612245,
          4.143646408839778,
          3.6855036855036856,
          1.6853932584269662,
          2.803738317757009,
          3.7037037037037033,
          3.3126293995859215,
          3.3398821218074657,
          3.653846153846154,
          5.613305613305614,
          4.562737642585551,
          4.631578947368421,
          3.194103194103194,
          2.1551724137931036,
          3.218390804597701,
          1.8957345971563981,
          2.7522935779816518,
          4.12621359223301,
          3.5785288270377733,
          2.559055118110236,
          2.6804123711340204,
          3.010752688172043,
          2.857142857142857,
          4.854368932038835,
          3.970223325062035,
          4.12621359223301,
          3.389830508474576,
          4.699738903394255,
          4.07725321888412,
          4.925053533190578,
          4.25531914893617,
          2.7139874739039667,
          2.0454545454545454,
          1.5180265654648957,
          4.545454545454546,
          3.2653061224489797,
          3.350083752093802,
          3.588516746411483,
          4.708097928436912,
          4.931972789115646,
          3.392857142857143,
          3.7243947858473,
          3.2414910858995136,
          3.189493433395872,
          4.090909090909091,
          2.909647779479326,
          1.6853932584269662
         ],
         "yaxis": "y5"
        },
        {
         "line": {
          "color": "black",
          "dash": "solid"
         },
         "mode": "lines",
         "name": "fear trend",
         "type": "scatter",
         "x": [
          1950,
          1951,
          1952,
          1953,
          1954,
          1955,
          1956,
          1957,
          1958,
          1959,
          1960,
          1961,
          1962,
          1963,
          1964,
          1965,
          1966,
          1967,
          1968,
          1969,
          1970,
          1971,
          1972,
          1973,
          1974,
          1975,
          1976,
          1977,
          1978,
          1979,
          1980,
          1981,
          1982,
          1983,
          1984,
          1985,
          1986,
          1987,
          1988,
          1989,
          1990,
          1991,
          1992,
          1993,
          1994,
          1995,
          1996,
          1997,
          1998,
          1999,
          2000,
          2001,
          2002,
          2003,
          2004,
          2005,
          2006,
          2007,
          2008,
          2009,
          2010,
          2011,
          2012,
          2013,
          2014,
          2015,
          2016,
          2017,
          2018,
          2019
         ],
         "xaxis": "x5",
         "y": [
          2.353585245717497,
          2.3761260298623057,
          2.3986668140071146,
          2.4212075981519163,
          2.443748382296725,
          2.466289166441534,
          2.488829950586343,
          2.511370734731152,
          2.5339115188759607,
          2.5564523030207695,
          2.5789930871655784,
          2.6015338713103873,
          2.624074655455196,
          2.646615439600005,
          2.669156223744814,
          2.6916970078896227,
          2.7142377920344316,
          2.7367785761792405,
          2.7593193603240422,
          2.781860144468851,
          2.80440092861366,
          2.826941712758469,
          2.8494824969032777,
          2.8720232810480866,
          2.8945640651928954,
          2.9171048493377043,
          2.939645633482513,
          2.962186417627322,
          2.984727201772131,
          3.00726798591694,
          3.0298087700617486,
          3.0523495542065575,
          3.0748903383513664,
          3.097431122496168,
          3.119971906640977,
          3.142512690785786,
          3.1650534749305947,
          3.1875942590754036,
          3.2101350432202125,
          3.2326758273650213,
          3.25521661150983,
          3.277757395654639,
          3.300298179799448,
          3.322838963944257,
          3.3453797480890657,
          3.3679205322338746,
          3.3904613163786834,
          3.413002100523485,
          3.435542884668294,
          3.458083668813103,
          3.480624452957912,
          3.5031652371027207,
          3.5257060212475295,
          3.5482468053923384,
          3.5707875895371473,
          3.593328373681956,
          3.615869157826765,
          3.638409941971574,
          3.6609507261163827,
          3.6834915102611916,
          3.7060322944060005,
          3.7285730785508093,
          3.751113862695611,
          3.77365464684042,
          3.796195430985229,
          3.8187362151300377,
          3.8412769992748466,
          3.8638177834196554,
          3.8863585675644643,
          3.908899351709273
         ],
         "yaxis": "y5"
        },
        {
         "mode": "lines",
         "name": "sadness",
         "type": "scatter",
         "x": [
          1950,
          1951,
          1952,
          1953,
          1954,
          1955,
          1956,
          1957,
          1958,
          1959,
          1960,
          1961,
          1962,
          1963,
          1964,
          1965,
          1966,
          1967,
          1968,
          1969,
          1970,
          1971,
          1972,
          1973,
          1974,
          1975,
          1976,
          1977,
          1978,
          1979,
          1980,
          1981,
          1982,
          1983,
          1984,
          1985,
          1986,
          1987,
          1988,
          1989,
          1990,
          1991,
          1992,
          1993,
          1994,
          1995,
          1996,
          1997,
          1998,
          1999,
          2000,
          2001,
          2002,
          2003,
          2004,
          2005,
          2006,
          2007,
          2008,
          2009,
          2010,
          2011,
          2012,
          2013,
          2014,
          2015,
          2016,
          2017,
          2018,
          2019
         ],
         "xaxis": "x6",
         "y": [
          25.49019607843137,
          29.310344827586203,
          30,
          31.25,
          21.100917431192663,
          27.358490566037734,
          25.5,
          35.86497890295359,
          25.087108013937282,
          27.24358974358974,
          27.73722627737226,
          29.88929889298893,
          34.3042071197411,
          34.68834688346883,
          28.198433420365536,
          36.79775280898877,
          34.11078717201166,
          30.96446700507614,
          33.24742268041237,
          28.57142857142857,
          25.568181818181817,
          26.446280991735538,
          25.787965616045845,
          26.02040816326531,
          22.375690607734807,
          31.44963144963145,
          26.12359550561798,
          25.46728971962617,
          31.808278867102395,
          29.81366459627329,
          26.719056974459725,
          28.46153846153846,
          30.561330561330564,
          26.61596958174905,
          28.210526315789476,
          29.975429975429975,
          27.586206896551722,
          30.344827586206897,
          31.990521327014214,
          28.899082568807337,
          30.582524271844658,
          26.043737574552683,
          28.74015748031496,
          30.309278350515463,
          29.677419354838708,
          27.79220779220779,
          27.9126213592233,
          29.776674937965257,
          27.669902912621357,
          27.33050847457627,
          24.54308093994778,
          29.613733905579398,
          32.76231263383298,
          30.851063829787233,
          26.513569937369518,
          30.227272727272727,
          29.411764705882355,
          28.78787878787879,
          33.265306122448976,
          27.80569514237856,
          26.794258373205743,
          28.06026365348399,
          29.591836734693878,
          26.25,
          26.443202979515828,
          29.983792544570502,
          29.080675422138835,
          27.575757575757574,
          27.565084226646245,
          25.0936329588015
         ],
         "yaxis": "y6"
        },
        {
         "line": {
          "color": "black",
          "dash": "dot"
         },
         "mode": "lines",
         "name": "sadness trend",
         "type": "scatter",
         "x": [
          1950,
          1951,
          1952,
          1953,
          1954,
          1955,
          1956,
          1957,
          1958,
          1959,
          1960,
          1961,
          1962,
          1963,
          1964,
          1965,
          1966,
          1967,
          1968,
          1969,
          1970,
          1971,
          1972,
          1973,
          1974,
          1975,
          1976,
          1977,
          1978,
          1979,
          1980,
          1981,
          1982,
          1983,
          1984,
          1985,
          1986,
          1987,
          1988,
          1989,
          1990,
          1991,
          1992,
          1993,
          1994,
          1995,
          1996,
          1997,
          1998,
          1999,
          2000,
          2001,
          2002,
          2003,
          2004,
          2005,
          2006,
          2007,
          2008,
          2009,
          2010,
          2011,
          2012,
          2013,
          2014,
          2015,
          2016,
          2017,
          2018,
          2019
         ],
         "xaxis": "x6",
         "y": [
          29.144987001790923,
          29.13374335771811,
          29.1224997136453,
          29.11125606957249,
          29.10001242549968,
          29.08876878142687,
          29.07752513735406,
          29.06628149328125,
          29.05503784920844,
          29.04379420513563,
          29.03255056106282,
          29.021306916990007,
          29.010063272917197,
          28.998819628844387,
          28.987575984771578,
          28.976332340698765,
          28.965088696625955,
          28.953845052553145,
          28.942601408480336,
          28.931357764407526,
          28.920114120334713,
          28.908870476261903,
          28.897626832189093,
          28.886383188116284,
          28.875139544043474,
          28.86389589997066,
          28.85265225589785,
          28.84140861182504,
          28.830164967752232,
          28.818921323679422,
          28.80767767960661,
          28.7964340355338,
          28.78519039146099,
          28.77394674738818,
          28.762703103315367,
          28.751459459242557,
          28.740215815169748,
          28.728972171096938,
          28.71772852702413,
          28.706484882951315,
          28.695241238878506,
          28.683997594805696,
          28.672753950732886,
          28.661510306660077,
          28.650266662587264,
          28.639023018514454,
          28.627779374441644,
          28.616535730368835,
          28.605292086296025,
          28.59404844222321,
          28.582804798150402,
          28.571561154077592,
          28.560317510004783,
          28.54907386593197,
          28.53783022185916,
          28.52658657778635,
          28.51534293371354,
          28.50409928964073,
          28.492855645567918,
          28.481612001495108,
          28.4703683574223,
          28.45912471334949,
          28.44788106927668,
          28.436637425203866,
          28.425393781131056,
          28.414150137058247,
          28.402906492985437,
          28.391662848912627,
          28.380419204839814,
          28.369175560767005
         ],
         "yaxis": "y6"
        }
       ],
       "layout": {
        "annotations": [
         {
          "font": {
           "size": 16
          },
          "showarrow": false,
          "text": "Joy",
          "x": 0.225,
          "xanchor": "center",
          "xref": "paper",
          "y": 1,
          "yanchor": "bottom",
          "yref": "paper"
         },
         {
          "font": {
           "size": 16
          },
          "showarrow": false,
          "text": "Anger",
          "x": 0.775,
          "xanchor": "center",
          "xref": "paper",
          "y": 1,
          "yanchor": "bottom",
          "yref": "paper"
         },
         {
          "font": {
           "size": 16
          },
          "showarrow": false,
          "text": "Love",
          "x": 0.225,
          "xanchor": "center",
          "xref": "paper",
          "y": 0.6111111111111112,
          "yanchor": "bottom",
          "yref": "paper"
         },
         {
          "font": {
           "size": 16
          },
          "showarrow": false,
          "text": "Surprise",
          "x": 0.775,
          "xanchor": "center",
          "xref": "paper",
          "y": 0.6111111111111112,
          "yanchor": "bottom",
          "yref": "paper"
         },
         {
          "font": {
           "size": 16
          },
          "showarrow": false,
          "text": "Fear",
          "x": 0.225,
          "xanchor": "center",
          "xref": "paper",
          "y": 0.22222222222222224,
          "yanchor": "bottom",
          "yref": "paper"
         },
         {
          "font": {
           "size": 16
          },
          "showarrow": false,
          "text": "Sadness",
          "x": 0.775,
          "xanchor": "center",
          "xref": "paper",
          "y": 0.22222222222222224,
          "yanchor": "bottom",
          "yref": "paper"
         },
         {
          "font": {
           "size": 16
          },
          "showarrow": false,
          "text": "Release Date",
          "x": 0.5,
          "xanchor": "center",
          "xref": "paper",
          "y": 0,
          "yanchor": "top",
          "yref": "paper",
          "yshift": -30
         },
         {
          "font": {
           "size": 16
          },
          "showarrow": false,
          "text": "Percentage Share of Emotion",
          "textangle": -90,
          "x": 0,
          "xanchor": "right",
          "xref": "paper",
          "xshift": -40,
          "y": 0.5,
          "yanchor": "middle",
          "yref": "paper"
         }
        ],
        "height": 600,
        "showlegend": false,
        "template": {
         "data": {
          "bar": [
           {
            "error_x": {
             "color": "#2a3f5f"
            },
            "error_y": {
             "color": "#2a3f5f"
            },
            "marker": {
             "line": {
              "color": "#E5ECF6",
              "width": 0.5
             },
             "pattern": {
              "fillmode": "overlay",
              "size": 10,
              "solidity": 0.2
             }
            },
            "type": "bar"
           }
          ],
          "barpolar": [
           {
            "marker": {
             "line": {
              "color": "#E5ECF6",
              "width": 0.5
             },
             "pattern": {
              "fillmode": "overlay",
              "size": 10,
              "solidity": 0.2
             }
            },
            "type": "barpolar"
           }
          ],
          "carpet": [
           {
            "aaxis": {
             "endlinecolor": "#2a3f5f",
             "gridcolor": "white",
             "linecolor": "white",
             "minorgridcolor": "white",
             "startlinecolor": "#2a3f5f"
            },
            "baxis": {
             "endlinecolor": "#2a3f5f",
             "gridcolor": "white",
             "linecolor": "white",
             "minorgridcolor": "white",
             "startlinecolor": "#2a3f5f"
            },
            "type": "carpet"
           }
          ],
          "choropleth": [
           {
            "colorbar": {
             "outlinewidth": 0,
             "ticks": ""
            },
            "type": "choropleth"
           }
          ],
          "contour": [
           {
            "colorbar": {
             "outlinewidth": 0,
             "ticks": ""
            },
            "colorscale": [
             [
              0,
              "#0d0887"
             ],
             [
              0.1111111111111111,
              "#46039f"
             ],
             [
              0.2222222222222222,
              "#7201a8"
             ],
             [
              0.3333333333333333,
              "#9c179e"
             ],
             [
              0.4444444444444444,
              "#bd3786"
             ],
             [
              0.5555555555555556,
              "#d8576b"
             ],
             [
              0.6666666666666666,
              "#ed7953"
             ],
             [
              0.7777777777777778,
              "#fb9f3a"
             ],
             [
              0.8888888888888888,
              "#fdca26"
             ],
             [
              1,
              "#f0f921"
             ]
            ],
            "type": "contour"
           }
          ],
          "contourcarpet": [
           {
            "colorbar": {
             "outlinewidth": 0,
             "ticks": ""
            },
            "type": "contourcarpet"
           }
          ],
          "heatmap": [
           {
            "colorbar": {
             "outlinewidth": 0,
             "ticks": ""
            },
            "colorscale": [
             [
              0,
              "#0d0887"
             ],
             [
              0.1111111111111111,
              "#46039f"
             ],
             [
              0.2222222222222222,
              "#7201a8"
             ],
             [
              0.3333333333333333,
              "#9c179e"
             ],
             [
              0.4444444444444444,
              "#bd3786"
             ],
             [
              0.5555555555555556,
              "#d8576b"
             ],
             [
              0.6666666666666666,
              "#ed7953"
             ],
             [
              0.7777777777777778,
              "#fb9f3a"
             ],
             [
              0.8888888888888888,
              "#fdca26"
             ],
             [
              1,
              "#f0f921"
             ]
            ],
            "type": "heatmap"
           }
          ],
          "heatmapgl": [
           {
            "colorbar": {
             "outlinewidth": 0,
             "ticks": ""
            },
            "colorscale": [
             [
              0,
              "#0d0887"
             ],
             [
              0.1111111111111111,
              "#46039f"
             ],
             [
              0.2222222222222222,
              "#7201a8"
             ],
             [
              0.3333333333333333,
              "#9c179e"
             ],
             [
              0.4444444444444444,
              "#bd3786"
             ],
             [
              0.5555555555555556,
              "#d8576b"
             ],
             [
              0.6666666666666666,
              "#ed7953"
             ],
             [
              0.7777777777777778,
              "#fb9f3a"
             ],
             [
              0.8888888888888888,
              "#fdca26"
             ],
             [
              1,
              "#f0f921"
             ]
            ],
            "type": "heatmapgl"
           }
          ],
          "histogram": [
           {
            "marker": {
             "pattern": {
              "fillmode": "overlay",
              "size": 10,
              "solidity": 0.2
             }
            },
            "type": "histogram"
           }
          ],
          "histogram2d": [
           {
            "colorbar": {
             "outlinewidth": 0,
             "ticks": ""
            },
            "colorscale": [
             [
              0,
              "#0d0887"
             ],
             [
              0.1111111111111111,
              "#46039f"
             ],
             [
              0.2222222222222222,
              "#7201a8"
             ],
             [
              0.3333333333333333,
              "#9c179e"
             ],
             [
              0.4444444444444444,
              "#bd3786"
             ],
             [
              0.5555555555555556,
              "#d8576b"
             ],
             [
              0.6666666666666666,
              "#ed7953"
             ],
             [
              0.7777777777777778,
              "#fb9f3a"
             ],
             [
              0.8888888888888888,
              "#fdca26"
             ],
             [
              1,
              "#f0f921"
             ]
            ],
            "type": "histogram2d"
           }
          ],
          "histogram2dcontour": [
           {
            "colorbar": {
             "outlinewidth": 0,
             "ticks": ""
            },
            "colorscale": [
             [
              0,
              "#0d0887"
             ],
             [
              0.1111111111111111,
              "#46039f"
             ],
             [
              0.2222222222222222,
              "#7201a8"
             ],
             [
              0.3333333333333333,
              "#9c179e"
             ],
             [
              0.4444444444444444,
              "#bd3786"
             ],
             [
              0.5555555555555556,
              "#d8576b"
             ],
             [
              0.6666666666666666,
              "#ed7953"
             ],
             [
              0.7777777777777778,
              "#fb9f3a"
             ],
             [
              0.8888888888888888,
              "#fdca26"
             ],
             [
              1,
              "#f0f921"
             ]
            ],
            "type": "histogram2dcontour"
           }
          ],
          "mesh3d": [
           {
            "colorbar": {
             "outlinewidth": 0,
             "ticks": ""
            },
            "type": "mesh3d"
           }
          ],
          "parcoords": [
           {
            "line": {
             "colorbar": {
              "outlinewidth": 0,
              "ticks": ""
             }
            },
            "type": "parcoords"
           }
          ],
          "pie": [
           {
            "automargin": true,
            "type": "pie"
           }
          ],
          "scatter": [
           {
            "fillpattern": {
             "fillmode": "overlay",
             "size": 10,
             "solidity": 0.2
            },
            "type": "scatter"
           }
          ],
          "scatter3d": [
           {
            "line": {
             "colorbar": {
              "outlinewidth": 0,
              "ticks": ""
             }
            },
            "marker": {
             "colorbar": {
              "outlinewidth": 0,
              "ticks": ""
             }
            },
            "type": "scatter3d"
           }
          ],
          "scattercarpet": [
           {
            "marker": {
             "colorbar": {
              "outlinewidth": 0,
              "ticks": ""
             }
            },
            "type": "scattercarpet"
           }
          ],
          "scattergeo": [
           {
            "marker": {
             "colorbar": {
              "outlinewidth": 0,
              "ticks": ""
             }
            },
            "type": "scattergeo"
           }
          ],
          "scattergl": [
           {
            "marker": {
             "colorbar": {
              "outlinewidth": 0,
              "ticks": ""
             }
            },
            "type": "scattergl"
           }
          ],
          "scattermapbox": [
           {
            "marker": {
             "colorbar": {
              "outlinewidth": 0,
              "ticks": ""
             }
            },
            "type": "scattermapbox"
           }
          ],
          "scatterpolar": [
           {
            "marker": {
             "colorbar": {
              "outlinewidth": 0,
              "ticks": ""
             }
            },
            "type": "scatterpolar"
           }
          ],
          "scatterpolargl": [
           {
            "marker": {
             "colorbar": {
              "outlinewidth": 0,
              "ticks": ""
             }
            },
            "type": "scatterpolargl"
           }
          ],
          "scatterternary": [
           {
            "marker": {
             "colorbar": {
              "outlinewidth": 0,
              "ticks": ""
             }
            },
            "type": "scatterternary"
           }
          ],
          "surface": [
           {
            "colorbar": {
             "outlinewidth": 0,
             "ticks": ""
            },
            "colorscale": [
             [
              0,
              "#0d0887"
             ],
             [
              0.1111111111111111,
              "#46039f"
             ],
             [
              0.2222222222222222,
              "#7201a8"
             ],
             [
              0.3333333333333333,
              "#9c179e"
             ],
             [
              0.4444444444444444,
              "#bd3786"
             ],
             [
              0.5555555555555556,
              "#d8576b"
             ],
             [
              0.6666666666666666,
              "#ed7953"
             ],
             [
              0.7777777777777778,
              "#fb9f3a"
             ],
             [
              0.8888888888888888,
              "#fdca26"
             ],
             [
              1,
              "#f0f921"
             ]
            ],
            "type": "surface"
           }
          ],
          "table": [
           {
            "cells": {
             "fill": {
              "color": "#EBF0F8"
             },
             "line": {
              "color": "white"
             }
            },
            "header": {
             "fill": {
              "color": "#C8D4E3"
             },
             "line": {
              "color": "white"
             }
            },
            "type": "table"
           }
          ]
         },
         "layout": {
          "annotationdefaults": {
           "arrowcolor": "#2a3f5f",
           "arrowhead": 0,
           "arrowwidth": 1
          },
          "autotypenumbers": "strict",
          "coloraxis": {
           "colorbar": {
            "outlinewidth": 0,
            "ticks": ""
           }
          },
          "colorscale": {
           "diverging": [
            [
             0,
             "#8e0152"
            ],
            [
             0.1,
             "#c51b7d"
            ],
            [
             0.2,
             "#de77ae"
            ],
            [
             0.3,
             "#f1b6da"
            ],
            [
             0.4,
             "#fde0ef"
            ],
            [
             0.5,
             "#f7f7f7"
            ],
            [
             0.6,
             "#e6f5d0"
            ],
            [
             0.7,
             "#b8e186"
            ],
            [
             0.8,
             "#7fbc41"
            ],
            [
             0.9,
             "#4d9221"
            ],
            [
             1,
             "#276419"
            ]
           ],
           "sequential": [
            [
             0,
             "#0d0887"
            ],
            [
             0.1111111111111111,
             "#46039f"
            ],
            [
             0.2222222222222222,
             "#7201a8"
            ],
            [
             0.3333333333333333,
             "#9c179e"
            ],
            [
             0.4444444444444444,
             "#bd3786"
            ],
            [
             0.5555555555555556,
             "#d8576b"
            ],
            [
             0.6666666666666666,
             "#ed7953"
            ],
            [
             0.7777777777777778,
             "#fb9f3a"
            ],
            [
             0.8888888888888888,
             "#fdca26"
            ],
            [
             1,
             "#f0f921"
            ]
           ],
           "sequentialminus": [
            [
             0,
             "#0d0887"
            ],
            [
             0.1111111111111111,
             "#46039f"
            ],
            [
             0.2222222222222222,
             "#7201a8"
            ],
            [
             0.3333333333333333,
             "#9c179e"
            ],
            [
             0.4444444444444444,
             "#bd3786"
            ],
            [
             0.5555555555555556,
             "#d8576b"
            ],
            [
             0.6666666666666666,
             "#ed7953"
            ],
            [
             0.7777777777777778,
             "#fb9f3a"
            ],
            [
             0.8888888888888888,
             "#fdca26"
            ],
            [
             1,
             "#f0f921"
            ]
           ]
          },
          "colorway": [
           "#636efa",
           "#EF553B",
           "#00cc96",
           "#ab63fa",
           "#FFA15A",
           "#19d3f3",
           "#FF6692",
           "#B6E880",
           "#FF97FF",
           "#FECB52"
          ],
          "font": {
           "color": "#2a3f5f"
          },
          "geo": {
           "bgcolor": "white",
           "lakecolor": "white",
           "landcolor": "#E5ECF6",
           "showlakes": true,
           "showland": true,
           "subunitcolor": "white"
          },
          "hoverlabel": {
           "align": "left"
          },
          "hovermode": "closest",
          "mapbox": {
           "style": "light"
          },
          "paper_bgcolor": "white",
          "plot_bgcolor": "#E5ECF6",
          "polar": {
           "angularaxis": {
            "gridcolor": "white",
            "linecolor": "white",
            "ticks": ""
           },
           "bgcolor": "#E5ECF6",
           "radialaxis": {
            "gridcolor": "white",
            "linecolor": "white",
            "ticks": ""
           }
          },
          "scene": {
           "xaxis": {
            "backgroundcolor": "#E5ECF6",
            "gridcolor": "white",
            "gridwidth": 2,
            "linecolor": "white",
            "showbackground": true,
            "ticks": "",
            "zerolinecolor": "white"
           },
           "yaxis": {
            "backgroundcolor": "#E5ECF6",
            "gridcolor": "white",
            "gridwidth": 2,
            "linecolor": "white",
            "showbackground": true,
            "ticks": "",
            "zerolinecolor": "white"
           },
           "zaxis": {
            "backgroundcolor": "#E5ECF6",
            "gridcolor": "white",
            "gridwidth": 2,
            "linecolor": "white",
            "showbackground": true,
            "ticks": "",
            "zerolinecolor": "white"
           }
          },
          "shapedefaults": {
           "line": {
            "color": "#2a3f5f"
           }
          },
          "ternary": {
           "aaxis": {
            "gridcolor": "white",
            "linecolor": "white",
            "ticks": ""
           },
           "baxis": {
            "gridcolor": "white",
            "linecolor": "white",
            "ticks": ""
           },
           "bgcolor": "#E5ECF6",
           "caxis": {
            "gridcolor": "white",
            "linecolor": "white",
            "ticks": ""
           }
          },
          "title": {
           "x": 0.05
          },
          "xaxis": {
           "automargin": true,
           "gridcolor": "white",
           "linecolor": "white",
           "ticks": "",
           "title": {
            "standoff": 15
           },
           "zerolinecolor": "white",
           "zerolinewidth": 2
          },
          "yaxis": {
           "automargin": true,
           "gridcolor": "white",
           "linecolor": "white",
           "ticks": "",
           "title": {
            "standoff": 15
           },
           "zerolinecolor": "white",
           "zerolinewidth": 2
          }
         }
        },
        "title": {
         "text": "Trends in Percentage Share of Each of Six Emotions Detected<br>in Song Lyrics Per Release Date (Grouped by Year), 1950-2019",
         "x": 0.5,
         "y": 0.95
        },
        "width": 800,
        "xaxis": {
         "anchor": "y",
         "domain": [
          0,
          0.45
         ]
        },
        "xaxis2": {
         "anchor": "y2",
         "domain": [
          0.55,
          1
         ]
        },
        "xaxis3": {
         "anchor": "y3",
         "domain": [
          0,
          0.45
         ]
        },
        "xaxis4": {
         "anchor": "y4",
         "domain": [
          0.55,
          1
         ]
        },
        "xaxis5": {
         "anchor": "y5",
         "domain": [
          0,
          0.45
         ]
        },
        "xaxis6": {
         "anchor": "y6",
         "domain": [
          0.55,
          1
         ]
        },
        "yaxis": {
         "anchor": "x",
         "domain": [
          0.7777777777777778,
          1
         ]
        },
        "yaxis2": {
         "anchor": "x2",
         "domain": [
          0.7777777777777778,
          1
         ]
        },
        "yaxis3": {
         "anchor": "x3",
         "domain": [
          0.3888888888888889,
          0.6111111111111112
         ]
        },
        "yaxis4": {
         "anchor": "x4",
         "domain": [
          0.3888888888888889,
          0.6111111111111112
         ]
        },
        "yaxis5": {
         "anchor": "x5",
         "domain": [
          0,
          0.22222222222222224
         ]
        },
        "yaxis6": {
         "anchor": "x6",
         "domain": [
          0,
          0.22222222222222224
         ]
        }
       }
      }
     },
     "metadata": {},
     "output_type": "display_data"
    }
   ],
   "source": [
    "emotion_titles = tuple([emotion.capitalize() for emotion in emotion_labels])\n",
    "emotion_trend_significance = {}\n",
    "\n",
    "fig = make_subplots(rows=3, cols=2, subplot_titles=emotion_titles, y_title='Percentage Share of Emotion', x_title='Release Date')\n",
    "\n",
    "row_val = 0\n",
    "col_val = 0\n",
    "\n",
    "for idx, emotion in enumerate(emotion_labels):\n",
    "    emotion_df = emotion_percentages_per_year_df.where(emotion_percentages_per_year_df['emotion']==emotion).dropna()\n",
    "    trendline, significant = fit_trendline_to_emotion_df(emotion_df)\n",
    "    emotion_trend_significance[emotion] = significant\n",
    "\n",
    "    if idx % 2 == 0:\n",
    "        row_val+=1\n",
    "    col_val+=1\n",
    "    if col_val > 2:\n",
    "        col_val = 1\n",
    "\n",
    "    # Add the trendline with modified appearance based on significance\n",
    "    trendline_color = 'black'\n",
    "    trendline_dash = 'solid' if significant else 'dot'\n",
    "    \n",
    "    fig.add_trace(go.Scatter(x=emotion_df['release_date'], y=emotion_df['percentage_share'], mode='lines', name=emotion), row=row_val, col=col_val)\n",
    "    fig.add_trace(go.Scatter(x=emotion_df['release_date'], y=trendline, mode='lines', name=f'{emotion} trend', line=dict(color=trendline_color, dash=trendline_dash)), row=row_val, col=col_val)\n",
    "\n",
    "\n",
    "fig.update_layout(height=600, width=800, title_x=0.5, title_y=.95, title_text=\"Trends in Percentage Share of Each of Six Emotions Detected<br>in Song Lyrics Per Release Date (Grouped by Year), 1950-2019\", showlegend=False)\n",
    "fig.show()\n",
    "\n",
    "\n"
   ]
  },
  {
   "cell_type": "markdown",
   "metadata": {},
   "source": [
    "# Save Processed Dataframe to CSV"
   ]
  },
  {
   "cell_type": "code",
   "execution_count": null,
   "metadata": {},
   "outputs": [],
   "source": [
    "if overwrite_saved:\n",
    "    emotion_percentages_per_year_df.to_csv(percent_change_over_time_csv_path)"
   ]
  }
 ],
 "metadata": {
  "kernelspec": {
   "display_name": "venv311",
   "language": "python",
   "name": "python3"
  },
  "language_info": {
   "codemirror_mode": {
    "name": "ipython",
    "version": 3
   },
   "file_extension": ".py",
   "mimetype": "text/x-python",
   "name": "python",
   "nbconvert_exporter": "python",
   "pygments_lexer": "ipython3",
   "version": "3.11.9"
  }
 },
 "nbformat": 4,
 "nbformat_minor": 2
}
